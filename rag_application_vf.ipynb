{
  "cells": [
    {
      "cell_type": "code",
      "execution_count": 2,
      "metadata": {
        "id": "DdR-ZvMec6eb"
      },
      "outputs": [
        {
          "name": "stdout",
          "output_type": "stream",
          "text": [
            "Note: you may need to restart the kernel to use updated packages.\n"
          ]
        }
      ],
      "source": [
        "pip install -q langchain"
      ]
    },
    {
      "cell_type": "code",
      "execution_count": 3,
      "metadata": {},
      "outputs": [
        {
          "name": "stdout",
          "output_type": "stream",
          "text": [
            "Requirement already satisfied: langchain-community in c:\\users\\lenovo\\onedrive\\bureau\\myproject\\.venv\\lib\\site-packages (0.0.37)\n",
            "Requirement already satisfied: PyYAML>=5.3 in c:\\users\\lenovo\\onedrive\\bureau\\myproject\\.venv\\lib\\site-packages (from langchain-community) (6.0.1)\n",
            "Requirement already satisfied: SQLAlchemy<3,>=1.4 in c:\\users\\lenovo\\onedrive\\bureau\\myproject\\.venv\\lib\\site-packages (from langchain-community) (2.0.30)\n",
            "Requirement already satisfied: aiohttp<4.0.0,>=3.8.3 in c:\\users\\lenovo\\onedrive\\bureau\\myproject\\.venv\\lib\\site-packages (from langchain-community) (3.9.5)\n",
            "Requirement already satisfied: dataclasses-json<0.7,>=0.5.7 in c:\\users\\lenovo\\onedrive\\bureau\\myproject\\.venv\\lib\\site-packages (from langchain-community) (0.6.5)\n",
            "Requirement already satisfied: langchain-core<0.2.0,>=0.1.51 in c:\\users\\lenovo\\onedrive\\bureau\\myproject\\.venv\\lib\\site-packages (from langchain-community) (0.1.52)\n",
            "Requirement already satisfied: langsmith<0.2.0,>=0.1.0 in c:\\users\\lenovo\\onedrive\\bureau\\myproject\\.venv\\lib\\site-packages (from langchain-community) (0.1.55)\n",
            "Requirement already satisfied: numpy<2,>=1 in c:\\users\\lenovo\\onedrive\\bureau\\myproject\\.venv\\lib\\site-packages (from langchain-community) (1.26.4)\n",
            "Requirement already satisfied: requests<3,>=2 in c:\\users\\lenovo\\onedrive\\bureau\\myproject\\.venv\\lib\\site-packages (from langchain-community) (2.31.0)\n",
            "Requirement already satisfied: tenacity<9.0.0,>=8.1.0 in c:\\users\\lenovo\\onedrive\\bureau\\myproject\\.venv\\lib\\site-packages (from langchain-community) (8.3.0)\n",
            "Requirement already satisfied: aiosignal>=1.1.2 in c:\\users\\lenovo\\onedrive\\bureau\\myproject\\.venv\\lib\\site-packages (from aiohttp<4.0.0,>=3.8.3->langchain-community) (1.3.1)\n",
            "Requirement already satisfied: attrs>=17.3.0 in c:\\users\\lenovo\\onedrive\\bureau\\myproject\\.venv\\lib\\site-packages (from aiohttp<4.0.0,>=3.8.3->langchain-community) (23.2.0)\n",
            "Requirement already satisfied: frozenlist>=1.1.1 in c:\\users\\lenovo\\onedrive\\bureau\\myproject\\.venv\\lib\\site-packages (from aiohttp<4.0.0,>=3.8.3->langchain-community) (1.4.1)\n",
            "Requirement already satisfied: multidict<7.0,>=4.5 in c:\\users\\lenovo\\onedrive\\bureau\\myproject\\.venv\\lib\\site-packages (from aiohttp<4.0.0,>=3.8.3->langchain-community) (6.0.5)\n",
            "Requirement already satisfied: yarl<2.0,>=1.0 in c:\\users\\lenovo\\onedrive\\bureau\\myproject\\.venv\\lib\\site-packages (from aiohttp<4.0.0,>=3.8.3->langchain-community) (1.9.4)\n",
            "Requirement already satisfied: marshmallow<4.0.0,>=3.18.0 in c:\\users\\lenovo\\onedrive\\bureau\\myproject\\.venv\\lib\\site-packages (from dataclasses-json<0.7,>=0.5.7->langchain-community) (3.21.2)\n",
            "Requirement already satisfied: typing-inspect<1,>=0.4.0 in c:\\users\\lenovo\\onedrive\\bureau\\myproject\\.venv\\lib\\site-packages (from dataclasses-json<0.7,>=0.5.7->langchain-community) (0.9.0)\n",
            "Requirement already satisfied: jsonpatch<2.0,>=1.33 in c:\\users\\lenovo\\onedrive\\bureau\\myproject\\.venv\\lib\\site-packages (from langchain-core<0.2.0,>=0.1.51->langchain-community) (1.33)\n",
            "Requirement already satisfied: packaging<24.0,>=23.2 in c:\\users\\lenovo\\onedrive\\bureau\\myproject\\.venv\\lib\\site-packages (from langchain-core<0.2.0,>=0.1.51->langchain-community) (23.2)\n",
            "Requirement already satisfied: pydantic<3,>=1 in c:\\users\\lenovo\\onedrive\\bureau\\myproject\\.venv\\lib\\site-packages (from langchain-core<0.2.0,>=0.1.51->langchain-community) (2.7.1)\n",
            "Requirement already satisfied: orjson<4.0.0,>=3.9.14 in c:\\users\\lenovo\\onedrive\\bureau\\myproject\\.venv\\lib\\site-packages (from langsmith<0.2.0,>=0.1.0->langchain-community) (3.10.3)\n",
            "Requirement already satisfied: charset-normalizer<4,>=2 in c:\\users\\lenovo\\onedrive\\bureau\\myproject\\.venv\\lib\\site-packages (from requests<3,>=2->langchain-community) (3.3.2)\n",
            "Requirement already satisfied: idna<4,>=2.5 in c:\\users\\lenovo\\onedrive\\bureau\\myproject\\.venv\\lib\\site-packages (from requests<3,>=2->langchain-community) (3.7)\n",
            "Requirement already satisfied: urllib3<3,>=1.21.1 in c:\\users\\lenovo\\onedrive\\bureau\\myproject\\.venv\\lib\\site-packages (from requests<3,>=2->langchain-community) (2.2.1)\n",
            "Requirement already satisfied: certifi>=2017.4.17 in c:\\users\\lenovo\\onedrive\\bureau\\myproject\\.venv\\lib\\site-packages (from requests<3,>=2->langchain-community) (2024.2.2)\n",
            "Requirement already satisfied: typing-extensions>=4.6.0 in c:\\users\\lenovo\\onedrive\\bureau\\myproject\\.venv\\lib\\site-packages (from SQLAlchemy<3,>=1.4->langchain-community) (4.11.0)\n",
            "Requirement already satisfied: greenlet!=0.4.17 in c:\\users\\lenovo\\onedrive\\bureau\\myproject\\.venv\\lib\\site-packages (from SQLAlchemy<3,>=1.4->langchain-community) (3.0.3)\n",
            "Requirement already satisfied: jsonpointer>=1.9 in c:\\users\\lenovo\\onedrive\\bureau\\myproject\\.venv\\lib\\site-packages (from jsonpatch<2.0,>=1.33->langchain-core<0.2.0,>=0.1.51->langchain-community) (2.4)\n",
            "Requirement already satisfied: annotated-types>=0.4.0 in c:\\users\\lenovo\\onedrive\\bureau\\myproject\\.venv\\lib\\site-packages (from pydantic<3,>=1->langchain-core<0.2.0,>=0.1.51->langchain-community) (0.6.0)\n",
            "Requirement already satisfied: pydantic-core==2.18.2 in c:\\users\\lenovo\\onedrive\\bureau\\myproject\\.venv\\lib\\site-packages (from pydantic<3,>=1->langchain-core<0.2.0,>=0.1.51->langchain-community) (2.18.2)\n",
            "Requirement already satisfied: mypy-extensions>=0.3.0 in c:\\users\\lenovo\\onedrive\\bureau\\myproject\\.venv\\lib\\site-packages (from typing-inspect<1,>=0.4.0->dataclasses-json<0.7,>=0.5.7->langchain-community) (1.0.0)\n",
            "Note: you may need to restart the kernel to use updated packages.\n"
          ]
        }
      ],
      "source": [
        "pip install -U langchain-community"
      ]
    },
    {
      "cell_type": "code",
      "execution_count": 4,
      "metadata": {},
      "outputs": [
        {
          "name": "stdout",
          "output_type": "stream",
          "text": [
            "Requirement already satisfied: langchain-google-genai in c:\\users\\lenovo\\onedrive\\bureau\\myproject\\.venv\\lib\\site-packages (1.0.3)\n",
            "Requirement already satisfied: google-generativeai<0.6.0,>=0.5.2 in c:\\users\\lenovo\\onedrive\\bureau\\myproject\\.venv\\lib\\site-packages (from langchain-google-genai) (0.5.2)\n",
            "Requirement already satisfied: langchain-core<0.2,>=0.1.45 in c:\\users\\lenovo\\onedrive\\bureau\\myproject\\.venv\\lib\\site-packages (from langchain-google-genai) (0.1.52)\n",
            "Requirement already satisfied: google-ai-generativelanguage==0.6.2 in c:\\users\\lenovo\\onedrive\\bureau\\myproject\\.venv\\lib\\site-packages (from google-generativeai<0.6.0,>=0.5.2->langchain-google-genai) (0.6.2)\n",
            "Requirement already satisfied: google-api-core in c:\\users\\lenovo\\onedrive\\bureau\\myproject\\.venv\\lib\\site-packages (from google-generativeai<0.6.0,>=0.5.2->langchain-google-genai) (2.19.0)\n",
            "Requirement already satisfied: google-api-python-client in c:\\users\\lenovo\\onedrive\\bureau\\myproject\\.venv\\lib\\site-packages (from google-generativeai<0.6.0,>=0.5.2->langchain-google-genai) (2.128.0)\n",
            "Requirement already satisfied: google-auth>=2.15.0 in c:\\users\\lenovo\\onedrive\\bureau\\myproject\\.venv\\lib\\site-packages (from google-generativeai<0.6.0,>=0.5.2->langchain-google-genai) (2.29.0)\n",
            "Requirement already satisfied: protobuf in c:\\users\\lenovo\\onedrive\\bureau\\myproject\\.venv\\lib\\site-packages (from google-generativeai<0.6.0,>=0.5.2->langchain-google-genai) (4.25.3)\n",
            "Requirement already satisfied: pydantic in c:\\users\\lenovo\\onedrive\\bureau\\myproject\\.venv\\lib\\site-packages (from google-generativeai<0.6.0,>=0.5.2->langchain-google-genai) (2.7.1)\n",
            "Requirement already satisfied: tqdm in c:\\users\\lenovo\\onedrive\\bureau\\myproject\\.venv\\lib\\site-packages (from google-generativeai<0.6.0,>=0.5.2->langchain-google-genai) (4.66.4)\n",
            "Requirement already satisfied: typing-extensions in c:\\users\\lenovo\\onedrive\\bureau\\myproject\\.venv\\lib\\site-packages (from google-generativeai<0.6.0,>=0.5.2->langchain-google-genai) (4.11.0)\n",
            "Requirement already satisfied: proto-plus<2.0.0dev,>=1.22.3 in c:\\users\\lenovo\\onedrive\\bureau\\myproject\\.venv\\lib\\site-packages (from google-ai-generativelanguage==0.6.2->google-generativeai<0.6.0,>=0.5.2->langchain-google-genai) (1.23.0)\n",
            "Requirement already satisfied: PyYAML>=5.3 in c:\\users\\lenovo\\onedrive\\bureau\\myproject\\.venv\\lib\\site-packages (from langchain-core<0.2,>=0.1.45->langchain-google-genai) (6.0.1)\n",
            "Requirement already satisfied: jsonpatch<2.0,>=1.33 in c:\\users\\lenovo\\onedrive\\bureau\\myproject\\.venv\\lib\\site-packages (from langchain-core<0.2,>=0.1.45->langchain-google-genai) (1.33)\n",
            "Requirement already satisfied: langsmith<0.2.0,>=0.1.0 in c:\\users\\lenovo\\onedrive\\bureau\\myproject\\.venv\\lib\\site-packages (from langchain-core<0.2,>=0.1.45->langchain-google-genai) (0.1.55)\n",
            "Requirement already satisfied: packaging<24.0,>=23.2 in c:\\users\\lenovo\\onedrive\\bureau\\myproject\\.venv\\lib\\site-packages (from langchain-core<0.2,>=0.1.45->langchain-google-genai) (23.2)\n",
            "Requirement already satisfied: tenacity<9.0.0,>=8.1.0 in c:\\users\\lenovo\\onedrive\\bureau\\myproject\\.venv\\lib\\site-packages (from langchain-core<0.2,>=0.1.45->langchain-google-genai) (8.3.0)\n",
            "Requirement already satisfied: googleapis-common-protos<2.0.dev0,>=1.56.2 in c:\\users\\lenovo\\onedrive\\bureau\\myproject\\.venv\\lib\\site-packages (from google-api-core->google-generativeai<0.6.0,>=0.5.2->langchain-google-genai) (1.63.0)\n",
            "Requirement already satisfied: requests<3.0.0.dev0,>=2.18.0 in c:\\users\\lenovo\\onedrive\\bureau\\myproject\\.venv\\lib\\site-packages (from google-api-core->google-generativeai<0.6.0,>=0.5.2->langchain-google-genai) (2.31.0)\n",
            "Requirement already satisfied: cachetools<6.0,>=2.0.0 in c:\\users\\lenovo\\onedrive\\bureau\\myproject\\.venv\\lib\\site-packages (from google-auth>=2.15.0->google-generativeai<0.6.0,>=0.5.2->langchain-google-genai) (5.3.3)\n",
            "Requirement already satisfied: pyasn1-modules>=0.2.1 in c:\\users\\lenovo\\onedrive\\bureau\\myproject\\.venv\\lib\\site-packages (from google-auth>=2.15.0->google-generativeai<0.6.0,>=0.5.2->langchain-google-genai) (0.4.0)\n",
            "Requirement already satisfied: rsa<5,>=3.1.4 in c:\\users\\lenovo\\onedrive\\bureau\\myproject\\.venv\\lib\\site-packages (from google-auth>=2.15.0->google-generativeai<0.6.0,>=0.5.2->langchain-google-genai) (4.9)\n",
            "Requirement already satisfied: jsonpointer>=1.9 in c:\\users\\lenovo\\onedrive\\bureau\\myproject\\.venv\\lib\\site-packages (from jsonpatch<2.0,>=1.33->langchain-core<0.2,>=0.1.45->langchain-google-genai) (2.4)\n",
            "Requirement already satisfied: orjson<4.0.0,>=3.9.14 in c:\\users\\lenovo\\onedrive\\bureau\\myproject\\.venv\\lib\\site-packages (from langsmith<0.2.0,>=0.1.0->langchain-core<0.2,>=0.1.45->langchain-google-genai) (3.10.3)\n",
            "Requirement already satisfied: annotated-types>=0.4.0 in c:\\users\\lenovo\\onedrive\\bureau\\myproject\\.venv\\lib\\site-packages (from pydantic->google-generativeai<0.6.0,>=0.5.2->langchain-google-genai) (0.6.0)\n",
            "Requirement already satisfied: pydantic-core==2.18.2 in c:\\users\\lenovo\\onedrive\\bureau\\myproject\\.venv\\lib\\site-packages (from pydantic->google-generativeai<0.6.0,>=0.5.2->langchain-google-genai) (2.18.2)\n",
            "Requirement already satisfied: httplib2<1.dev0,>=0.19.0 in c:\\users\\lenovo\\onedrive\\bureau\\myproject\\.venv\\lib\\site-packages (from google-api-python-client->google-generativeai<0.6.0,>=0.5.2->langchain-google-genai) (0.22.0)\n",
            "Requirement already satisfied: google-auth-httplib2<1.0.0,>=0.2.0 in c:\\users\\lenovo\\onedrive\\bureau\\myproject\\.venv\\lib\\site-packages (from google-api-python-client->google-generativeai<0.6.0,>=0.5.2->langchain-google-genai) (0.2.0)\n",
            "Requirement already satisfied: uritemplate<5,>=3.0.1 in c:\\users\\lenovo\\onedrive\\bureau\\myproject\\.venv\\lib\\site-packages (from google-api-python-client->google-generativeai<0.6.0,>=0.5.2->langchain-google-genai) (4.1.1)\n",
            "Requirement already satisfied: colorama in c:\\users\\lenovo\\onedrive\\bureau\\myproject\\.venv\\lib\\site-packages (from tqdm->google-generativeai<0.6.0,>=0.5.2->langchain-google-genai) (0.4.6)\n",
            "Requirement already satisfied: grpcio<2.0dev,>=1.33.2 in c:\\users\\lenovo\\onedrive\\bureau\\myproject\\.venv\\lib\\site-packages (from google-api-core[grpc]!=2.0.*,!=2.1.*,!=2.10.*,!=2.2.*,!=2.3.*,!=2.4.*,!=2.5.*,!=2.6.*,!=2.7.*,!=2.8.*,!=2.9.*,<3.0.0dev,>=1.34.1->google-ai-generativelanguage==0.6.2->google-generativeai<0.6.0,>=0.5.2->langchain-google-genai) (1.63.0)\n",
            "Requirement already satisfied: grpcio-status<2.0.dev0,>=1.33.2 in c:\\users\\lenovo\\onedrive\\bureau\\myproject\\.venv\\lib\\site-packages (from google-api-core[grpc]!=2.0.*,!=2.1.*,!=2.10.*,!=2.2.*,!=2.3.*,!=2.4.*,!=2.5.*,!=2.6.*,!=2.7.*,!=2.8.*,!=2.9.*,<3.0.0dev,>=1.34.1->google-ai-generativelanguage==0.6.2->google-generativeai<0.6.0,>=0.5.2->langchain-google-genai) (1.62.2)\n",
            "Requirement already satisfied: pyparsing!=3.0.0,!=3.0.1,!=3.0.2,!=3.0.3,<4,>=2.4.2 in c:\\users\\lenovo\\onedrive\\bureau\\myproject\\.venv\\lib\\site-packages (from httplib2<1.dev0,>=0.19.0->google-api-python-client->google-generativeai<0.6.0,>=0.5.2->langchain-google-genai) (3.1.2)\n",
            "Requirement already satisfied: pyasn1<0.7.0,>=0.4.6 in c:\\users\\lenovo\\onedrive\\bureau\\myproject\\.venv\\lib\\site-packages (from pyasn1-modules>=0.2.1->google-auth>=2.15.0->google-generativeai<0.6.0,>=0.5.2->langchain-google-genai) (0.6.0)\n",
            "Requirement already satisfied: charset-normalizer<4,>=2 in c:\\users\\lenovo\\onedrive\\bureau\\myproject\\.venv\\lib\\site-packages (from requests<3.0.0.dev0,>=2.18.0->google-api-core->google-generativeai<0.6.0,>=0.5.2->langchain-google-genai) (3.3.2)\n",
            "Requirement already satisfied: idna<4,>=2.5 in c:\\users\\lenovo\\onedrive\\bureau\\myproject\\.venv\\lib\\site-packages (from requests<3.0.0.dev0,>=2.18.0->google-api-core->google-generativeai<0.6.0,>=0.5.2->langchain-google-genai) (3.7)\n",
            "Requirement already satisfied: urllib3<3,>=1.21.1 in c:\\users\\lenovo\\onedrive\\bureau\\myproject\\.venv\\lib\\site-packages (from requests<3.0.0.dev0,>=2.18.0->google-api-core->google-generativeai<0.6.0,>=0.5.2->langchain-google-genai) (2.2.1)\n",
            "Requirement already satisfied: certifi>=2017.4.17 in c:\\users\\lenovo\\onedrive\\bureau\\myproject\\.venv\\lib\\site-packages (from requests<3.0.0.dev0,>=2.18.0->google-api-core->google-generativeai<0.6.0,>=0.5.2->langchain-google-genai) (2024.2.2)\n",
            "Note: you may need to restart the kernel to use updated packages.\n"
          ]
        }
      ],
      "source": [
        "pip install --upgrade langchain-google-genai"
      ]
    },
    {
      "cell_type": "code",
      "execution_count": 5,
      "metadata": {},
      "outputs": [
        {
          "name": "stdout",
          "output_type": "stream",
          "text": [
            "Note: you may need to restart the kernel to use updated packages.\n"
          ]
        }
      ],
      "source": [
        "pip install -q langchain_google_genai"
      ]
    },
    {
      "cell_type": "code",
      "execution_count": 7,
      "metadata": {
        "id": "PK3uUFzydB2p"
      },
      "outputs": [
        {
          "name": "stdout",
          "output_type": "stream",
          "text": [
            "Note: you may need to restart the kernel to use updated packages.\n"
          ]
        }
      ],
      "source": [
        "pip install -q google-generativeai chromadb pypdf  bs4 streamlit docx2txt"
      ]
    },
    {
      "cell_type": "code",
      "execution_count": 8,
      "metadata": {},
      "outputs": [
        {
          "name": "stdout",
          "output_type": "stream",
          "text": [
            "Requirement already satisfied: python-dotenv in c:\\users\\lenovo\\onedrive\\bureau\\myproject\\.venv\\lib\\site-packages (1.0.1)Note: you may need to restart the kernel to use updated packages.\n",
            "\n"
          ]
        }
      ],
      "source": [
        "pip install python-dotenv"
      ]
    },
    {
      "cell_type": "code",
      "execution_count": 9,
      "metadata": {},
      "outputs": [
        {
          "name": "stdout",
          "output_type": "stream",
          "text": [
            "Requirement already satisfied: langchain in c:\\users\\lenovo\\onedrive\\bureau\\myproject\\.venv\\lib\\site-packages (0.1.17)\n",
            "Requirement already satisfied: PyYAML>=5.3 in c:\\users\\lenovo\\onedrive\\bureau\\myproject\\.venv\\lib\\site-packages (from langchain) (6.0.1)\n",
            "Requirement already satisfied: SQLAlchemy<3,>=1.4 in c:\\users\\lenovo\\onedrive\\bureau\\myproject\\.venv\\lib\\site-packages (from langchain) (2.0.29)\n",
            "Requirement already satisfied: aiohttp<4.0.0,>=3.8.3 in c:\\users\\lenovo\\onedrive\\bureau\\myproject\\.venv\\lib\\site-packages (from langchain) (3.9.5)\n",
            "Requirement already satisfied: dataclasses-json<0.7,>=0.5.7 in c:\\users\\lenovo\\onedrive\\bureau\\myproject\\.venv\\lib\\site-packages (from langchain) (0.6.5)\n",
            "Requirement already satisfied: jsonpatch<2.0,>=1.33 in c:\\users\\lenovo\\onedrive\\bureau\\myproject\\.venv\\lib\\site-packages (from langchain) (1.33)\n",
            "Requirement already satisfied: langchain-community<0.1,>=0.0.36 in c:\\users\\lenovo\\onedrive\\bureau\\myproject\\.venv\\lib\\site-packages (from langchain) (0.0.37)\n",
            "Requirement already satisfied: langchain-core<0.2.0,>=0.1.48 in c:\\users\\lenovo\\onedrive\\bureau\\myproject\\.venv\\lib\\site-packages (from langchain) (0.1.52)\n",
            "Requirement already satisfied: langchain-text-splitters<0.1,>=0.0.1 in c:\\users\\lenovo\\onedrive\\bureau\\myproject\\.venv\\lib\\site-packages (from langchain) (0.0.1)\n",
            "Requirement already satisfied: langsmith<0.2.0,>=0.1.17 in c:\\users\\lenovo\\onedrive\\bureau\\myproject\\.venv\\lib\\site-packages (from langchain) (0.1.55)\n",
            "Requirement already satisfied: numpy<2,>=1 in c:\\users\\lenovo\\onedrive\\bureau\\myproject\\.venv\\lib\\site-packages (from langchain) (1.26.4)\n",
            "Requirement already satisfied: pydantic<3,>=1 in c:\\users\\lenovo\\onedrive\\bureau\\myproject\\.venv\\lib\\site-packages (from langchain) (2.7.1)\n",
            "Requirement already satisfied: requests<3,>=2 in c:\\users\\lenovo\\onedrive\\bureau\\myproject\\.venv\\lib\\site-packages (from langchain) (2.31.0)\n",
            "Requirement already satisfied: tenacity<9.0.0,>=8.1.0 in c:\\users\\lenovo\\onedrive\\bureau\\myproject\\.venv\\lib\\site-packages (from langchain) (8.2.3)\n",
            "Requirement already satisfied: aiosignal>=1.1.2 in c:\\users\\lenovo\\onedrive\\bureau\\myproject\\.venv\\lib\\site-packages (from aiohttp<4.0.0,>=3.8.3->langchain) (1.3.1)\n",
            "Requirement already satisfied: attrs>=17.3.0 in c:\\users\\lenovo\\onedrive\\bureau\\myproject\\.venv\\lib\\site-packages (from aiohttp<4.0.0,>=3.8.3->langchain) (23.2.0)\n",
            "Requirement already satisfied: frozenlist>=1.1.1 in c:\\users\\lenovo\\onedrive\\bureau\\myproject\\.venv\\lib\\site-packages (from aiohttp<4.0.0,>=3.8.3->langchain) (1.4.1)\n",
            "Requirement already satisfied: multidict<7.0,>=4.5 in c:\\users\\lenovo\\onedrive\\bureau\\myproject\\.venv\\lib\\site-packages (from aiohttp<4.0.0,>=3.8.3->langchain) (6.0.5)\n",
            "Requirement already satisfied: yarl<2.0,>=1.0 in c:\\users\\lenovo\\onedrive\\bureau\\myproject\\.venv\\lib\\site-packages (from aiohttp<4.0.0,>=3.8.3->langchain) (1.9.4)\n",
            "Requirement already satisfied: marshmallow<4.0.0,>=3.18.0 in c:\\users\\lenovo\\onedrive\\bureau\\myproject\\.venv\\lib\\site-packages (from dataclasses-json<0.7,>=0.5.7->langchain) (3.21.1)\n",
            "Requirement already satisfied: typing-inspect<1,>=0.4.0 in c:\\users\\lenovo\\onedrive\\bureau\\myproject\\.venv\\lib\\site-packages (from dataclasses-json<0.7,>=0.5.7->langchain) (0.9.0)\n",
            "Requirement already satisfied: jsonpointer>=1.9 in c:\\users\\lenovo\\onedrive\\bureau\\myproject\\.venv\\lib\\site-packages (from jsonpatch<2.0,>=1.33->langchain) (2.4)\n",
            "Requirement already satisfied: packaging<24.0,>=23.2 in c:\\users\\lenovo\\onedrive\\bureau\\myproject\\.venv\\lib\\site-packages (from langchain-core<0.2.0,>=0.1.48->langchain) (23.2)\n",
            "Requirement already satisfied: orjson<4.0.0,>=3.9.14 in c:\\users\\lenovo\\onedrive\\bureau\\myproject\\.venv\\lib\\site-packages (from langsmith<0.2.0,>=0.1.17->langchain) (3.10.2)\n",
            "Requirement already satisfied: annotated-types>=0.4.0 in c:\\users\\lenovo\\onedrive\\bureau\\myproject\\.venv\\lib\\site-packages (from pydantic<3,>=1->langchain) (0.6.0)\n",
            "Requirement already satisfied: pydantic-core==2.18.2 in c:\\users\\lenovo\\onedrive\\bureau\\myproject\\.venv\\lib\\site-packages (from pydantic<3,>=1->langchain) (2.18.2)Note: you may need to restart the kernel to use updated packages.\n",
            "\n",
            "Requirement already satisfied: typing-extensions>=4.6.1 in c:\\users\\lenovo\\onedrive\\bureau\\myproject\\.venv\\lib\\site-packages (from pydantic<3,>=1->langchain) (4.11.0)\n",
            "Requirement already satisfied: charset-normalizer<4,>=2 in c:\\users\\lenovo\\onedrive\\bureau\\myproject\\.venv\\lib\\site-packages (from requests<3,>=2->langchain) (3.3.2)\n",
            "Requirement already satisfied: idna<4,>=2.5 in c:\\users\\lenovo\\onedrive\\bureau\\myproject\\.venv\\lib\\site-packages (from requests<3,>=2->langchain) (3.7)\n",
            "Requirement already satisfied: urllib3<3,>=1.21.1 in c:\\users\\lenovo\\onedrive\\bureau\\myproject\\.venv\\lib\\site-packages (from requests<3,>=2->langchain) (2.2.1)\n",
            "Requirement already satisfied: certifi>=2017.4.17 in c:\\users\\lenovo\\onedrive\\bureau\\myproject\\.venv\\lib\\site-packages (from requests<3,>=2->langchain) (2024.2.2)\n",
            "Requirement already satisfied: greenlet!=0.4.17 in c:\\users\\lenovo\\onedrive\\bureau\\myproject\\.venv\\lib\\site-packages (from SQLAlchemy<3,>=1.4->langchain) (3.0.3)\n",
            "Requirement already satisfied: mypy-extensions>=0.3.0 in c:\\users\\lenovo\\onedrive\\bureau\\myproject\\.venv\\lib\\site-packages (from typing-inspect<1,>=0.4.0->dataclasses-json<0.7,>=0.5.7->langchain) (1.0.0)\n"
          ]
        }
      ],
      "source": [
        "pip install langchain --upgrade"
      ]
    },
    {
      "cell_type": "code",
      "execution_count": 10,
      "metadata": {},
      "outputs": [
        {
          "name": "stdout",
          "output_type": "stream",
          "text": [
            "Note: you may need to restart the kernel to use updated packages.\n"
          ]
        }
      ],
      "source": [
        "pip freeze > requirements.txt"
      ]
    },
    {
      "cell_type": "code",
      "execution_count": 11,
      "metadata": {},
      "outputs": [
        {
          "name": "stdout",
          "output_type": "stream",
          "text": [
            "Requirement already satisfied: aiohttp==3.9.5 in c:\\users\\lenovo\\onedrive\\bureau\\myproject\\.venv\\lib\\site-packages (from -r requirements.txt (line 1)) (3.9.5)\n",
            "Requirement already satisfied: aiosignal==1.3.1 in c:\\users\\lenovo\\onedrive\\bureau\\myproject\\.venv\\lib\\site-packages (from -r requirements.txt (line 2)) (1.3.1)\n",
            "Requirement already satisfied: altair==5.3.0 in c:\\users\\lenovo\\onedrive\\bureau\\myproject\\.venv\\lib\\site-packages (from -r requirements.txt (line 3)) (5.3.0)\n",
            "Requirement already satisfied: annotated-types==0.6.0 in c:\\users\\lenovo\\onedrive\\bureau\\myproject\\.venv\\lib\\site-packages (from -r requirements.txt (line 4)) (0.6.0)\n",
            "Requirement already satisfied: anyio==4.3.0 in c:\\users\\lenovo\\onedrive\\bureau\\myproject\\.venv\\lib\\site-packages (from -r requirements.txt (line 5)) (4.3.0)\n",
            "Requirement already satisfied: asgiref==3.8.1 in c:\\users\\lenovo\\onedrive\\bureau\\myproject\\.venv\\lib\\site-packages (from -r requirements.txt (line 6)) (3.8.1)\n",
            "Requirement already satisfied: asttokens==2.4.1 in c:\\users\\lenovo\\onedrive\\bureau\\myproject\\.venv\\lib\\site-packages (from -r requirements.txt (line 7)) (2.4.1)\n",
            "Requirement already satisfied: attrs==23.2.0 in c:\\users\\lenovo\\onedrive\\bureau\\myproject\\.venv\\lib\\site-packages (from -r requirements.txt (line 8)) (23.2.0)\n",
            "Requirement already satisfied: backoff==2.2.1 in c:\\users\\lenovo\\onedrive\\bureau\\myproject\\.venv\\lib\\site-packages (from -r requirements.txt (line 9)) (2.2.1)\n",
            "Requirement already satisfied: bcrypt==4.1.2 in c:\\users\\lenovo\\onedrive\\bureau\\myproject\\.venv\\lib\\site-packages (from -r requirements.txt (line 10)) (4.1.2)\n",
            "Requirement already satisfied: beautifulsoup4==4.12.3 in c:\\users\\lenovo\\onedrive\\bureau\\myproject\\.venv\\lib\\site-packages (from -r requirements.txt (line 11)) (4.12.3)\n",
            "Requirement already satisfied: blinker==1.8.1 in c:\\users\\lenovo\\onedrive\\bureau\\myproject\\.venv\\lib\\site-packages (from -r requirements.txt (line 12)) (1.8.1)\n",
            "Requirement already satisfied: bs4==0.0.2 in c:\\users\\lenovo\\onedrive\\bureau\\myproject\\.venv\\lib\\site-packages (from -r requirements.txt (line 13)) (0.0.2)\n",
            "Requirement already satisfied: build==1.2.1 in c:\\users\\lenovo\\onedrive\\bureau\\myproject\\.venv\\lib\\site-packages (from -r requirements.txt (line 14)) (1.2.1)\n",
            "Requirement already satisfied: cachetools==5.3.3 in c:\\users\\lenovo\\onedrive\\bureau\\myproject\\.venv\\lib\\site-packages (from -r requirements.txt (line 15)) (5.3.3)\n",
            "Requirement already satisfied: certifi==2024.2.2 in c:\\users\\lenovo\\onedrive\\bureau\\myproject\\.venv\\lib\\site-packages (from -r requirements.txt (line 16)) (2024.2.2)\n",
            "Requirement already satisfied: charset-normalizer==3.3.2 in c:\\users\\lenovo\\onedrive\\bureau\\myproject\\.venv\\lib\\site-packages (from -r requirements.txt (line 17)) (3.3.2)\n",
            "Requirement already satisfied: chroma-hnswlib==0.7.3 in c:\\users\\lenovo\\onedrive\\bureau\\myproject\\.venv\\lib\\site-packages (from -r requirements.txt (line 18)) (0.7.3)\n",
            "Requirement already satisfied: chromadb==0.5.0 in c:\\users\\lenovo\\onedrive\\bureau\\myproject\\.venv\\lib\\site-packages (from -r requirements.txt (line 19)) (0.5.0)\n",
            "Requirement already satisfied: click==8.1.7 in c:\\users\\lenovo\\onedrive\\bureau\\myproject\\.venv\\lib\\site-packages (from -r requirements.txt (line 20)) (8.1.7)\n",
            "Requirement already satisfied: colorama==0.4.6 in c:\\users\\lenovo\\onedrive\\bureau\\myproject\\.venv\\lib\\site-packages (from -r requirements.txt (line 21)) (0.4.6)\n",
            "Requirement already satisfied: coloredlogs==15.0.1 in c:\\users\\lenovo\\onedrive\\bureau\\myproject\\.venv\\lib\\site-packages (from -r requirements.txt (line 22)) (15.0.1)\n",
            "Requirement already satisfied: comm==0.2.2 in c:\\users\\lenovo\\onedrive\\bureau\\myproject\\.venv\\lib\\site-packages (from -r requirements.txt (line 23)) (0.2.2)\n",
            "Requirement already satisfied: dataclasses-json==0.6.5 in c:\\users\\lenovo\\onedrive\\bureau\\myproject\\.venv\\lib\\site-packages (from -r requirements.txt (line 24)) (0.6.5)\n",
            "Requirement already satisfied: debugpy==1.8.1 in c:\\users\\lenovo\\onedrive\\bureau\\myproject\\.venv\\lib\\site-packages (from -r requirements.txt (line 25)) (1.8.1)\n",
            "Requirement already satisfied: decorator==5.1.1 in c:\\users\\lenovo\\onedrive\\bureau\\myproject\\.venv\\lib\\site-packages (from -r requirements.txt (line 26)) (5.1.1)\n",
            "Requirement already satisfied: Deprecated==1.2.14 in c:\\users\\lenovo\\onedrive\\bureau\\myproject\\.venv\\lib\\site-packages (from -r requirements.txt (line 27)) (1.2.14)\n",
            "Requirement already satisfied: dnspython==2.6.1 in c:\\users\\lenovo\\onedrive\\bureau\\myproject\\.venv\\lib\\site-packages (from -r requirements.txt (line 28)) (2.6.1)\n",
            "Requirement already satisfied: docx2txt==0.8 in c:\\users\\lenovo\\onedrive\\bureau\\myproject\\.venv\\lib\\site-packages (from -r requirements.txt (line 29)) (0.8)\n",
            "Requirement already satisfied: email_validator==2.1.1 in c:\\users\\lenovo\\onedrive\\bureau\\myproject\\.venv\\lib\\site-packages (from -r requirements.txt (line 30)) (2.1.1)\n",
            "Requirement already satisfied: executing==2.0.1 in c:\\users\\lenovo\\onedrive\\bureau\\myproject\\.venv\\lib\\site-packages (from -r requirements.txt (line 31)) (2.0.1)\n",
            "Requirement already satisfied: fastapi==0.111.0 in c:\\users\\lenovo\\onedrive\\bureau\\myproject\\.venv\\lib\\site-packages (from -r requirements.txt (line 32)) (0.111.0)\n",
            "Requirement already satisfied: fastapi-cli==0.0.3 in c:\\users\\lenovo\\onedrive\\bureau\\myproject\\.venv\\lib\\site-packages (from -r requirements.txt (line 33)) (0.0.3)\n",
            "Requirement already satisfied: filelock==3.14.0 in c:\\users\\lenovo\\onedrive\\bureau\\myproject\\.venv\\lib\\site-packages (from -r requirements.txt (line 34)) (3.14.0)\n",
            "Requirement already satisfied: flatbuffers==24.3.25 in c:\\users\\lenovo\\onedrive\\bureau\\myproject\\.venv\\lib\\site-packages (from -r requirements.txt (line 35)) (24.3.25)\n",
            "Requirement already satisfied: frozenlist==1.4.1 in c:\\users\\lenovo\\onedrive\\bureau\\myproject\\.venv\\lib\\site-packages (from -r requirements.txt (line 36)) (1.4.1)\n",
            "Requirement already satisfied: fsspec==2024.3.1 in c:\\users\\lenovo\\onedrive\\bureau\\myproject\\.venv\\lib\\site-packages (from -r requirements.txt (line 37)) (2024.3.1)\n",
            "Requirement already satisfied: gitdb==4.0.11 in c:\\users\\lenovo\\onedrive\\bureau\\myproject\\.venv\\lib\\site-packages (from -r requirements.txt (line 38)) (4.0.11)\n",
            "Requirement already satisfied: GitPython==3.1.43 in c:\\users\\lenovo\\onedrive\\bureau\\myproject\\.venv\\lib\\site-packages (from -r requirements.txt (line 39)) (3.1.43)Note: you may need to restart the kernel to use updated packages.\n",
            "\n",
            "Requirement already satisfied: google-ai-generativelanguage==0.6.2 in c:\\users\\lenovo\\onedrive\\bureau\\myproject\\.venv\\lib\\site-packages (from -r requirements.txt (line 40)) (0.6.2)\n",
            "Requirement already satisfied: google-api-core==2.19.0 in c:\\users\\lenovo\\onedrive\\bureau\\myproject\\.venv\\lib\\site-packages (from -r requirements.txt (line 41)) (2.19.0)\n",
            "Requirement already satisfied: google-api-python-client==2.128.0 in c:\\users\\lenovo\\onedrive\\bureau\\myproject\\.venv\\lib\\site-packages (from -r requirements.txt (line 42)) (2.128.0)\n",
            "Requirement already satisfied: google-auth==2.29.0 in c:\\users\\lenovo\\onedrive\\bureau\\myproject\\.venv\\lib\\site-packages (from -r requirements.txt (line 43)) (2.29.0)\n",
            "Requirement already satisfied: google-auth-httplib2==0.2.0 in c:\\users\\lenovo\\onedrive\\bureau\\myproject\\.venv\\lib\\site-packages (from -r requirements.txt (line 44)) (0.2.0)\n",
            "Requirement already satisfied: google-generativeai==0.5.2 in c:\\users\\lenovo\\onedrive\\bureau\\myproject\\.venv\\lib\\site-packages (from -r requirements.txt (line 45)) (0.5.2)\n",
            "Requirement already satisfied: googleapis-common-protos==1.63.0 in c:\\users\\lenovo\\onedrive\\bureau\\myproject\\.venv\\lib\\site-packages (from -r requirements.txt (line 46)) (1.63.0)\n",
            "Requirement already satisfied: greenlet==3.0.3 in c:\\users\\lenovo\\onedrive\\bureau\\myproject\\.venv\\lib\\site-packages (from -r requirements.txt (line 47)) (3.0.3)\n",
            "Requirement already satisfied: grpcio==1.63.0 in c:\\users\\lenovo\\onedrive\\bureau\\myproject\\.venv\\lib\\site-packages (from -r requirements.txt (line 48)) (1.63.0)\n",
            "Requirement already satisfied: grpcio-status==1.62.2 in c:\\users\\lenovo\\onedrive\\bureau\\myproject\\.venv\\lib\\site-packages (from -r requirements.txt (line 49)) (1.62.2)\n",
            "Requirement already satisfied: h11==0.14.0 in c:\\users\\lenovo\\onedrive\\bureau\\myproject\\.venv\\lib\\site-packages (from -r requirements.txt (line 50)) (0.14.0)\n",
            "Requirement already satisfied: httpcore==1.0.5 in c:\\users\\lenovo\\onedrive\\bureau\\myproject\\.venv\\lib\\site-packages (from -r requirements.txt (line 51)) (1.0.5)\n",
            "Requirement already satisfied: httplib2==0.22.0 in c:\\users\\lenovo\\onedrive\\bureau\\myproject\\.venv\\lib\\site-packages (from -r requirements.txt (line 52)) (0.22.0)\n",
            "Requirement already satisfied: httptools==0.6.1 in c:\\users\\lenovo\\onedrive\\bureau\\myproject\\.venv\\lib\\site-packages (from -r requirements.txt (line 53)) (0.6.1)\n",
            "Requirement already satisfied: httpx==0.27.0 in c:\\users\\lenovo\\onedrive\\bureau\\myproject\\.venv\\lib\\site-packages (from -r requirements.txt (line 54)) (0.27.0)\n",
            "Requirement already satisfied: huggingface-hub==0.22.2 in c:\\users\\lenovo\\onedrive\\bureau\\myproject\\.venv\\lib\\site-packages (from -r requirements.txt (line 55)) (0.22.2)\n",
            "Requirement already satisfied: humanfriendly==10.0 in c:\\users\\lenovo\\onedrive\\bureau\\myproject\\.venv\\lib\\site-packages (from -r requirements.txt (line 56)) (10.0)\n",
            "Requirement already satisfied: idna==3.7 in c:\\users\\lenovo\\onedrive\\bureau\\myproject\\.venv\\lib\\site-packages (from -r requirements.txt (line 57)) (3.7)\n",
            "Requirement already satisfied: importlib-metadata==7.0.0 in c:\\users\\lenovo\\onedrive\\bureau\\myproject\\.venv\\lib\\site-packages (from -r requirements.txt (line 58)) (7.0.0)\n",
            "Requirement already satisfied: importlib_resources==6.4.0 in c:\\users\\lenovo\\onedrive\\bureau\\myproject\\.venv\\lib\\site-packages (from -r requirements.txt (line 59)) (6.4.0)\n",
            "Requirement already satisfied: ipykernel==6.29.4 in c:\\users\\lenovo\\onedrive\\bureau\\myproject\\.venv\\lib\\site-packages (from -r requirements.txt (line 60)) (6.29.4)\n",
            "Requirement already satisfied: ipython==8.24.0 in c:\\users\\lenovo\\onedrive\\bureau\\myproject\\.venv\\lib\\site-packages (from -r requirements.txt (line 61)) (8.24.0)\n",
            "Requirement already satisfied: jedi==0.19.1 in c:\\users\\lenovo\\onedrive\\bureau\\myproject\\.venv\\lib\\site-packages (from -r requirements.txt (line 62)) (0.19.1)\n",
            "Requirement already satisfied: Jinja2==3.1.3 in c:\\users\\lenovo\\onedrive\\bureau\\myproject\\.venv\\lib\\site-packages (from -r requirements.txt (line 63)) (3.1.3)\n",
            "Requirement already satisfied: jsonpatch==1.33 in c:\\users\\lenovo\\onedrive\\bureau\\myproject\\.venv\\lib\\site-packages (from -r requirements.txt (line 64)) (1.33)\n",
            "Requirement already satisfied: jsonpointer==2.4 in c:\\users\\lenovo\\onedrive\\bureau\\myproject\\.venv\\lib\\site-packages (from -r requirements.txt (line 65)) (2.4)\n",
            "Requirement already satisfied: jsonschema==4.22.0 in c:\\users\\lenovo\\onedrive\\bureau\\myproject\\.venv\\lib\\site-packages (from -r requirements.txt (line 66)) (4.22.0)\n",
            "Requirement already satisfied: jsonschema-specifications==2023.12.1 in c:\\users\\lenovo\\onedrive\\bureau\\myproject\\.venv\\lib\\site-packages (from -r requirements.txt (line 67)) (2023.12.1)\n",
            "Requirement already satisfied: jupyter_client==8.6.1 in c:\\users\\lenovo\\onedrive\\bureau\\myproject\\.venv\\lib\\site-packages (from -r requirements.txt (line 68)) (8.6.1)\n",
            "Requirement already satisfied: jupyter_core==5.7.2 in c:\\users\\lenovo\\onedrive\\bureau\\myproject\\.venv\\lib\\site-packages (from -r requirements.txt (line 69)) (5.7.2)\n",
            "Requirement already satisfied: kubernetes==29.0.0 in c:\\users\\lenovo\\onedrive\\bureau\\myproject\\.venv\\lib\\site-packages (from -r requirements.txt (line 70)) (29.0.0)\n",
            "Requirement already satisfied: langchain==0.1.17 in c:\\users\\lenovo\\onedrive\\bureau\\myproject\\.venv\\lib\\site-packages (from -r requirements.txt (line 71)) (0.1.17)\n",
            "Requirement already satisfied: langchain-community==0.0.37 in c:\\users\\lenovo\\onedrive\\bureau\\myproject\\.venv\\lib\\site-packages (from -r requirements.txt (line 72)) (0.0.37)\n",
            "Requirement already satisfied: langchain-core==0.1.52 in c:\\users\\lenovo\\onedrive\\bureau\\myproject\\.venv\\lib\\site-packages (from -r requirements.txt (line 73)) (0.1.52)\n",
            "Requirement already satisfied: langchain-google-genai==1.0.3 in c:\\users\\lenovo\\onedrive\\bureau\\myproject\\.venv\\lib\\site-packages (from -r requirements.txt (line 74)) (1.0.3)\n",
            "Requirement already satisfied: langchain-text-splitters==0.0.1 in c:\\users\\lenovo\\onedrive\\bureau\\myproject\\.venv\\lib\\site-packages (from -r requirements.txt (line 75)) (0.0.1)\n",
            "Requirement already satisfied: langsmith==0.1.55 in c:\\users\\lenovo\\onedrive\\bureau\\myproject\\.venv\\lib\\site-packages (from -r requirements.txt (line 76)) (0.1.55)\n",
            "Requirement already satisfied: markdown-it-py==3.0.0 in c:\\users\\lenovo\\onedrive\\bureau\\myproject\\.venv\\lib\\site-packages (from -r requirements.txt (line 77)) (3.0.0)\n",
            "Requirement already satisfied: MarkupSafe==2.1.5 in c:\\users\\lenovo\\onedrive\\bureau\\myproject\\.venv\\lib\\site-packages (from -r requirements.txt (line 78)) (2.1.5)\n",
            "Requirement already satisfied: marshmallow==3.21.1 in c:\\users\\lenovo\\onedrive\\bureau\\myproject\\.venv\\lib\\site-packages (from -r requirements.txt (line 79)) (3.21.1)\n",
            "Requirement already satisfied: matplotlib-inline==0.1.7 in c:\\users\\lenovo\\onedrive\\bureau\\myproject\\.venv\\lib\\site-packages (from -r requirements.txt (line 80)) (0.1.7)\n",
            "Requirement already satisfied: mdurl==0.1.2 in c:\\users\\lenovo\\onedrive\\bureau\\myproject\\.venv\\lib\\site-packages (from -r requirements.txt (line 81)) (0.1.2)\n",
            "Requirement already satisfied: mmh3==4.1.0 in c:\\users\\lenovo\\onedrive\\bureau\\myproject\\.venv\\lib\\site-packages (from -r requirements.txt (line 82)) (4.1.0)\n",
            "Requirement already satisfied: monotonic==1.6 in c:\\users\\lenovo\\onedrive\\bureau\\myproject\\.venv\\lib\\site-packages (from -r requirements.txt (line 83)) (1.6)\n",
            "Requirement already satisfied: mpmath==1.3.0 in c:\\users\\lenovo\\onedrive\\bureau\\myproject\\.venv\\lib\\site-packages (from -r requirements.txt (line 84)) (1.3.0)\n",
            "Requirement already satisfied: multidict==6.0.5 in c:\\users\\lenovo\\onedrive\\bureau\\myproject\\.venv\\lib\\site-packages (from -r requirements.txt (line 85)) (6.0.5)\n",
            "Requirement already satisfied: mypy-extensions==1.0.0 in c:\\users\\lenovo\\onedrive\\bureau\\myproject\\.venv\\lib\\site-packages (from -r requirements.txt (line 86)) (1.0.0)\n",
            "Requirement already satisfied: nest-asyncio==1.6.0 in c:\\users\\lenovo\\onedrive\\bureau\\myproject\\.venv\\lib\\site-packages (from -r requirements.txt (line 87)) (1.6.0)\n",
            "Requirement already satisfied: numpy==1.26.4 in c:\\users\\lenovo\\onedrive\\bureau\\myproject\\.venv\\lib\\site-packages (from -r requirements.txt (line 88)) (1.26.4)\n",
            "Requirement already satisfied: oauthlib==3.2.2 in c:\\users\\lenovo\\onedrive\\bureau\\myproject\\.venv\\lib\\site-packages (from -r requirements.txt (line 89)) (3.2.2)\n",
            "Requirement already satisfied: onnxruntime==1.17.3 in c:\\users\\lenovo\\onedrive\\bureau\\myproject\\.venv\\lib\\site-packages (from -r requirements.txt (line 90)) (1.17.3)\n",
            "Requirement already satisfied: opentelemetry-api==1.24.0 in c:\\users\\lenovo\\onedrive\\bureau\\myproject\\.venv\\lib\\site-packages (from -r requirements.txt (line 91)) (1.24.0)\n",
            "Requirement already satisfied: opentelemetry-exporter-otlp-proto-common==1.24.0 in c:\\users\\lenovo\\onedrive\\bureau\\myproject\\.venv\\lib\\site-packages (from -r requirements.txt (line 92)) (1.24.0)\n",
            "Requirement already satisfied: opentelemetry-exporter-otlp-proto-grpc==1.24.0 in c:\\users\\lenovo\\onedrive\\bureau\\myproject\\.venv\\lib\\site-packages (from -r requirements.txt (line 93)) (1.24.0)\n",
            "Requirement already satisfied: opentelemetry-instrumentation==0.45b0 in c:\\users\\lenovo\\onedrive\\bureau\\myproject\\.venv\\lib\\site-packages (from -r requirements.txt (line 94)) (0.45b0)\n",
            "Requirement already satisfied: opentelemetry-instrumentation-asgi==0.45b0 in c:\\users\\lenovo\\onedrive\\bureau\\myproject\\.venv\\lib\\site-packages (from -r requirements.txt (line 95)) (0.45b0)\n",
            "Requirement already satisfied: opentelemetry-instrumentation-fastapi==0.45b0 in c:\\users\\lenovo\\onedrive\\bureau\\myproject\\.venv\\lib\\site-packages (from -r requirements.txt (line 96)) (0.45b0)\n",
            "Requirement already satisfied: opentelemetry-proto==1.24.0 in c:\\users\\lenovo\\onedrive\\bureau\\myproject\\.venv\\lib\\site-packages (from -r requirements.txt (line 97)) (1.24.0)\n",
            "Requirement already satisfied: opentelemetry-sdk==1.24.0 in c:\\users\\lenovo\\onedrive\\bureau\\myproject\\.venv\\lib\\site-packages (from -r requirements.txt (line 98)) (1.24.0)\n",
            "Requirement already satisfied: opentelemetry-semantic-conventions==0.45b0 in c:\\users\\lenovo\\onedrive\\bureau\\myproject\\.venv\\lib\\site-packages (from -r requirements.txt (line 99)) (0.45b0)\n",
            "Requirement already satisfied: opentelemetry-util-http==0.45b0 in c:\\users\\lenovo\\onedrive\\bureau\\myproject\\.venv\\lib\\site-packages (from -r requirements.txt (line 100)) (0.45b0)\n",
            "Requirement already satisfied: orjson==3.10.2 in c:\\users\\lenovo\\onedrive\\bureau\\myproject\\.venv\\lib\\site-packages (from -r requirements.txt (line 101)) (3.10.2)\n",
            "Requirement already satisfied: overrides==7.7.0 in c:\\users\\lenovo\\onedrive\\bureau\\myproject\\.venv\\lib\\site-packages (from -r requirements.txt (line 102)) (7.7.0)\n",
            "Requirement already satisfied: packaging==23.2 in c:\\users\\lenovo\\onedrive\\bureau\\myproject\\.venv\\lib\\site-packages (from -r requirements.txt (line 103)) (23.2)\n",
            "Requirement already satisfied: pandas==2.2.2 in c:\\users\\lenovo\\onedrive\\bureau\\myproject\\.venv\\lib\\site-packages (from -r requirements.txt (line 104)) (2.2.2)\n",
            "Requirement already satisfied: parso==0.8.4 in c:\\users\\lenovo\\onedrive\\bureau\\myproject\\.venv\\lib\\site-packages (from -r requirements.txt (line 105)) (0.8.4)\n",
            "Requirement already satisfied: pillow==10.3.0 in c:\\users\\lenovo\\onedrive\\bureau\\myproject\\.venv\\lib\\site-packages (from -r requirements.txt (line 106)) (10.3.0)\n",
            "Requirement already satisfied: platformdirs==4.2.1 in c:\\users\\lenovo\\onedrive\\bureau\\myproject\\.venv\\lib\\site-packages (from -r requirements.txt (line 107)) (4.2.1)\n",
            "Requirement already satisfied: posthog==3.5.0 in c:\\users\\lenovo\\onedrive\\bureau\\myproject\\.venv\\lib\\site-packages (from -r requirements.txt (line 108)) (3.5.0)\n",
            "Requirement already satisfied: prompt-toolkit==3.0.43 in c:\\users\\lenovo\\onedrive\\bureau\\myproject\\.venv\\lib\\site-packages (from -r requirements.txt (line 109)) (3.0.43)\n",
            "Requirement already satisfied: proto-plus==1.23.0 in c:\\users\\lenovo\\onedrive\\bureau\\myproject\\.venv\\lib\\site-packages (from -r requirements.txt (line 110)) (1.23.0)\n",
            "Requirement already satisfied: protobuf==4.25.3 in c:\\users\\lenovo\\onedrive\\bureau\\myproject\\.venv\\lib\\site-packages (from -r requirements.txt (line 111)) (4.25.3)\n",
            "Requirement already satisfied: psutil==5.9.8 in c:\\users\\lenovo\\onedrive\\bureau\\myproject\\.venv\\lib\\site-packages (from -r requirements.txt (line 112)) (5.9.8)\n",
            "Requirement already satisfied: pure-eval==0.2.2 in c:\\users\\lenovo\\onedrive\\bureau\\myproject\\.venv\\lib\\site-packages (from -r requirements.txt (line 113)) (0.2.2)\n",
            "Requirement already satisfied: pyarrow==16.0.0 in c:\\users\\lenovo\\onedrive\\bureau\\myproject\\.venv\\lib\\site-packages (from -r requirements.txt (line 114)) (16.0.0)\n",
            "Requirement already satisfied: pyasn1==0.6.0 in c:\\users\\lenovo\\onedrive\\bureau\\myproject\\.venv\\lib\\site-packages (from -r requirements.txt (line 115)) (0.6.0)\n",
            "Requirement already satisfied: pyasn1_modules==0.4.0 in c:\\users\\lenovo\\onedrive\\bureau\\myproject\\.venv\\lib\\site-packages (from -r requirements.txt (line 116)) (0.4.0)\n",
            "Requirement already satisfied: pydantic==2.7.1 in c:\\users\\lenovo\\onedrive\\bureau\\myproject\\.venv\\lib\\site-packages (from -r requirements.txt (line 117)) (2.7.1)\n",
            "Requirement already satisfied: pydantic_core==2.18.2 in c:\\users\\lenovo\\onedrive\\bureau\\myproject\\.venv\\lib\\site-packages (from -r requirements.txt (line 118)) (2.18.2)\n",
            "Requirement already satisfied: pydeck==0.9.0 in c:\\users\\lenovo\\onedrive\\bureau\\myproject\\.venv\\lib\\site-packages (from -r requirements.txt (line 119)) (0.9.0)\n",
            "Requirement already satisfied: Pygments==2.17.2 in c:\\users\\lenovo\\onedrive\\bureau\\myproject\\.venv\\lib\\site-packages (from -r requirements.txt (line 120)) (2.17.2)\n",
            "Requirement already satisfied: pyparsing==3.1.2 in c:\\users\\lenovo\\onedrive\\bureau\\myproject\\.venv\\lib\\site-packages (from -r requirements.txt (line 121)) (3.1.2)\n",
            "Requirement already satisfied: pypdf==4.2.0 in c:\\users\\lenovo\\onedrive\\bureau\\myproject\\.venv\\lib\\site-packages (from -r requirements.txt (line 122)) (4.2.0)\n",
            "Requirement already satisfied: PyPika==0.48.9 in c:\\users\\lenovo\\onedrive\\bureau\\myproject\\.venv\\lib\\site-packages (from -r requirements.txt (line 123)) (0.48.9)\n",
            "Requirement already satisfied: pyproject_hooks==1.1.0 in c:\\users\\lenovo\\onedrive\\bureau\\myproject\\.venv\\lib\\site-packages (from -r requirements.txt (line 124)) (1.1.0)\n",
            "Requirement already satisfied: pyreadline3==3.4.1 in c:\\users\\lenovo\\onedrive\\bureau\\myproject\\.venv\\lib\\site-packages (from -r requirements.txt (line 125)) (3.4.1)\n",
            "Requirement already satisfied: python-dateutil==2.9.0.post0 in c:\\users\\lenovo\\onedrive\\bureau\\myproject\\.venv\\lib\\site-packages (from -r requirements.txt (line 126)) (2.9.0.post0)\n",
            "Requirement already satisfied: python-dotenv==1.0.1 in c:\\users\\lenovo\\onedrive\\bureau\\myproject\\.venv\\lib\\site-packages (from -r requirements.txt (line 127)) (1.0.1)\n",
            "Requirement already satisfied: python-multipart==0.0.9 in c:\\users\\lenovo\\onedrive\\bureau\\myproject\\.venv\\lib\\site-packages (from -r requirements.txt (line 128)) (0.0.9)\n",
            "Requirement already satisfied: pytz==2024.1 in c:\\users\\lenovo\\onedrive\\bureau\\myproject\\.venv\\lib\\site-packages (from -r requirements.txt (line 129)) (2024.1)\n",
            "Requirement already satisfied: pywin32==306 in c:\\users\\lenovo\\onedrive\\bureau\\myproject\\.venv\\lib\\site-packages (from -r requirements.txt (line 130)) (306)\n",
            "Requirement already satisfied: PyYAML==6.0.1 in c:\\users\\lenovo\\onedrive\\bureau\\myproject\\.venv\\lib\\site-packages (from -r requirements.txt (line 131)) (6.0.1)\n",
            "Requirement already satisfied: pyzmq==26.0.3 in c:\\users\\lenovo\\onedrive\\bureau\\myproject\\.venv\\lib\\site-packages (from -r requirements.txt (line 132)) (26.0.3)\n",
            "Requirement already satisfied: referencing==0.35.1 in c:\\users\\lenovo\\onedrive\\bureau\\myproject\\.venv\\lib\\site-packages (from -r requirements.txt (line 133)) (0.35.1)\n",
            "Requirement already satisfied: requests==2.31.0 in c:\\users\\lenovo\\onedrive\\bureau\\myproject\\.venv\\lib\\site-packages (from -r requirements.txt (line 134)) (2.31.0)\n",
            "Requirement already satisfied: requests-oauthlib==2.0.0 in c:\\users\\lenovo\\onedrive\\bureau\\myproject\\.venv\\lib\\site-packages (from -r requirements.txt (line 135)) (2.0.0)\n",
            "Requirement already satisfied: rich==13.7.1 in c:\\users\\lenovo\\onedrive\\bureau\\myproject\\.venv\\lib\\site-packages (from -r requirements.txt (line 136)) (13.7.1)\n",
            "Requirement already satisfied: rpds-py==0.18.0 in c:\\users\\lenovo\\onedrive\\bureau\\myproject\\.venv\\lib\\site-packages (from -r requirements.txt (line 137)) (0.18.0)\n",
            "Requirement already satisfied: rsa==4.9 in c:\\users\\lenovo\\onedrive\\bureau\\myproject\\.venv\\lib\\site-packages (from -r requirements.txt (line 138)) (4.9)\n",
            "Requirement already satisfied: setuptools==69.5.1 in c:\\users\\lenovo\\onedrive\\bureau\\myproject\\.venv\\lib\\site-packages (from -r requirements.txt (line 139)) (69.5.1)\n",
            "Requirement already satisfied: shellingham==1.5.4 in c:\\users\\lenovo\\onedrive\\bureau\\myproject\\.venv\\lib\\site-packages (from -r requirements.txt (line 140)) (1.5.4)\n",
            "Requirement already satisfied: six==1.16.0 in c:\\users\\lenovo\\onedrive\\bureau\\myproject\\.venv\\lib\\site-packages (from -r requirements.txt (line 141)) (1.16.0)\n",
            "Requirement already satisfied: smmap==5.0.1 in c:\\users\\lenovo\\onedrive\\bureau\\myproject\\.venv\\lib\\site-packages (from -r requirements.txt (line 142)) (5.0.1)\n",
            "Requirement already satisfied: sniffio==1.3.1 in c:\\users\\lenovo\\onedrive\\bureau\\myproject\\.venv\\lib\\site-packages (from -r requirements.txt (line 143)) (1.3.1)\n",
            "Requirement already satisfied: soupsieve==2.5 in c:\\users\\lenovo\\onedrive\\bureau\\myproject\\.venv\\lib\\site-packages (from -r requirements.txt (line 144)) (2.5)\n",
            "Requirement already satisfied: SQLAlchemy==2.0.29 in c:\\users\\lenovo\\onedrive\\bureau\\myproject\\.venv\\lib\\site-packages (from -r requirements.txt (line 145)) (2.0.29)\n",
            "Requirement already satisfied: stack-data==0.6.3 in c:\\users\\lenovo\\onedrive\\bureau\\myproject\\.venv\\lib\\site-packages (from -r requirements.txt (line 146)) (0.6.3)\n",
            "Requirement already satisfied: starlette==0.37.2 in c:\\users\\lenovo\\onedrive\\bureau\\myproject\\.venv\\lib\\site-packages (from -r requirements.txt (line 147)) (0.37.2)\n",
            "Requirement already satisfied: streamlit==1.34.0 in c:\\users\\lenovo\\onedrive\\bureau\\myproject\\.venv\\lib\\site-packages (from -r requirements.txt (line 148)) (1.34.0)\n",
            "Requirement already satisfied: sympy==1.12 in c:\\users\\lenovo\\onedrive\\bureau\\myproject\\.venv\\lib\\site-packages (from -r requirements.txt (line 149)) (1.12)\n",
            "Requirement already satisfied: tenacity==8.2.3 in c:\\users\\lenovo\\onedrive\\bureau\\myproject\\.venv\\lib\\site-packages (from -r requirements.txt (line 150)) (8.2.3)\n",
            "Requirement already satisfied: tokenizers==0.19.1 in c:\\users\\lenovo\\onedrive\\bureau\\myproject\\.venv\\lib\\site-packages (from -r requirements.txt (line 151)) (0.19.1)\n",
            "Requirement already satisfied: toml==0.10.2 in c:\\users\\lenovo\\onedrive\\bureau\\myproject\\.venv\\lib\\site-packages (from -r requirements.txt (line 152)) (0.10.2)\n",
            "Requirement already satisfied: toolz==0.12.1 in c:\\users\\lenovo\\onedrive\\bureau\\myproject\\.venv\\lib\\site-packages (from -r requirements.txt (line 153)) (0.12.1)\n",
            "Requirement already satisfied: tornado==6.4 in c:\\users\\lenovo\\onedrive\\bureau\\myproject\\.venv\\lib\\site-packages (from -r requirements.txt (line 154)) (6.4)\n",
            "Requirement already satisfied: tqdm==4.66.2 in c:\\users\\lenovo\\onedrive\\bureau\\myproject\\.venv\\lib\\site-packages (from -r requirements.txt (line 155)) (4.66.2)\n",
            "Requirement already satisfied: traitlets==5.14.3 in c:\\users\\lenovo\\onedrive\\bureau\\myproject\\.venv\\lib\\site-packages (from -r requirements.txt (line 156)) (5.14.3)\n",
            "Requirement already satisfied: typer==0.12.3 in c:\\users\\lenovo\\onedrive\\bureau\\myproject\\.venv\\lib\\site-packages (from -r requirements.txt (line 157)) (0.12.3)\n",
            "Requirement already satisfied: typing-inspect==0.9.0 in c:\\users\\lenovo\\onedrive\\bureau\\myproject\\.venv\\lib\\site-packages (from -r requirements.txt (line 158)) (0.9.0)\n",
            "Requirement already satisfied: typing_extensions==4.11.0 in c:\\users\\lenovo\\onedrive\\bureau\\myproject\\.venv\\lib\\site-packages (from -r requirements.txt (line 159)) (4.11.0)\n",
            "Requirement already satisfied: tzdata==2024.1 in c:\\users\\lenovo\\onedrive\\bureau\\myproject\\.venv\\lib\\site-packages (from -r requirements.txt (line 160)) (2024.1)\n",
            "Requirement already satisfied: ujson==5.9.0 in c:\\users\\lenovo\\onedrive\\bureau\\myproject\\.venv\\lib\\site-packages (from -r requirements.txt (line 161)) (5.9.0)\n",
            "Requirement already satisfied: uritemplate==4.1.1 in c:\\users\\lenovo\\onedrive\\bureau\\myproject\\.venv\\lib\\site-packages (from -r requirements.txt (line 162)) (4.1.1)\n",
            "Requirement already satisfied: urllib3==2.2.1 in c:\\users\\lenovo\\onedrive\\bureau\\myproject\\.venv\\lib\\site-packages (from -r requirements.txt (line 163)) (2.2.1)\n",
            "Requirement already satisfied: uvicorn==0.29.0 in c:\\users\\lenovo\\onedrive\\bureau\\myproject\\.venv\\lib\\site-packages (from -r requirements.txt (line 164)) (0.29.0)\n",
            "Requirement already satisfied: watchdog==4.0.0 in c:\\users\\lenovo\\onedrive\\bureau\\myproject\\.venv\\lib\\site-packages (from -r requirements.txt (line 165)) (4.0.0)\n",
            "Requirement already satisfied: watchfiles==0.21.0 in c:\\users\\lenovo\\onedrive\\bureau\\myproject\\.venv\\lib\\site-packages (from -r requirements.txt (line 166)) (0.21.0)\n",
            "Requirement already satisfied: wcwidth==0.2.13 in c:\\users\\lenovo\\onedrive\\bureau\\myproject\\.venv\\lib\\site-packages (from -r requirements.txt (line 167)) (0.2.13)\n",
            "Requirement already satisfied: websocket-client==1.8.0 in c:\\users\\lenovo\\onedrive\\bureau\\myproject\\.venv\\lib\\site-packages (from -r requirements.txt (line 168)) (1.8.0)\n",
            "Requirement already satisfied: websockets==12.0 in c:\\users\\lenovo\\onedrive\\bureau\\myproject\\.venv\\lib\\site-packages (from -r requirements.txt (line 169)) (12.0)\n",
            "Requirement already satisfied: wrapt==1.16.0 in c:\\users\\lenovo\\onedrive\\bureau\\myproject\\.venv\\lib\\site-packages (from -r requirements.txt (line 170)) (1.16.0)\n",
            "Requirement already satisfied: yarl==1.9.4 in c:\\users\\lenovo\\onedrive\\bureau\\myproject\\.venv\\lib\\site-packages (from -r requirements.txt (line 171)) (1.9.4)\n",
            "Requirement already satisfied: zipp==3.18.1 in c:\\users\\lenovo\\onedrive\\bureau\\myproject\\.venv\\lib\\site-packages (from -r requirements.txt (line 172)) (3.18.1)\n"
          ]
        }
      ],
      "source": [
        "pip install -r requirements.txt"
      ]
    },
    {
      "cell_type": "code",
      "execution_count": 12,
      "metadata": {
        "id": "d1Op3VpbdEfG"
      },
      "outputs": [
        {
          "name": "stderr",
          "output_type": "stream",
          "text": [
            "c:\\Users\\lenovo\\OneDrive\\Bureau\\MyProject\\.venv\\Lib\\site-packages\\tqdm\\auto.py:21: TqdmWarning: IProgress not found. Please update jupyter and ipywidgets. See https://ipywidgets.readthedocs.io/en/stable/user_install.html\n",
            "  from .autonotebook import tqdm as notebook_tqdm\n"
          ]
        },
        {
          "name": "stdout",
          "output_type": "stream",
          "text": [
            "GOOGLE_API_KEY\n",
            "PINECONE_API_KEY\n"
          ]
        }
      ],
      "source": [
        "from langchain.document_loaders import TextLoader\n",
        "from langchain.text_splitter import RecursiveCharacterTextSplitter\n",
        "from langchain_google_genai.embeddings import GoogleGenerativeAIEmbeddings\n",
        "from langchain_google_genai import ChatGoogleGenerativeAI\n",
        "import os\n",
        "from dotenv import load_dotenv ,find_dotenv\n",
        "load_dotenv(find_dotenv(), override=True)\n",
        "if os.environ:\n",
        "    for api_key in os.environ:\n",
        "        if \"API_KEY\" in api_key:\n",
        "            print(api_key)\n",
        "else:\n",
        "    import getpass\n",
        "    os.environ[\"GOOGLE_API_KEY\"] = getpass.getpass(\"GOOGLE_API_KEY\")"
      ]
    },
    {
      "cell_type": "code",
      "execution_count": 13,
      "metadata": {
        "id": "rQ7PPjamdtIF"
      },
      "outputs": [],
      "source": [
        "# from pprint import pprint\n",
        "from typing import List\n",
        "def load_docs_locally(files:List[str]=[]):\n",
        "\n",
        "    import os\n",
        "    os.chdir(os.path.join(BASE_DIR,\"files/\"))\n",
        "    print(f\"current directory: {os.getcwd()}\")\n",
        "    files = [file for file in os.listdir()] if not files else files\n",
        "    # pprint(files)\n",
        "\n",
        "    data = []\n",
        "\n",
        "    for file in files:\n",
        "        _, extension = os.path.splitext(file)\n",
        "        if not file.startswith(\".\"):\n",
        "          match extension:\n",
        "              case \".pdf\":\n",
        "                  from langchain.document_loaders import PyPDFLoader\n",
        "                \n",
        "                  loader = PyPDFLoader(file)\n",
        "                  print(f\"loading pdf {file} ....\")\n",
        "              case \".txt\":\n",
        "                  from langchain.document_loaders import TextLoader\n",
        "                  loader = TextLoader(file, encoding=\"utf-8\")\n",
        "                  print(f\"loading text {file} ....\")\n",
        "              case \".docx\":\n",
        "                  from langchain.document_loaders import Docx2textLoader\n",
        "                  loader = Docx2textLoader(file)\n",
        "                  print(f\"loading docx {file} ....\")\n",
        "              case _:\n",
        "                  print(f\"no such available format such as {extension}\")\n",
        "\n",
        "\n",
        "        data += loader.load()\n",
        "    os.chdir(\"../\")\n",
        "    # pprint(data)\n",
        "    return data"
      ]
    },
    {
      "cell_type": "code",
      "execution_count": null,
      "metadata": {
        "id": "rXsSma_8eAwN"
      },
      "outputs": [],
      "source": [
        "def download_file(url:str,filename:str):\n",
        "    import requests,os\n",
        "    binary_file = requests.get(url).content\n",
        "    _,extension = os.path.splitext(url)\n",
        "\n",
        "    with open(f\"files/{filename}{extension}\", 'wb') as f:\n",
        "        f.write(binary_file)\n",
        "\n",
        "    print(f\"done downloading {filename}{extension}\")\n",
        "    return f\"files/{filename}{extension}\""
      ]
    },
    {
      "cell_type": "code",
      "execution_count": 14,
      "metadata": {
        "id": "nwtTRwRIilhz"
      },
      "outputs": [],
      "source": [
        "def load_docs(docs_urls=[\"https://fsciences.univ-setif.dz/main_page/home\"]):\n",
        "    from langchain.document_loaders.async_html import AsyncHtmlLoader\n",
        "    print(\"loading started....\")\n",
        "    loader = AsyncHtmlLoader(docs_urls)\n",
        "    documents = loader.load()\n",
        "    return documents"
      ]
    },
    {
      "cell_type": "code",
      "execution_count": 15,
      "metadata": {
        "id": "dCJmECp1iidn"
      },
      "outputs": [],
      "source": [
        "def clean_html(html_page:str, title:str):\n",
        "    from pprint import pprint\n",
        "    from bs4 import BeautifulSoup\n",
        "    parser = BeautifulSoup(html_page, \"html.parser\")\n",
        "    # pprint(parser.prettify())\n",
        "    with open(f\"files/{title}.txt\", \"w\",encoding=\"utf-8\") as f:\n",
        "        for string in parser.strings:\n",
        "            if string !=\"\\n\":\n",
        "                f.write(string.strip())\n",
        "                f.write(\"\\n\")"
      ]
    },
    {
      "cell_type": "code",
      "execution_count": 16,
      "metadata": {
        "id": "0NiyXTcqiIvj"
      },
      "outputs": [],
      "source": [
        "from typing import List\n",
        "def mass_download(urls:List[str]):\n",
        "  file_titles = []\n",
        "  html_pages = load_docs(urls)\n",
        "  for i,html_page in enumerate(html_pages):\n",
        "      cleaned_file_title = (\n",
        "          urls[i]\n",
        "          .replace(\"/\", \"_\")\n",
        "          .replace(\".\", \"_\")\n",
        "          .replace(\"-\", \"_\")\n",
        "          .replace(\"https:\", \"\")\n",
        "          .replace(\"dz\", \"\")\n",
        "          .replace(\"net\", \"\")\n",
        "          .replace(\"com\", \"\")\n",
        "          .replace(\"org\", \"\")\n",
        "          .replace(\"edu\", \"\")\n",
        "          .strip(\"_\")\n",
        "      )\n",
        "      clean_html(\n",
        "          html_page.page_content,\n",
        "          cleaned_file_title\n",
        "      )\n",
        "      file_titles.append(cleaned_file_title)\n",
        "  return file_titles"
      ]
    },
    {
      "cell_type": "code",
      "execution_count": 17,
      "metadata": {
        "colab": {
          "base_uri": "https://localhost:8080/"
        },
        "id": "n4Oa8DQ_iXPK",
        "outputId": "6e891f80-ff22-4aa7-aff8-88e4997b8d31"
      },
      "outputs": [
        {
          "name": "stdout",
          "output_type": "stream",
          "text": [
            "loading started....\n"
          ]
        },
        {
          "name": "stderr",
          "output_type": "stream",
          "text": [
            "Fetching pages: 100%|##########| 1/1 [00:01<00:00,  1.40s/it]\n"
          ]
        },
        {
          "data": {
            "text/plain": [
              "['fsciences_univ_setif__main_page_english']"
            ]
          },
          "execution_count": 17,
          "metadata": {},
          "output_type": "execute_result"
        }
      ],
      "source": [
        "urls = [\n",
        "      \"https://fsciences.univ-setif.dz/main_page/english\",     \n",
        "  ]\n",
        "mass_download(urls)"
      ]
    },
    {
      "cell_type": "code",
      "execution_count": 18,
      "metadata": {
        "colab": {
          "base_uri": "https://localhost:8080/"
        },
        "id": "4o8orVx8dwOa",
        "outputId": "558cd4cb-1290-4e5a-a12b-6443fa33c8e7"
      },
      "outputs": [
        {
          "name": "stdout",
          "output_type": "stream",
          "text": [
            "current directory: c:\\Users\\lenovo\\OneDrive\\Bureau\\MyProject\\files\n",
            "loading pdf banque_AR.pdf ....\n",
            "loading pdf Banque_FR.pdf ....\n",
            "loading text fsciences_univ_setif__main_page_english.txt ....\n",
            "loading text profe.txt ....\n"
          ]
        }
      ],
      "source": [
        "from pprint import pprint\n",
        "BASE_DIR=os.getcwd()\n",
        "docs = load_docs_locally()\n",
        "# pprint(docs)"
      ]
    },
    {
      "cell_type": "code",
      "execution_count": 19,
      "metadata": {
        "id": "9l_0FSVTd8nY"
      },
      "outputs": [],
      "source": [
        "def chunk_data(docs):\n",
        "  text_splitter = RecursiveCharacterTextSplitter(chunk_size=250, chunk_overlap=0)\n",
        "  text = \"\\n\".join([doc.page_content for doc in docs])\n",
        "  # print(text)\n",
        "  chunks = text_splitter.split_text(text)\n",
        "  return chunks"
      ]
    },
    {
      "cell_type": "code",
      "execution_count": 20,
      "metadata": {
        "colab": {
          "base_uri": "https://localhost:8080/"
        },
        "id": "uK5pZASReVqN",
        "outputId": "43eec86b-e53a-4f42-c184-b320bcfddae5"
      },
      "outputs": [
        {
          "name": "stdout",
          "output_type": "stream",
          "text": [
            "245 chunk\n"
          ]
        }
      ],
      "source": [
        "chunks = chunk_data(docs)\n",
        "print(f\"{len(chunks)} chunk\")\n",
        "# pprint(chunks)"
      ]
    },
    {
      "cell_type": "code",
      "execution_count": 21,
      "metadata": {
        "id": "5Hr_17xmecb7"
      },
      "outputs": [],
      "source": [
        "def embed_data(chunks):\n",
        "  from langchain.vectorstores.chroma import Chroma\n",
        "  embedding = GoogleGenerativeAIEmbeddings(model=\"models/embedding-001\")\n",
        "  vector_index = Chroma.from_texts(\n",
        "      chunks,\n",
        "      embedding\n",
        "  ).as_retriever(\n",
        "      search_type=\"similarity\",\n",
        "      search_kwargs={\n",
        "          \"k\":5\n",
        "      }\n",
        "  )\n",
        "  return vector_index"
      ]
    },
    {
      "cell_type": "code",
      "execution_count": 22,
      "metadata": {
        "id": "ZNRYWYXDeyP4"
      },
      "outputs": [],
      "source": [
        "def ask_question(query, vector_index):\n",
        "  from langchain.prompts import PromptTemplate\n",
        "  from langchain_google_genai import ChatGoogleGenerativeAI\n",
        "  from langchain.chains import RetrievalQA\n",
        "\n",
        "  template = \"\"\"\n",
        "  use the following pieces of context to answer the question at the end, translate the answer to arabic. if you don't the answer just say that you don't know the answer, don't try to make up an answer, keep the answer as concise as possible\n",
        "  {context}\n",
        "  Question:{question}\n",
        "  \"\"\"\n",
        "  QA_CHAIN_TEMPLATE = PromptTemplate.from_template(template)\n",
        "  chroma_chain = RetrievalQA.from_chain_type(\n",
        "      llm=ChatGoogleGenerativeAI(model=\"gemini-pro\", temperature=1),\n",
        "      retriever=vector_index,\n",
        "      return_source_documents=True,\n",
        "      chain_type_kwargs={\n",
        "          \"prompt\":QA_CHAIN_TEMPLATE\n",
        "      },\n",
        "      verbose=True\n",
        "  )\n",
        "\n",
        "#   response = chroma_chain({\"query\":query})\n",
        "#   pprint(response)\n",
        "  response = chroma_chain({\"query\": query})\n",
        "  result = response[\"result\"]\n",
        "  return result"
      ]
    },
    {
      "cell_type": "code",
      "execution_count": 23,
      "metadata": {
        "colab": {
          "base_uri": "https://localhost:8080/"
        },
        "id": "8KDZSk5LhVAT",
        "outputId": "ebfc968f-f19c-4afd-d71d-8bdfce8a9401"
      },
      "outputs": [
        {
          "name": "stdout",
          "output_type": "stream",
          "text": [
            "VectorStoreRetriever(tags=['Chroma', 'GoogleGenerativeAIEmbeddings'], vectorstore=<langchain_community.vectorstores.chroma.Chroma object at 0x0000014FCD639C10>, search_kwargs={'k': 5})\n"
          ]
        }
      ],
      "source": [
        "vector_index = embed_data(chunks)\n",
        "pprint(vector_index)"
      ]
    },
    {
      "cell_type": "code",
      "execution_count": 24,
      "metadata": {
        "colab": {
          "base_uri": "https://localhost:8080/"
        },
        "id": "qQ_4mKYYe61y",
        "outputId": "b18e8523-b0ed-4460-ee66-543736b60ba5"
      },
      "outputs": [
        {
          "name": "stderr",
          "output_type": "stream",
          "text": [
            "c:\\Users\\lenovo\\OneDrive\\Bureau\\MyProject\\.venv\\Lib\\site-packages\\langchain_core\\_api\\deprecation.py:119: LangChainDeprecationWarning: The method `Chain.__call__` was deprecated in langchain 0.1.0 and will be removed in 0.2.0. Use invoke instead.\n",
            "  warn_deprecated(\n"
          ]
        },
        {
          "name": "stdout",
          "output_type": "stream",
          "text": [
            "\n",
            "\n",
            "\u001b[1m> Entering new RetrievalQA chain...\u001b[0m\n",
            "\n",
            "\u001b[1m> Finished chain.\u001b[0m\n"
          ]
        },
        {
          "data": {
            "text/plain": [
              "'لا أعلم الإجابة'"
            ]
          },
          "execution_count": 24,
          "metadata": {},
          "output_type": "execute_result"
        }
      ],
      "source": [
        "ask_question(input(\"give your query\"), vector_index)"
      ]
    },
    {
      "cell_type": "markdown",
      "metadata": {},
      "source": []
    }
  ],
  "metadata": {
    "colab": {
      "provenance": []
    },
    "kernelspec": {
      "display_name": "Python 3",
      "name": "python3"
    },
    "language_info": {
      "codemirror_mode": {
        "name": "ipython",
        "version": 3
      },
      "file_extension": ".py",
      "mimetype": "text/x-python",
      "name": "python",
      "nbconvert_exporter": "python",
      "pygments_lexer": "ipython3",
      "version": "3.12.2"
    }
  },
  "nbformat": 4,
  "nbformat_minor": 0
}
