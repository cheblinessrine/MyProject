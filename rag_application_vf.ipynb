{
  "cells": [
    {
      "cell_type": "code",
      "execution_count": 3,
      "metadata": {
        "id": "DdR-ZvMec6eb"
      },
      "outputs": [
        {
          "name": "stdout",
          "output_type": "stream",
          "text": [
            "Note: you may need to restart the kernel to use updated packages.\n"
          ]
        }
      ],
      "source": [
        "pip install -q langchain"
      ]
    },
    {
      "cell_type": "code",
      "execution_count": 4,
      "metadata": {},
      "outputs": [
        {
          "name": "stdout",
          "output_type": "stream",
          "text": [
            "Requirement already satisfied: langchain-community in d:\\e13_bot\\.venv\\lib\\site-packages (0.0.36)\n",
            "Collecting langchain-community\n",
            "  Downloading langchain_community-0.0.37-py3-none-any.whl.metadata (8.7 kB)\n",
            "Requirement already satisfied: PyYAML>=5.3 in d:\\e13_bot\\.venv\\lib\\site-packages (from langchain-community) (6.0.1)\n",
            "Requirement already satisfied: SQLAlchemy<3,>=1.4 in d:\\e13_bot\\.venv\\lib\\site-packages (from langchain-community) (2.0.29)\n",
            "Requirement already satisfied: aiohttp<4.0.0,>=3.8.3 in d:\\e13_bot\\.venv\\lib\\site-packages (from langchain-community) (3.9.5)\n",
            "Requirement already satisfied: dataclasses-json<0.7,>=0.5.7 in d:\\e13_bot\\.venv\\lib\\site-packages (from langchain-community) (0.6.5)\n",
            "Collecting langchain-core<0.2.0,>=0.1.51 (from langchain-community)\n",
            "  Downloading langchain_core-0.1.52-py3-none-any.whl.metadata (5.9 kB)\n",
            "Requirement already satisfied: langsmith<0.2.0,>=0.1.0 in d:\\e13_bot\\.venv\\lib\\site-packages (from langchain-community) (0.1.52)\n",
            "Requirement already satisfied: numpy<2,>=1 in d:\\e13_bot\\.venv\\lib\\site-packages (from langchain-community) (1.26.4)\n",
            "Requirement already satisfied: requests<3,>=2 in d:\\e13_bot\\.venv\\lib\\site-packages (from langchain-community) (2.31.0)\n",
            "Requirement already satisfied: tenacity<9.0.0,>=8.1.0 in d:\\e13_bot\\.venv\\lib\\site-packages (from langchain-community) (8.2.3)\n",
            "Requirement already satisfied: aiosignal>=1.1.2 in d:\\e13_bot\\.venv\\lib\\site-packages (from aiohttp<4.0.0,>=3.8.3->langchain-community) (1.3.1)\n",
            "Requirement already satisfied: attrs>=17.3.0 in d:\\e13_bot\\.venv\\lib\\site-packages (from aiohttp<4.0.0,>=3.8.3->langchain-community) (23.2.0)\n",
            "Requirement already satisfied: frozenlist>=1.1.1 in d:\\e13_bot\\.venv\\lib\\site-packages (from aiohttp<4.0.0,>=3.8.3->langchain-community) (1.4.1)\n",
            "Requirement already satisfied: multidict<7.0,>=4.5 in d:\\e13_bot\\.venv\\lib\\site-packages (from aiohttp<4.0.0,>=3.8.3->langchain-community) (6.0.5)\n",
            "Requirement already satisfied: yarl<2.0,>=1.0 in d:\\e13_bot\\.venv\\lib\\site-packages (from aiohttp<4.0.0,>=3.8.3->langchain-community) (1.9.4)\n",
            "Requirement already satisfied: marshmallow<4.0.0,>=3.18.0 in d:\\e13_bot\\.venv\\lib\\site-packages (from dataclasses-json<0.7,>=0.5.7->langchain-community) (3.21.1)\n",
            "Requirement already satisfied: typing-inspect<1,>=0.4.0 in d:\\e13_bot\\.venv\\lib\\site-packages (from dataclasses-json<0.7,>=0.5.7->langchain-community) (0.9.0)\n",
            "Requirement already satisfied: jsonpatch<2.0,>=1.33 in d:\\e13_bot\\.venv\\lib\\site-packages (from langchain-core<0.2.0,>=0.1.51->langchain-community) (1.33)\n",
            "Requirement already satisfied: packaging<24.0,>=23.2 in d:\\e13_bot\\.venv\\lib\\site-packages (from langchain-core<0.2.0,>=0.1.51->langchain-community) (23.2)\n",
            "Requirement already satisfied: pydantic<3,>=1 in d:\\e13_bot\\.venv\\lib\\site-packages (from langchain-core<0.2.0,>=0.1.51->langchain-community) (2.7.1)\n",
            "Requirement already satisfied: orjson<4.0.0,>=3.9.14 in d:\\e13_bot\\.venv\\lib\\site-packages (from langsmith<0.2.0,>=0.1.0->langchain-community) (3.10.2)\n",
            "Requirement already satisfied: charset-normalizer<4,>=2 in d:\\e13_bot\\.venv\\lib\\site-packages (from requests<3,>=2->langchain-community) (3.3.2)\n",
            "Requirement already satisfied: idna<4,>=2.5 in d:\\e13_bot\\.venv\\lib\\site-packages (from requests<3,>=2->langchain-community) (3.7)\n",
            "Requirement already satisfied: urllib3<3,>=1.21.1 in d:\\e13_bot\\.venv\\lib\\site-packages (from requests<3,>=2->langchain-community) (2.2.1)\n",
            "Requirement already satisfied: certifi>=2017.4.17 in d:\\e13_bot\\.venv\\lib\\site-packages (from requests<3,>=2->langchain-community) (2024.2.2)\n",
            "Requirement already satisfied: typing-extensions>=4.6.0 in d:\\e13_bot\\.venv\\lib\\site-packages (from SQLAlchemy<3,>=1.4->langchain-community) (4.11.0)\n",
            "Requirement already satisfied: greenlet!=0.4.17 in d:\\e13_bot\\.venv\\lib\\site-packages (from SQLAlchemy<3,>=1.4->langchain-community) (3.0.3)\n",
            "Requirement already satisfied: jsonpointer>=1.9 in d:\\e13_bot\\.venv\\lib\\site-packages (from jsonpatch<2.0,>=1.33->langchain-core<0.2.0,>=0.1.51->langchain-community) (2.4)\n",
            "Requirement already satisfied: annotated-types>=0.4.0 in d:\\e13_bot\\.venv\\lib\\site-packages (from pydantic<3,>=1->langchain-core<0.2.0,>=0.1.51->langchain-community) (0.6.0)\n",
            "Requirement already satisfied: pydantic-core==2.18.2 in d:\\e13_bot\\.venv\\lib\\site-packages (from pydantic<3,>=1->langchain-core<0.2.0,>=0.1.51->langchain-community) (2.18.2)\n",
            "Requirement already satisfied: mypy-extensions>=0.3.0 in d:\\e13_bot\\.venv\\lib\\site-packages (from typing-inspect<1,>=0.4.0->dataclasses-json<0.7,>=0.5.7->langchain-community) (1.0.0)\n",
            "Downloading langchain_community-0.0.37-py3-none-any.whl (2.0 MB)\n",
            "   ---------------------------------------- 0.0/2.0 MB ? eta -:--:--\n",
            "   ---------------------------------------- 0.0/2.0 MB ? eta -:--:--\n",
            "    --------------------------------------- 0.0/2.0 MB 330.3 kB/s eta 0:00:07\n",
            "   - -------------------------------------- 0.1/2.0 MB 544.7 kB/s eta 0:00:04\n",
            "   -- ------------------------------------- 0.1/2.0 MB 853.3 kB/s eta 0:00:03\n",
            "   ---- ----------------------------------- 0.2/2.0 MB 1.1 MB/s eta 0:00:02\n",
            "   ------ --------------------------------- 0.3/2.0 MB 1.2 MB/s eta 0:00:02\n",
            "   ------- -------------------------------- 0.4/2.0 MB 1.2 MB/s eta 0:00:02\n",
            "   ------- -------------------------------- 0.4/2.0 MB 1.1 MB/s eta 0:00:02\n",
            "   ------- -------------------------------- 0.4/2.0 MB 1.1 MB/s eta 0:00:02\n",
            "   ----------- ---------------------------- 0.6/2.0 MB 1.4 MB/s eta 0:00:02\n",
            "   ------------ --------------------------- 0.6/2.0 MB 1.3 MB/s eta 0:00:02\n",
            "   --------------- ------------------------ 0.8/2.0 MB 1.4 MB/s eta 0:00:01\n",
            "   --------------- ------------------------ 0.8/2.0 MB 1.4 MB/s eta 0:00:01\n",
            "   ---------------- ----------------------- 0.8/2.0 MB 1.2 MB/s eta 0:00:01\n",
            "   ----------------- ---------------------- 0.9/2.0 MB 1.3 MB/s eta 0:00:01\n",
            "   ----------------- ---------------------- 0.9/2.0 MB 1.3 MB/s eta 0:00:01\n",
            "   -------------------- ------------------- 1.0/2.0 MB 1.3 MB/s eta 0:00:01\n",
            "   -------------------- ------------------- 1.0/2.0 MB 1.3 MB/s eta 0:00:01\n",
            "   --------------------- ------------------ 1.1/2.0 MB 1.2 MB/s eta 0:00:01\n",
            "   ---------------------- ----------------- 1.1/2.0 MB 1.2 MB/s eta 0:00:01\n",
            "   ----------------------- ---------------- 1.2/2.0 MB 1.2 MB/s eta 0:00:01\n",
            "   ------------------------ --------------- 1.2/2.0 MB 1.2 MB/s eta 0:00:01\n",
            "   ------------------------ --------------- 1.2/2.0 MB 1.2 MB/s eta 0:00:01\n",
            "   -------------------------- ------------- 1.3/2.0 MB 1.1 MB/s eta 0:00:01\n",
            "   -------------------------- ------------- 1.4/2.0 MB 1.1 MB/s eta 0:00:01\n",
            "   ---------------------------- ----------- 1.4/2.0 MB 1.1 MB/s eta 0:00:01\n",
            "   ---------------------------- ----------- 1.5/2.0 MB 1.1 MB/s eta 0:00:01\n",
            "   ----------------------------- ---------- 1.5/2.0 MB 1.1 MB/s eta 0:00:01\n",
            "   ------------------------------ --------- 1.5/2.0 MB 1.1 MB/s eta 0:00:01\n",
            "   --------------------------------- ------ 1.7/2.0 MB 1.1 MB/s eta 0:00:01\n",
            "   ----------------------------------- ---- 1.8/2.0 MB 1.1 MB/s eta 0:00:01\n",
            "   ------------------------------------ --- 1.9/2.0 MB 1.2 MB/s eta 0:00:01\n",
            "   ------------------------------------- -- 1.9/2.0 MB 1.1 MB/s eta 0:00:01\n",
            "   ------------------------------------- -- 1.9/2.0 MB 1.1 MB/s eta 0:00:01\n",
            "   -------------------------------------- - 1.9/2.0 MB 1.1 MB/s eta 0:00:01\n",
            "   ---------------------------------------  2.0/2.0 MB 1.1 MB/s eta 0:00:01\n",
            "   ---------------------------------------  2.0/2.0 MB 1.1 MB/s eta 0:00:01\n",
            "   ---------------------------------------  2.0/2.0 MB 1.1 MB/s eta 0:00:01\n",
            "   ---------------------------------------  2.0/2.0 MB 1.1 MB/s eta 0:00:01\n",
            "   ---------------------------------------  2.0/2.0 MB 1.1 MB/s eta 0:00:01\n",
            "   ---------------------------------------- 2.0/2.0 MB 974.8 kB/s eta 0:00:00\n",
            "Downloading langchain_core-0.1.52-py3-none-any.whl (302 kB)\n",
            "   ---------------------------------------- 0.0/302.9 kB ? eta -:--:--\n",
            "   ---------- ----------------------------- 81.9/302.9 kB 2.3 MB/s eta 0:00:01\n",
            "   -------------------- ------------------- 153.6/302.9 kB 2.3 MB/s eta 0:00:01\n",
            "   -------------------------------- ------- 245.8/302.9 kB 1.7 MB/s eta 0:00:01\n",
            "   ---------------------------------------  297.0/302.9 kB 1.7 MB/s eta 0:00:01\n",
            "   ---------------------------------------  297.0/302.9 kB 1.7 MB/s eta 0:00:01\n",
            "   ---------------------------------------- 302.9/302.9 kB 1.1 MB/s eta 0:00:00\n",
            "Installing collected packages: langchain-core, langchain-community\n",
            "  Attempting uninstall: langchain-core\n",
            "    Found existing installation: langchain-core 0.1.48\n",
            "    Uninstalling langchain-core-0.1.48:\n",
            "      Successfully uninstalled langchain-core-0.1.48\n",
            "  Attempting uninstall: langchain-community\n",
            "    Found existing installation: langchain-community 0.0.36\n",
            "    Uninstalling langchain-community-0.0.36:\n",
            "      Successfully uninstalled langchain-community-0.0.36\n",
            "Successfully installed langchain-community-0.0.37 langchain-core-0.1.52\n",
            "Note: you may need to restart the kernel to use updated packages.\n"
          ]
        }
      ],
      "source": [
        "pip install -U langchain-community"
      ]
    },
    {
      "cell_type": "code",
      "execution_count": 5,
      "metadata": {},
      "outputs": [
        {
          "name": "stdout",
          "output_type": "stream",
          "text": [
            "Requirement already satisfied: langchain-google-genai in d:\\e13_bot\\.venv\\lib\\site-packages (1.0.3)\n",
            "Requirement already satisfied: google-generativeai<0.6.0,>=0.5.2 in d:\\e13_bot\\.venv\\lib\\site-packages (from langchain-google-genai) (0.5.2)\n",
            "Requirement already satisfied: langchain-core<0.2,>=0.1.45 in d:\\e13_bot\\.venv\\lib\\site-packages (from langchain-google-genai) (0.1.52)\n",
            "Requirement already satisfied: google-ai-generativelanguage==0.6.2 in d:\\e13_bot\\.venv\\lib\\site-packages (from google-generativeai<0.6.0,>=0.5.2->langchain-google-genai) (0.6.2)\n",
            "Requirement already satisfied: google-api-core in d:\\e13_bot\\.venv\\lib\\site-packages (from google-generativeai<0.6.0,>=0.5.2->langchain-google-genai) (2.19.0)\n",
            "Requirement already satisfied: google-api-python-client in d:\\e13_bot\\.venv\\lib\\site-packages (from google-generativeai<0.6.0,>=0.5.2->langchain-google-genai) (2.127.0)\n",
            "Requirement already satisfied: google-auth>=2.15.0 in d:\\e13_bot\\.venv\\lib\\site-packages (from google-generativeai<0.6.0,>=0.5.2->langchain-google-genai) (2.29.0)\n",
            "Requirement already satisfied: protobuf in d:\\e13_bot\\.venv\\lib\\site-packages (from google-generativeai<0.6.0,>=0.5.2->langchain-google-genai) (4.25.3)\n",
            "Requirement already satisfied: pydantic in d:\\e13_bot\\.venv\\lib\\site-packages (from google-generativeai<0.6.0,>=0.5.2->langchain-google-genai) (2.7.1)\n",
            "Requirement already satisfied: tqdm in d:\\e13_bot\\.venv\\lib\\site-packages (from google-generativeai<0.6.0,>=0.5.2->langchain-google-genai) (4.66.2)\n",
            "Requirement already satisfied: typing-extensions in d:\\e13_bot\\.venv\\lib\\site-packages (from google-generativeai<0.6.0,>=0.5.2->langchain-google-genai) (4.11.0)\n",
            "Requirement already satisfied: proto-plus<2.0.0dev,>=1.22.3 in d:\\e13_bot\\.venv\\lib\\site-packages (from google-ai-generativelanguage==0.6.2->google-generativeai<0.6.0,>=0.5.2->langchain-google-genai) (1.23.0)\n",
            "Requirement already satisfied: PyYAML>=5.3 in d:\\e13_bot\\.venv\\lib\\site-packages (from langchain-core<0.2,>=0.1.45->langchain-google-genai) (6.0.1)\n",
            "Requirement already satisfied: jsonpatch<2.0,>=1.33 in d:\\e13_bot\\.venv\\lib\\site-packages (from langchain-core<0.2,>=0.1.45->langchain-google-genai) (1.33)\n",
            "Requirement already satisfied: langsmith<0.2.0,>=0.1.0 in d:\\e13_bot\\.venv\\lib\\site-packages (from langchain-core<0.2,>=0.1.45->langchain-google-genai) (0.1.52)\n",
            "Requirement already satisfied: packaging<24.0,>=23.2 in d:\\e13_bot\\.venv\\lib\\site-packages (from langchain-core<0.2,>=0.1.45->langchain-google-genai) (23.2)\n",
            "Requirement already satisfied: tenacity<9.0.0,>=8.1.0 in d:\\e13_bot\\.venv\\lib\\site-packages (from langchain-core<0.2,>=0.1.45->langchain-google-genai) (8.2.3)\n",
            "Requirement already satisfied: googleapis-common-protos<2.0.dev0,>=1.56.2 in d:\\e13_bot\\.venv\\lib\\site-packages (from google-api-core->google-generativeai<0.6.0,>=0.5.2->langchain-google-genai) (1.63.0)\n",
            "Requirement already satisfied: requests<3.0.0.dev0,>=2.18.0 in d:\\e13_bot\\.venv\\lib\\site-packages (from google-api-core->google-generativeai<0.6.0,>=0.5.2->langchain-google-genai) (2.31.0)\n",
            "Requirement already satisfied: cachetools<6.0,>=2.0.0 in d:\\e13_bot\\.venv\\lib\\site-packages (from google-auth>=2.15.0->google-generativeai<0.6.0,>=0.5.2->langchain-google-genai) (5.3.3)\n",
            "Requirement already satisfied: pyasn1-modules>=0.2.1 in d:\\e13_bot\\.venv\\lib\\site-packages (from google-auth>=2.15.0->google-generativeai<0.6.0,>=0.5.2->langchain-google-genai) (0.4.0)\n",
            "Requirement already satisfied: rsa<5,>=3.1.4 in d:\\e13_bot\\.venv\\lib\\site-packages (from google-auth>=2.15.0->google-generativeai<0.6.0,>=0.5.2->langchain-google-genai) (4.9)\n",
            "Requirement already satisfied: jsonpointer>=1.9 in d:\\e13_bot\\.venv\\lib\\site-packages (from jsonpatch<2.0,>=1.33->langchain-core<0.2,>=0.1.45->langchain-google-genai) (2.4)\n",
            "Requirement already satisfied: orjson<4.0.0,>=3.9.14 in d:\\e13_bot\\.venv\\lib\\site-packages (from langsmith<0.2.0,>=0.1.0->langchain-core<0.2,>=0.1.45->langchain-google-genai) (3.10.2)\n",
            "Requirement already satisfied: annotated-types>=0.4.0 in d:\\e13_bot\\.venv\\lib\\site-packages (from pydantic->google-generativeai<0.6.0,>=0.5.2->langchain-google-genai) (0.6.0)\n",
            "Requirement already satisfied: pydantic-core==2.18.2 in d:\\e13_bot\\.venv\\lib\\site-packages (from pydantic->google-generativeai<0.6.0,>=0.5.2->langchain-google-genai) (2.18.2)\n",
            "Requirement already satisfied: httplib2<1.dev0,>=0.19.0 in d:\\e13_bot\\.venv\\lib\\site-packages (from google-api-python-client->google-generativeai<0.6.0,>=0.5.2->langchain-google-genai) (0.22.0)\n",
            "Requirement already satisfied: google-auth-httplib2<1.0.0,>=0.2.0 in d:\\e13_bot\\.venv\\lib\\site-packages (from google-api-python-client->google-generativeai<0.6.0,>=0.5.2->langchain-google-genai) (0.2.0)\n",
            "Requirement already satisfied: uritemplate<5,>=3.0.1 in d:\\e13_bot\\.venv\\lib\\site-packages (from google-api-python-client->google-generativeai<0.6.0,>=0.5.2->langchain-google-genai) (4.1.1)\n",
            "Requirement already satisfied: colorama in d:\\e13_bot\\.venv\\lib\\site-packages (from tqdm->google-generativeai<0.6.0,>=0.5.2->langchain-google-genai) (0.4.6)\n",
            "Requirement already satisfied: grpcio<2.0dev,>=1.33.2 in d:\\e13_bot\\.venv\\lib\\site-packages (from google-api-core[grpc]!=2.0.*,!=2.1.*,!=2.10.*,!=2.2.*,!=2.3.*,!=2.4.*,!=2.5.*,!=2.6.*,!=2.7.*,!=2.8.*,!=2.9.*,<3.0.0dev,>=1.34.1->google-ai-generativelanguage==0.6.2->google-generativeai<0.6.0,>=0.5.2->langchain-google-genai) (1.63.0)\n",
            "Requirement already satisfied: grpcio-status<2.0.dev0,>=1.33.2 in d:\\e13_bot\\.venv\\lib\\site-packages (from google-api-core[grpc]!=2.0.*,!=2.1.*,!=2.10.*,!=2.2.*,!=2.3.*,!=2.4.*,!=2.5.*,!=2.6.*,!=2.7.*,!=2.8.*,!=2.9.*,<3.0.0dev,>=1.34.1->google-ai-generativelanguage==0.6.2->google-generativeai<0.6.0,>=0.5.2->langchain-google-genai) (1.62.2)\n",
            "Requirement already satisfied: pyparsing!=3.0.0,!=3.0.1,!=3.0.2,!=3.0.3,<4,>=2.4.2 in d:\\e13_bot\\.venv\\lib\\site-packages (from httplib2<1.dev0,>=0.19.0->google-api-python-client->google-generativeai<0.6.0,>=0.5.2->langchain-google-genai) (3.1.2)\n",
            "Requirement already satisfied: pyasn1<0.7.0,>=0.4.6 in d:\\e13_bot\\.venv\\lib\\site-packages (from pyasn1-modules>=0.2.1->google-auth>=2.15.0->google-generativeai<0.6.0,>=0.5.2->langchain-google-genai) (0.6.0)\n",
            "Requirement already satisfied: charset-normalizer<4,>=2 in d:\\e13_bot\\.venv\\lib\\site-packages (from requests<3.0.0.dev0,>=2.18.0->google-api-core->google-generativeai<0.6.0,>=0.5.2->langchain-google-genai) (3.3.2)\n",
            "Requirement already satisfied: idna<4,>=2.5 in d:\\e13_bot\\.venv\\lib\\site-packages (from requests<3.0.0.dev0,>=2.18.0->google-api-core->google-generativeai<0.6.0,>=0.5.2->langchain-google-genai) (3.7)\n",
            "Requirement already satisfied: urllib3<3,>=1.21.1 in d:\\e13_bot\\.venv\\lib\\site-packages (from requests<3.0.0.dev0,>=2.18.0->google-api-core->google-generativeai<0.6.0,>=0.5.2->langchain-google-genai) (2.2.1)\n",
            "Requirement already satisfied: certifi>=2017.4.17 in d:\\e13_bot\\.venv\\lib\\site-packages (from requests<3.0.0.dev0,>=2.18.0->google-api-core->google-generativeai<0.6.0,>=0.5.2->langchain-google-genai) (2024.2.2)\n",
            "Note: you may need to restart the kernel to use updated packages.\n"
          ]
        }
      ],
      "source": [
        "pip install --upgrade langchain-google-genai"
      ]
    },
    {
      "cell_type": "code",
      "execution_count": 6,
      "metadata": {},
      "outputs": [
        {
          "name": "stdout",
          "output_type": "stream",
          "text": [
            "Note: you may need to restart the kernel to use updated packages.\n"
          ]
        }
      ],
      "source": [
        "pip install -q langchain_google_genai"
      ]
    },
    {
      "cell_type": "code",
      "execution_count": 7,
      "metadata": {
        "id": "PK3uUFzydB2p"
      },
      "outputs": [
        {
          "name": "stdout",
          "output_type": "stream",
          "text": [
            "Note: you may need to restart the kernel to use updated packages.\n"
          ]
        }
      ],
      "source": [
        "pip install -q google-generativeai chromadb pypdf  bs4 streamlit docx2txt"
      ]
    },
    {
      "cell_type": "code",
      "execution_count": 8,
      "metadata": {},
      "outputs": [
        {
          "name": "stdout",
          "output_type": "stream",
          "text": [
            "Requirement already satisfied: python-dotenv in d:\\e13_bot\\.venv\\lib\\site-packages (1.0.1)\n",
            "Note: you may need to restart the kernel to use updated packages.\n"
          ]
        }
      ],
      "source": [
        "pip install python-dotenv"
      ]
    },
    {
      "cell_type": "code",
      "execution_count": 9,
      "metadata": {},
      "outputs": [
        {
          "name": "stdout",
          "output_type": "stream",
          "text": [
            "Requirement already satisfied: langchain in d:\\e13_bot\\.venv\\lib\\site-packages (0.1.17)\n",
            "Requirement already satisfied: PyYAML>=5.3 in d:\\e13_bot\\.venv\\lib\\site-packages (from langchain) (6.0.1)\n",
            "Requirement already satisfied: SQLAlchemy<3,>=1.4 in d:\\e13_bot\\.venv\\lib\\site-packages (from langchain) (2.0.29)\n",
            "Requirement already satisfied: aiohttp<4.0.0,>=3.8.3 in d:\\e13_bot\\.venv\\lib\\site-packages (from langchain) (3.9.5)\n",
            "Requirement already satisfied: dataclasses-json<0.7,>=0.5.7 in d:\\e13_bot\\.venv\\lib\\site-packages (from langchain) (0.6.5)\n",
            "Requirement already satisfied: jsonpatch<2.0,>=1.33 in d:\\e13_bot\\.venv\\lib\\site-packages (from langchain) (1.33)\n",
            "Requirement already satisfied: langchain-community<0.1,>=0.0.36 in d:\\e13_bot\\.venv\\lib\\site-packages (from langchain) (0.0.37)\n",
            "Requirement already satisfied: langchain-core<0.2.0,>=0.1.48 in d:\\e13_bot\\.venv\\lib\\site-packages (from langchain) (0.1.52)\n",
            "Requirement already satisfied: langchain-text-splitters<0.1,>=0.0.1 in d:\\e13_bot\\.venv\\lib\\site-packages (from langchain) (0.0.1)\n",
            "Requirement already satisfied: langsmith<0.2.0,>=0.1.17 in d:\\e13_bot\\.venv\\lib\\site-packages (from langchain) (0.1.52)\n",
            "Requirement already satisfied: numpy<2,>=1 in d:\\e13_bot\\.venv\\lib\\site-packages (from langchain) (1.26.4)\n",
            "Requirement already satisfied: pydantic<3,>=1 in d:\\e13_bot\\.venv\\lib\\site-packages (from langchain) (2.7.1)\n",
            "Requirement already satisfied: requests<3,>=2 in d:\\e13_bot\\.venv\\lib\\site-packages (from langchain) (2.31.0)\n",
            "Requirement already satisfied: tenacity<9.0.0,>=8.1.0 in d:\\e13_bot\\.venv\\lib\\site-packages (from langchain) (8.2.3)\n",
            "Requirement already satisfied: aiosignal>=1.1.2 in d:\\e13_bot\\.venv\\lib\\site-packages (from aiohttp<4.0.0,>=3.8.3->langchain) (1.3.1)\n",
            "Requirement already satisfied: attrs>=17.3.0 in d:\\e13_bot\\.venv\\lib\\site-packages (from aiohttp<4.0.0,>=3.8.3->langchain) (23.2.0)\n",
            "Requirement already satisfied: frozenlist>=1.1.1 in d:\\e13_bot\\.venv\\lib\\site-packages (from aiohttp<4.0.0,>=3.8.3->langchain) (1.4.1)\n",
            "Requirement already satisfied: multidict<7.0,>=4.5 in d:\\e13_bot\\.venv\\lib\\site-packages (from aiohttp<4.0.0,>=3.8.3->langchain) (6.0.5)\n",
            "Requirement already satisfied: yarl<2.0,>=1.0 in d:\\e13_bot\\.venv\\lib\\site-packages (from aiohttp<4.0.0,>=3.8.3->langchain) (1.9.4)\n",
            "Requirement already satisfied: marshmallow<4.0.0,>=3.18.0 in d:\\e13_bot\\.venv\\lib\\site-packages (from dataclasses-json<0.7,>=0.5.7->langchain) (3.21.1)\n",
            "Requirement already satisfied: typing-inspect<1,>=0.4.0 in d:\\e13_bot\\.venv\\lib\\site-packages (from dataclasses-json<0.7,>=0.5.7->langchain) (0.9.0)\n",
            "Requirement already satisfied: jsonpointer>=1.9 in d:\\e13_bot\\.venv\\lib\\site-packages (from jsonpatch<2.0,>=1.33->langchain) (2.4)\n",
            "Requirement already satisfied: packaging<24.0,>=23.2 in d:\\e13_bot\\.venv\\lib\\site-packages (from langchain-core<0.2.0,>=0.1.48->langchain) (23.2)\n",
            "Requirement already satisfied: orjson<4.0.0,>=3.9.14 in d:\\e13_bot\\.venv\\lib\\site-packages (from langsmith<0.2.0,>=0.1.17->langchain) (3.10.2)\n",
            "Requirement already satisfied: annotated-types>=0.4.0 in d:\\e13_bot\\.venv\\lib\\site-packages (from pydantic<3,>=1->langchain) (0.6.0)\n",
            "Requirement already satisfied: pydantic-core==2.18.2 in d:\\e13_bot\\.venv\\lib\\site-packages (from pydantic<3,>=1->langchain) (2.18.2)\n",
            "Requirement already satisfied: typing-extensions>=4.6.1 in d:\\e13_bot\\.venv\\lib\\site-packages (from pydantic<3,>=1->langchain) (4.11.0)\n",
            "Requirement already satisfied: charset-normalizer<4,>=2 in d:\\e13_bot\\.venv\\lib\\site-packages (from requests<3,>=2->langchain) (3.3.2)\n",
            "Requirement already satisfied: idna<4,>=2.5 in d:\\e13_bot\\.venv\\lib\\site-packages (from requests<3,>=2->langchain) (3.7)\n",
            "Requirement already satisfied: urllib3<3,>=1.21.1 in d:\\e13_bot\\.venv\\lib\\site-packages (from requests<3,>=2->langchain) (2.2.1)\n",
            "Requirement already satisfied: certifi>=2017.4.17 in d:\\e13_bot\\.venv\\lib\\site-packages (from requests<3,>=2->langchain) (2024.2.2)\n",
            "Requirement already satisfied: greenlet!=0.4.17 in d:\\e13_bot\\.venv\\lib\\site-packages (from SQLAlchemy<3,>=1.4->langchain) (3.0.3)\n",
            "Requirement already satisfied: mypy-extensions>=0.3.0 in d:\\e13_bot\\.venv\\lib\\site-packages (from typing-inspect<1,>=0.4.0->dataclasses-json<0.7,>=0.5.7->langchain) (1.0.0)\n",
            "Note: you may need to restart the kernel to use updated packages.\n"
          ]
        }
      ],
      "source": [
        "pip install langchain --upgrade"
      ]
    },
    {
      "cell_type": "code",
      "execution_count": 10,
      "metadata": {},
      "outputs": [
        {
          "name": "stdout",
          "output_type": "stream",
          "text": [
            "Note: you may need to restart the kernel to use updated packages.\n"
          ]
        }
      ],
      "source": [
        "pip freeze > requirements.txt"
      ]
    },
    {
      "cell_type": "code",
      "execution_count": 11,
      "metadata": {},
      "outputs": [
        {
          "name": "stdout",
          "output_type": "stream",
          "text": [
            "Requirement already satisfied: aiohttp==3.9.5 in d:\\e13_bot\\.venv\\lib\\site-packages (from -r requirements.txt (line 1)) (3.9.5)\n",
            "Requirement already satisfied: aiosignal==1.3.1 in d:\\e13_bot\\.venv\\lib\\site-packages (from -r requirements.txt (line 2)) (1.3.1)\n",
            "Requirement already satisfied: altair==5.3.0 in d:\\e13_bot\\.venv\\lib\\site-packages (from -r requirements.txt (line 3)) (5.3.0)\n",
            "Requirement already satisfied: annotated-types==0.6.0 in d:\\e13_bot\\.venv\\lib\\site-packages (from -r requirements.txt (line 4)) (0.6.0)\n",
            "Requirement already satisfied: anyio==4.3.0 in d:\\e13_bot\\.venv\\lib\\site-packages (from -r requirements.txt (line 5)) (4.3.0)\n",
            "Requirement already satisfied: asgiref==3.8.1 in d:\\e13_bot\\.venv\\lib\\site-packages (from -r requirements.txt (line 6)) (3.8.1)\n",
            "Requirement already satisfied: asttokens==2.4.1 in d:\\e13_bot\\.venv\\lib\\site-packages (from -r requirements.txt (line 7)) (2.4.1)\n",
            "Requirement already satisfied: attrs==23.2.0 in d:\\e13_bot\\.venv\\lib\\site-packages (from -r requirements.txt (line 8)) (23.2.0)\n",
            "Requirement already satisfied: backoff==2.2.1 in d:\\e13_bot\\.venv\\lib\\site-packages (from -r requirements.txt (line 9)) (2.2.1)\n",
            "Requirement already satisfied: bcrypt==4.1.2 in d:\\e13_bot\\.venv\\lib\\site-packages (from -r requirements.txt (line 10)) (4.1.2)\n",
            "Requirement already satisfied: beautifulsoup4==4.12.3 in d:\\e13_bot\\.venv\\lib\\site-packages (from -r requirements.txt (line 11)) (4.12.3)\n",
            "Requirement already satisfied: blinker==1.8.1 in d:\\e13_bot\\.venv\\lib\\site-packages (from -r requirements.txt (line 12)) (1.8.1)\n",
            "Requirement already satisfied: bs4==0.0.2 in d:\\e13_bot\\.venv\\lib\\site-packages (from -r requirements.txt (line 13)) (0.0.2)\n",
            "Requirement already satisfied: build==1.2.1 in d:\\e13_bot\\.venv\\lib\\site-packages (from -r requirements.txt (line 14)) (1.2.1)\n",
            "Requirement already satisfied: cachetools==5.3.3 in d:\\e13_bot\\.venv\\lib\\site-packages (from -r requirements.txt (line 15)) (5.3.3)\n",
            "Requirement already satisfied: certifi==2024.2.2 in d:\\e13_bot\\.venv\\lib\\site-packages (from -r requirements.txt (line 16)) (2024.2.2)\n",
            "Requirement already satisfied: charset-normalizer==3.3.2 in d:\\e13_bot\\.venv\\lib\\site-packages (from -r requirements.txt (line 17)) (3.3.2)\n",
            "Requirement already satisfied: chroma-hnswlib==0.7.3 in d:\\e13_bot\\.venv\\lib\\site-packages (from -r requirements.txt (line 18)) (0.7.3)\n",
            "Requirement already satisfied: chromadb==0.5.0 in d:\\e13_bot\\.venv\\lib\\site-packages (from -r requirements.txt (line 19)) (0.5.0)\n",
            "Requirement already satisfied: click==8.1.7 in d:\\e13_bot\\.venv\\lib\\site-packages (from -r requirements.txt (line 20)) (8.1.7)\n",
            "Requirement already satisfied: colorama==0.4.6 in d:\\e13_bot\\.venv\\lib\\site-packages (from -r requirements.txt (line 21)) (0.4.6)\n",
            "Requirement already satisfied: coloredlogs==15.0.1 in d:\\e13_bot\\.venv\\lib\\site-packages (from -r requirements.txt (line 22)) (15.0.1)\n",
            "Requirement already satisfied: comm==0.2.2 in d:\\e13_bot\\.venv\\lib\\site-packages (from -r requirements.txt (line 23)) (0.2.2)\n",
            "Requirement already satisfied: dataclasses-json==0.6.5 in d:\\e13_bot\\.venv\\lib\\site-packages (from -r requirements.txt (line 24)) (0.6.5)\n",
            "Requirement already satisfied: debugpy==1.8.1 in d:\\e13_bot\\.venv\\lib\\site-packages (from -r requirements.txt (line 25)) (1.8.1)\n",
            "Requirement already satisfied: decorator==5.1.1 in d:\\e13_bot\\.venv\\lib\\site-packages (from -r requirements.txt (line 26)) (5.1.1)\n",
            "Requirement already satisfied: Deprecated==1.2.14 in d:\\e13_bot\\.venv\\lib\\site-packages (from -r requirements.txt (line 27)) (1.2.14)\n",
            "Requirement already satisfied: docx2txt==0.8 in d:\\e13_bot\\.venv\\lib\\site-packages (from -r requirements.txt (line 28)) (0.8)\n",
            "Requirement already satisfied: executing==2.0.1 in d:\\e13_bot\\.venv\\lib\\site-packages (from -r requirements.txt (line 29)) (2.0.1)\n",
            "Requirement already satisfied: fastapi==0.110.3 in d:\\e13_bot\\.venv\\lib\\site-packages (from -r requirements.txt (line 30)) (0.110.3)\n",
            "Requirement already satisfied: filelock==3.14.0 in d:\\e13_bot\\.venv\\lib\\site-packages (from -r requirements.txt (line 31)) (3.14.0)\n",
            "Requirement already satisfied: flatbuffers==24.3.25 in d:\\e13_bot\\.venv\\lib\\site-packages (from -r requirements.txt (line 32)) (24.3.25)\n",
            "Requirement already satisfied: frozenlist==1.4.1 in d:\\e13_bot\\.venv\\lib\\site-packages (from -r requirements.txt (line 33)) (1.4.1)\n",
            "Requirement already satisfied: fsspec==2024.3.1 in d:\\e13_bot\\.venv\\lib\\site-packages (from -r requirements.txt (line 34)) (2024.3.1)\n",
            "Requirement already satisfied: gitdb==4.0.11 in d:\\e13_bot\\.venv\\lib\\site-packages (from -r requirements.txt (line 35)) (4.0.11)\n",
            "Requirement already satisfied: GitPython==3.1.43 in d:\\e13_bot\\.venv\\lib\\site-packages (from -r requirements.txt (line 36)) (3.1.43)\n",
            "Requirement already satisfied: google-ai-generativelanguage==0.6.2 in d:\\e13_bot\\.venv\\lib\\site-packages (from -r requirements.txt (line 37)) (0.6.2)\n",
            "Requirement already satisfied: google-api-core==2.19.0 in d:\\e13_bot\\.venv\\lib\\site-packages (from -r requirements.txt (line 38)) (2.19.0)\n",
            "Requirement already satisfied: google-api-python-client==2.127.0 in d:\\e13_bot\\.venv\\lib\\site-packages (from -r requirements.txt (line 39)) (2.127.0)\n",
            "Requirement already satisfied: google-auth==2.29.0 in d:\\e13_bot\\.venv\\lib\\site-packages (from -r requirements.txt (line 40)) (2.29.0)\n",
            "Requirement already satisfied: google-auth-httplib2==0.2.0 in d:\\e13_bot\\.venv\\lib\\site-packages (from -r requirements.txt (line 41)) (0.2.0)\n",
            "Requirement already satisfied: google-generativeai==0.5.2 in d:\\e13_bot\\.venv\\lib\\site-packages (from -r requirements.txt (line 42)) (0.5.2)\n",
            "Requirement already satisfied: googleapis-common-protos==1.63.0 in d:\\e13_bot\\.venv\\lib\\site-packages (from -r requirements.txt (line 43)) (1.63.0)\n",
            "Requirement already satisfied: greenlet==3.0.3 in d:\\e13_bot\\.venv\\lib\\site-packages (from -r requirements.txt (line 44)) (3.0.3)\n",
            "Requirement already satisfied: grpcio==1.63.0 in d:\\e13_bot\\.venv\\lib\\site-packages (from -r requirements.txt (line 45)) (1.63.0)\n",
            "Requirement already satisfied: grpcio-status==1.62.2 in d:\\e13_bot\\.venv\\lib\\site-packages (from -r requirements.txt (line 46)) (1.62.2)\n",
            "Requirement already satisfied: h11==0.14.0 in d:\\e13_bot\\.venv\\lib\\site-packages (from -r requirements.txt (line 47)) (0.14.0)\n",
            "Requirement already satisfied: httplib2==0.22.0 in d:\\e13_bot\\.venv\\lib\\site-packages (from -r requirements.txt (line 48)) (0.22.0)\n",
            "Requirement already satisfied: httptools==0.6.1 in d:\\e13_bot\\.venv\\lib\\site-packages (from -r requirements.txt (line 49)) (0.6.1)\n",
            "Requirement already satisfied: huggingface-hub==0.22.2 in d:\\e13_bot\\.venv\\lib\\site-packages (from -r requirements.txt (line 50)) (0.22.2)\n",
            "Requirement already satisfied: humanfriendly==10.0 in d:\\e13_bot\\.venv\\lib\\site-packages (from -r requirements.txt (line 51)) (10.0)\n",
            "Requirement already satisfied: idna==3.7 in d:\\e13_bot\\.venv\\lib\\site-packages (from -r requirements.txt (line 52)) (3.7)\n",
            "Requirement already satisfied: importlib-metadata==7.0.0 in d:\\e13_bot\\.venv\\lib\\site-packages (from -r requirements.txt (line 53)) (7.0.0)\n",
            "Requirement already satisfied: importlib_resources==6.4.0 in d:\\e13_bot\\.venv\\lib\\site-packages (from -r requirements.txt (line 54)) (6.4.0)\n",
            "Requirement already satisfied: ipykernel==6.29.4 in d:\\e13_bot\\.venv\\lib\\site-packages (from -r requirements.txt (line 55)) (6.29.4)\n",
            "Requirement already satisfied: ipython==8.24.0 in d:\\e13_bot\\.venv\\lib\\site-packages (from -r requirements.txt (line 56)) (8.24.0)\n",
            "Requirement already satisfied: jedi==0.19.1 in d:\\e13_bot\\.venv\\lib\\site-packages (from -r requirements.txt (line 57)) (0.19.1)\n",
            "Requirement already satisfied: Jinja2==3.1.3 in d:\\e13_bot\\.venv\\lib\\site-packages (from -r requirements.txt (line 58)) (3.1.3)\n",
            "Requirement already satisfied: jsonpatch==1.33 in d:\\e13_bot\\.venv\\lib\\site-packages (from -r requirements.txt (line 59)) (1.33)\n",
            "Requirement already satisfied: jsonpointer==2.4 in d:\\e13_bot\\.venv\\lib\\site-packages (from -r requirements.txt (line 60)) (2.4)\n",
            "Requirement already satisfied: jsonschema==4.22.0 in d:\\e13_bot\\.venv\\lib\\site-packages (from -r requirements.txt (line 61)) (4.22.0)\n",
            "Requirement already satisfied: jsonschema-specifications==2023.12.1 in d:\\e13_bot\\.venv\\lib\\site-packages (from -r requirements.txt (line 62)) (2023.12.1)\n",
            "Requirement already satisfied: jupyter_client==8.6.1 in d:\\e13_bot\\.venv\\lib\\site-packages (from -r requirements.txt (line 63)) (8.6.1)\n",
            "Requirement already satisfied: jupyter_core==5.7.2 in d:\\e13_bot\\.venv\\lib\\site-packages (from -r requirements.txt (line 64)) (5.7.2)\n",
            "Requirement already satisfied: kubernetes==29.0.0 in d:\\e13_bot\\.venv\\lib\\site-packages (from -r requirements.txt (line 65)) (29.0.0)\n",
            "Requirement already satisfied: langchain==0.1.17 in d:\\e13_bot\\.venv\\lib\\site-packages (from -r requirements.txt (line 66)) (0.1.17)\n",
            "Requirement already satisfied: langchain-community==0.0.37 in d:\\e13_bot\\.venv\\lib\\site-packages (from -r requirements.txt (line 67)) (0.0.37)\n",
            "Requirement already satisfied: langchain-core==0.1.52 in d:\\e13_bot\\.venv\\lib\\site-packages (from -r requirements.txt (line 68)) (0.1.52)\n",
            "Requirement already satisfied: langchain-google-genai==1.0.3 in d:\\e13_bot\\.venv\\lib\\site-packages (from -r requirements.txt (line 69)) (1.0.3)\n",
            "Requirement already satisfied: langchain-text-splitters==0.0.1 in d:\\e13_bot\\.venv\\lib\\site-packages (from -r requirements.txt (line 70)) (0.0.1)\n",
            "Requirement already satisfied: langsmith==0.1.52 in d:\\e13_bot\\.venv\\lib\\site-packages (from -r requirements.txt (line 71)) (0.1.52)\n",
            "Requirement already satisfied: markdown-it-py==3.0.0 in d:\\e13_bot\\.venv\\lib\\site-packages (from -r requirements.txt (line 72)) (3.0.0)\n",
            "Requirement already satisfied: MarkupSafe==2.1.5 in d:\\e13_bot\\.venv\\lib\\site-packages (from -r requirements.txt (line 73)) (2.1.5)\n",
            "Requirement already satisfied: marshmallow==3.21.1 in d:\\e13_bot\\.venv\\lib\\site-packages (from -r requirements.txt (line 74)) (3.21.1)\n",
            "Requirement already satisfied: matplotlib-inline==0.1.7 in d:\\e13_bot\\.venv\\lib\\site-packages (from -r requirements.txt (line 75)) (0.1.7)\n",
            "Requirement already satisfied: mdurl==0.1.2 in d:\\e13_bot\\.venv\\lib\\site-packages (from -r requirements.txt (line 76)) (0.1.2)\n",
            "Requirement already satisfied: mmh3==4.1.0 in d:\\e13_bot\\.venv\\lib\\site-packages (from -r requirements.txt (line 77)) (4.1.0)\n",
            "Requirement already satisfied: monotonic==1.6 in d:\\e13_bot\\.venv\\lib\\site-packages (from -r requirements.txt (line 78)) (1.6)\n",
            "Requirement already satisfied: mpmath==1.3.0 in d:\\e13_bot\\.venv\\lib\\site-packages (from -r requirements.txt (line 79)) (1.3.0)\n",
            "Requirement already satisfied: multidict==6.0.5 in d:\\e13_bot\\.venv\\lib\\site-packages (from -r requirements.txt (line 80)) (6.0.5)\n",
            "Requirement already satisfied: mypy-extensions==1.0.0 in d:\\e13_bot\\.venv\\lib\\site-packages (from -r requirements.txt (line 81)) (1.0.0)\n",
            "Requirement already satisfied: nest-asyncio==1.6.0 in d:\\e13_bot\\.venv\\lib\\site-packages (from -r requirements.txt (line 82)) (1.6.0)\n",
            "Requirement already satisfied: numpy==1.26.4 in d:\\e13_bot\\.venv\\lib\\site-packages (from -r requirements.txt (line 83)) (1.26.4)\n",
            "Requirement already satisfied: oauthlib==3.2.2 in d:\\e13_bot\\.venv\\lib\\site-packages (from -r requirements.txt (line 84)) (3.2.2)\n",
            "Requirement already satisfied: onnxruntime==1.17.3 in d:\\e13_bot\\.venv\\lib\\site-packages (from -r requirements.txt (line 85)) (1.17.3)\n",
            "Requirement already satisfied: opentelemetry-api==1.24.0 in d:\\e13_bot\\.venv\\lib\\site-packages (from -r requirements.txt (line 86)) (1.24.0)\n",
            "Requirement already satisfied: opentelemetry-exporter-otlp-proto-common==1.24.0 in d:\\e13_bot\\.venv\\lib\\site-packages (from -r requirements.txt (line 87)) (1.24.0)\n",
            "Requirement already satisfied: opentelemetry-exporter-otlp-proto-grpc==1.24.0 in d:\\e13_bot\\.venv\\lib\\site-packages (from -r requirements.txt (line 88)) (1.24.0)\n",
            "Requirement already satisfied: opentelemetry-instrumentation==0.45b0 in d:\\e13_bot\\.venv\\lib\\site-packages (from -r requirements.txt (line 89)) (0.45b0)\n",
            "Requirement already satisfied: opentelemetry-instrumentation-asgi==0.45b0 in d:\\e13_bot\\.venv\\lib\\site-packages (from -r requirements.txt (line 90)) (0.45b0)\n",
            "Requirement already satisfied: opentelemetry-instrumentation-fastapi==0.45b0 in d:\\e13_bot\\.venv\\lib\\site-packages (from -r requirements.txt (line 91)) (0.45b0)\n",
            "Requirement already satisfied: opentelemetry-proto==1.24.0 in d:\\e13_bot\\.venv\\lib\\site-packages (from -r requirements.txt (line 92)) (1.24.0)\n",
            "Requirement already satisfied: opentelemetry-sdk==1.24.0 in d:\\e13_bot\\.venv\\lib\\site-packages (from -r requirements.txt (line 93)) (1.24.0)\n",
            "Requirement already satisfied: opentelemetry-semantic-conventions==0.45b0 in d:\\e13_bot\\.venv\\lib\\site-packages (from -r requirements.txt (line 94)) (0.45b0)\n",
            "Requirement already satisfied: opentelemetry-util-http==0.45b0 in d:\\e13_bot\\.venv\\lib\\site-packages (from -r requirements.txt (line 95)) (0.45b0)\n",
            "Requirement already satisfied: orjson==3.10.2 in d:\\e13_bot\\.venv\\lib\\site-packages (from -r requirements.txt (line 96)) (3.10.2)\n",
            "Requirement already satisfied: overrides==7.7.0 in d:\\e13_bot\\.venv\\lib\\site-packages (from -r requirements.txt (line 97)) (7.7.0)\n",
            "Requirement already satisfied: packaging==23.2 in d:\\e13_bot\\.venv\\lib\\site-packages (from -r requirements.txt (line 98)) (23.2)\n",
            "Requirement already satisfied: pandas==2.2.2 in d:\\e13_bot\\.venv\\lib\\site-packages (from -r requirements.txt (line 99)) (2.2.2)\n",
            "Requirement already satisfied: parso==0.8.4 in d:\\e13_bot\\.venv\\lib\\site-packages (from -r requirements.txt (line 100)) (0.8.4)\n",
            "Requirement already satisfied: pillow==10.3.0 in d:\\e13_bot\\.venv\\lib\\site-packages (from -r requirements.txt (line 101)) (10.3.0)\n",
            "Requirement already satisfied: platformdirs==4.2.1 in d:\\e13_bot\\.venv\\lib\\site-packages (from -r requirements.txt (line 102)) (4.2.1)\n",
            "Requirement already satisfied: posthog==3.5.0 in d:\\e13_bot\\.venv\\lib\\site-packages (from -r requirements.txt (line 103)) (3.5.0)\n",
            "Requirement already satisfied: prompt-toolkit==3.0.43 in d:\\e13_bot\\.venv\\lib\\site-packages (from -r requirements.txt (line 104)) (3.0.43)\n",
            "Requirement already satisfied: proto-plus==1.23.0 in d:\\e13_bot\\.venv\\lib\\site-packages (from -r requirements.txt (line 105)) (1.23.0)\n",
            "Requirement already satisfied: protobuf==4.25.3 in d:\\e13_bot\\.venv\\lib\\site-packages (from -r requirements.txt (line 106)) (4.25.3)\n",
            "Requirement already satisfied: psutil==5.9.8 in d:\\e13_bot\\.venv\\lib\\site-packages (from -r requirements.txt (line 107)) (5.9.8)\n",
            "Requirement already satisfied: pure-eval==0.2.2 in d:\\e13_bot\\.venv\\lib\\site-packages (from -r requirements.txt (line 108)) (0.2.2)\n",
            "Requirement already satisfied: pyarrow==16.0.0 in d:\\e13_bot\\.venv\\lib\\site-packages (from -r requirements.txt (line 109)) (16.0.0)\n",
            "Requirement already satisfied: pyasn1==0.6.0 in d:\\e13_bot\\.venv\\lib\\site-packages (from -r requirements.txt (line 110)) (0.6.0)\n",
            "Requirement already satisfied: pyasn1_modules==0.4.0 in d:\\e13_bot\\.venv\\lib\\site-packages (from -r requirements.txt (line 111)) (0.4.0)\n",
            "Requirement already satisfied: pydantic==2.7.1 in d:\\e13_bot\\.venv\\lib\\site-packages (from -r requirements.txt (line 112)) (2.7.1)\n",
            "Requirement already satisfied: pydantic_core==2.18.2 in d:\\e13_bot\\.venv\\lib\\site-packages (from -r requirements.txt (line 113)) (2.18.2)\n",
            "Requirement already satisfied: pydeck==0.9.0 in d:\\e13_bot\\.venv\\lib\\site-packages (from -r requirements.txt (line 114)) (0.9.0)\n",
            "Requirement already satisfied: Pygments==2.17.2 in d:\\e13_bot\\.venv\\lib\\site-packages (from -r requirements.txt (line 115)) (2.17.2)\n",
            "Requirement already satisfied: pyparsing==3.1.2 in d:\\e13_bot\\.venv\\lib\\site-packages (from -r requirements.txt (line 116)) (3.1.2)\n",
            "Requirement already satisfied: pypdf==4.2.0 in d:\\e13_bot\\.venv\\lib\\site-packages (from -r requirements.txt (line 117)) (4.2.0)\n",
            "Requirement already satisfied: PyPika==0.48.9 in d:\\e13_bot\\.venv\\lib\\site-packages (from -r requirements.txt (line 118)) (0.48.9)\n",
            "Requirement already satisfied: pyproject_hooks==1.1.0 in d:\\e13_bot\\.venv\\lib\\site-packages (from -r requirements.txt (line 119)) (1.1.0)\n",
            "Requirement already satisfied: pyreadline3==3.4.1 in d:\\e13_bot\\.venv\\lib\\site-packages (from -r requirements.txt (line 120)) (3.4.1)\n",
            "Requirement already satisfied: python-dateutil==2.9.0.post0 in d:\\e13_bot\\.venv\\lib\\site-packages (from -r requirements.txt (line 121)) (2.9.0.post0)\n",
            "Requirement already satisfied: python-dotenv==1.0.1 in d:\\e13_bot\\.venv\\lib\\site-packages (from -r requirements.txt (line 122)) (1.0.1)\n",
            "Requirement already satisfied: pytz==2024.1 in d:\\e13_bot\\.venv\\lib\\site-packages (from -r requirements.txt (line 123)) (2024.1)\n",
            "Requirement already satisfied: pywin32==306 in d:\\e13_bot\\.venv\\lib\\site-packages (from -r requirements.txt (line 124)) (306)\n",
            "Requirement already satisfied: PyYAML==6.0.1 in d:\\e13_bot\\.venv\\lib\\site-packages (from -r requirements.txt (line 125)) (6.0.1)\n",
            "Requirement already satisfied: pyzmq==26.0.3 in d:\\e13_bot\\.venv\\lib\\site-packages (from -r requirements.txt (line 126)) (26.0.3)\n",
            "Requirement already satisfied: referencing==0.35.1 in d:\\e13_bot\\.venv\\lib\\site-packages (from -r requirements.txt (line 127)) (0.35.1)\n",
            "Requirement already satisfied: requests==2.31.0 in d:\\e13_bot\\.venv\\lib\\site-packages (from -r requirements.txt (line 128)) (2.31.0)\n",
            "Requirement already satisfied: requests-oauthlib==2.0.0 in d:\\e13_bot\\.venv\\lib\\site-packages (from -r requirements.txt (line 129)) (2.0.0)\n",
            "Requirement already satisfied: rich==13.7.1 in d:\\e13_bot\\.venv\\lib\\site-packages (from -r requirements.txt (line 130)) (13.7.1)\n",
            "Requirement already satisfied: rpds-py==0.18.0 in d:\\e13_bot\\.venv\\lib\\site-packages (from -r requirements.txt (line 131)) (0.18.0)\n",
            "Requirement already satisfied: rsa==4.9 in d:\\e13_bot\\.venv\\lib\\site-packages (from -r requirements.txt (line 132)) (4.9)\n",
            "Requirement already satisfied: setuptools==69.5.1 in d:\\e13_bot\\.venv\\lib\\site-packages (from -r requirements.txt (line 133)) (69.5.1)\n",
            "Requirement already satisfied: shellingham==1.5.4 in d:\\e13_bot\\.venv\\lib\\site-packages (from -r requirements.txt (line 134)) (1.5.4)\n",
            "Requirement already satisfied: six==1.16.0 in d:\\e13_bot\\.venv\\lib\\site-packages (from -r requirements.txt (line 135)) (1.16.0)\n",
            "Requirement already satisfied: smmap==5.0.1 in d:\\e13_bot\\.venv\\lib\\site-packages (from -r requirements.txt (line 136)) (5.0.1)\n",
            "Requirement already satisfied: sniffio==1.3.1 in d:\\e13_bot\\.venv\\lib\\site-packages (from -r requirements.txt (line 137)) (1.3.1)\n",
            "Requirement already satisfied: soupsieve==2.5 in d:\\e13_bot\\.venv\\lib\\site-packages (from -r requirements.txt (line 138)) (2.5)\n",
            "Requirement already satisfied: SQLAlchemy==2.0.29 in d:\\e13_bot\\.venv\\lib\\site-packages (from -r requirements.txt (line 139)) (2.0.29)\n",
            "Requirement already satisfied: stack-data==0.6.3 in d:\\e13_bot\\.venv\\lib\\site-packages (from -r requirements.txt (line 140)) (0.6.3)\n",
            "Requirement already satisfied: starlette==0.37.2 in d:\\e13_bot\\.venv\\lib\\site-packages (from -r requirements.txt (line 141)) (0.37.2)\n",
            "Requirement already satisfied: streamlit==1.33.0 in d:\\e13_bot\\.venv\\lib\\site-packages (from -r requirements.txt (line 142)) (1.33.0)\n",
            "Requirement already satisfied: sympy==1.12 in d:\\e13_bot\\.venv\\lib\\site-packages (from -r requirements.txt (line 143)) (1.12)\n",
            "Requirement already satisfied: tenacity==8.2.3 in d:\\e13_bot\\.venv\\lib\\site-packages (from -r requirements.txt (line 144)) (8.2.3)\n",
            "Requirement already satisfied: tokenizers==0.19.1 in d:\\e13_bot\\.venv\\lib\\site-packages (from -r requirements.txt (line 145)) (0.19.1)\n",
            "Requirement already satisfied: toml==0.10.2 in d:\\e13_bot\\.venv\\lib\\site-packages (from -r requirements.txt (line 146)) (0.10.2)\n",
            "Requirement already satisfied: toolz==0.12.1 in d:\\e13_bot\\.venv\\lib\\site-packages (from -r requirements.txt (line 147)) (0.12.1)\n",
            "Requirement already satisfied: tornado==6.4 in d:\\e13_bot\\.venv\\lib\\site-packages (from -r requirements.txt (line 148)) (6.4)\n",
            "Requirement already satisfied: tqdm==4.66.2 in d:\\e13_bot\\.venv\\lib\\site-packages (from -r requirements.txt (line 149)) (4.66.2)\n",
            "Requirement already satisfied: traitlets==5.14.3 in d:\\e13_bot\\.venv\\lib\\site-packages (from -r requirements.txt (line 150)) (5.14.3)\n",
            "Requirement already satisfied: typer==0.12.3 in d:\\e13_bot\\.venv\\lib\\site-packages (from -r requirements.txt (line 151)) (0.12.3)\n",
            "Requirement already satisfied: typing-inspect==0.9.0 in d:\\e13_bot\\.venv\\lib\\site-packages (from -r requirements.txt (line 152)) (0.9.0)\n",
            "Requirement already satisfied: typing_extensions==4.11.0 in d:\\e13_bot\\.venv\\lib\\site-packages (from -r requirements.txt (line 153)) (4.11.0)\n",
            "Requirement already satisfied: tzdata==2024.1 in d:\\e13_bot\\.venv\\lib\\site-packages (from -r requirements.txt (line 154)) (2024.1)\n",
            "Requirement already satisfied: uritemplate==4.1.1 in d:\\e13_bot\\.venv\\lib\\site-packages (from -r requirements.txt (line 155)) (4.1.1)\n",
            "Requirement already satisfied: urllib3==2.2.1 in d:\\e13_bot\\.venv\\lib\\site-packages (from -r requirements.txt (line 156)) (2.2.1)\n",
            "Requirement already satisfied: uvicorn==0.29.0 in d:\\e13_bot\\.venv\\lib\\site-packages (from -r requirements.txt (line 157)) (0.29.0)\n",
            "Requirement already satisfied: watchdog==4.0.0 in d:\\e13_bot\\.venv\\lib\\site-packages (from -r requirements.txt (line 158)) (4.0.0)\n",
            "Requirement already satisfied: watchfiles==0.21.0 in d:\\e13_bot\\.venv\\lib\\site-packages (from -r requirements.txt (line 159)) (0.21.0)\n",
            "Requirement already satisfied: wcwidth==0.2.13 in d:\\e13_bot\\.venv\\lib\\site-packages (from -r requirements.txt (line 160)) (0.2.13)\n",
            "Requirement already satisfied: websocket-client==1.8.0 in d:\\e13_bot\\.venv\\lib\\site-packages (from -r requirements.txt (line 161)) (1.8.0)\n",
            "Requirement already satisfied: websockets==12.0 in d:\\e13_bot\\.venv\\lib\\site-packages (from -r requirements.txt (line 162)) (12.0)\n",
            "Requirement already satisfied: wrapt==1.16.0 in d:\\e13_bot\\.venv\\lib\\site-packages (from -r requirements.txt (line 163)) (1.16.0)\n",
            "Requirement already satisfied: yarl==1.9.4 in d:\\e13_bot\\.venv\\lib\\site-packages (from -r requirements.txt (line 164)) (1.9.4)\n",
            "Requirement already satisfied: zipp==3.18.1 in d:\\e13_bot\\.venv\\lib\\site-packages (from -r requirements.txt (line 165)) (3.18.1)\n",
            "Note: you may need to restart the kernel to use updated packages.\n"
          ]
        }
      ],
      "source": [
        "pip install -r requirements.txt"
      ]
    },
    {
      "cell_type": "code",
      "execution_count": 12,
      "metadata": {
        "id": "d1Op3VpbdEfG"
      },
      "outputs": [
        {
          "name": "stderr",
          "output_type": "stream",
          "text": [
            "d:\\E13_Bot\\.venv\\Lib\\site-packages\\tqdm\\auto.py:21: TqdmWarning: IProgress not found. Please update jupyter and ipywidgets. See https://ipywidgets.readthedocs.io/en/stable/user_install.html\n",
            "  from .autonotebook import tqdm as notebook_tqdm\n"
          ]
        },
        {
          "name": "stdout",
          "output_type": "stream",
          "text": [
            "GOOGLE_API_KEY\n",
            "PINECONE_API_KEY\n"
          ]
        }
      ],
      "source": [
        "from langchain.document_loaders import TextLoader\n",
        "from langchain.text_splitter import RecursiveCharacterTextSplitter\n",
        "from langchain_google_genai.embeddings import GoogleGenerativeAIEmbeddings\n",
        "from langchain_google_genai import ChatGoogleGenerativeAI\n",
        "import os\n",
        "from dotenv import load_dotenv ,find_dotenv\n",
        "load_dotenv(find_dotenv(), override=True)\n",
        "if os.environ:\n",
        "    for api_key in os.environ:\n",
        "        if \"API_KEY\" in api_key:\n",
        "            print(api_key)\n",
        "else:\n",
        "    import getpass\n",
        "    os.environ[\"GOOGLE_API_KEY\"] = getpass.getpass(\"GOOGLE_API_KEY\")"
      ]
    },
    {
      "cell_type": "code",
      "execution_count": 13,
      "metadata": {
        "id": "rQ7PPjamdtIF"
      },
      "outputs": [],
      "source": [
        "from pprint import pprint\n",
        "from typing import List\n",
        "def load_docs_locally(files:List[str]=[]):\n",
        "\n",
        "    import os\n",
        "    os.chdir(os.path.join(BASE_DIR,\"files/\"))\n",
        "    print(f\"current directory: {os.getcwd()}\")\n",
        "    files = [file for file in os.listdir()] if not files else files\n",
        "    pprint(files)\n",
        "\n",
        "    data = []\n",
        "\n",
        "    for file in files:\n",
        "        _, extension = os.path.splitext(file)\n",
        "        if not file.startswith(\".\"):\n",
        "          match extension:\n",
        "              case \".pdf\":\n",
        "                  from langchain.document_loaders import PyPDFLoader\n",
        "                \n",
        "                  loader = PyPDFLoader(file)\n",
        "                  print(f\"loading pdf {file} ....\")\n",
        "              case \".txt\":\n",
        "                  from langchain.document_loaders import TextLoader\n",
        "                  loader = TextLoader(file, encoding=\"utf-8\")\n",
        "                  print(f\"loading text {file} ....\")\n",
        "              case \".docx\":\n",
        "                  from langchain.document_loaders import Docx2textLoader\n",
        "                  loader = Docx2textLoader(file)\n",
        "                  print(f\"loading docx {file} ....\")\n",
        "              case _:\n",
        "                  print(f\"no such available format such as {extension}\")\n",
        "\n",
        "\n",
        "        data += loader.load()\n",
        "    os.chdir(\"../\")\n",
        "    pprint(data)\n",
        "    return data"
      ]
    },
    {
      "cell_type": "code",
      "execution_count": 14,
      "metadata": {
        "id": "rXsSma_8eAwN"
      },
      "outputs": [],
      "source": [
        "def download_file(url:str,filename:str):\n",
        "    import requests,os\n",
        "    binary_file = requests.get(url).content\n",
        "    _,extension = os.path.splitext(url)\n",
        "\n",
        "    with open(f\"files/{filename}{extension}\", 'wb') as f:\n",
        "        f.write(binary_file)\n",
        "\n",
        "    print(f\"done downloading {filename}{extension}\")\n",
        "    return f\"files/{filename}{extension}\""
      ]
    },
    {
      "cell_type": "code",
      "execution_count": 15,
      "metadata": {
        "id": "nwtTRwRIilhz"
      },
      "outputs": [],
      "source": [
        "def load_docs(docs_urls=[\"https://fsciences.univ-setif.dz/main_page/home\"]):\n",
        "    from langchain.document_loaders.async_html import AsyncHtmlLoader\n",
        "    print(\"loading started....\")\n",
        "    loader = AsyncHtmlLoader(docs_urls)\n",
        "    documents = loader.load()\n",
        "    return documents"
      ]
    },
    {
      "cell_type": "code",
      "execution_count": 16,
      "metadata": {
        "id": "dCJmECp1iidn"
      },
      "outputs": [],
      "source": [
        "def clean_html(html_page:str, title:str):\n",
        "    from pprint import pprint\n",
        "    from bs4 import BeautifulSoup\n",
        "    parser = BeautifulSoup(html_page, \"html.parser\")\n",
        "    # pprint(parser.prettify())\n",
        "    with open(f\"files/{title}.txt\", \"w\",encoding=\"utf-8\") as f:\n",
        "        for string in parser.strings:\n",
        "            if string !=\"\\n\":\n",
        "                f.write(string.strip())\n",
        "                f.write(\"\\n\")"
      ]
    },
    {
      "cell_type": "code",
      "execution_count": 17,
      "metadata": {
        "id": "0NiyXTcqiIvj"
      },
      "outputs": [],
      "source": [
        "from typing import List\n",
        "def mass_download(urls:List[str]):\n",
        "  file_titles = []\n",
        "  html_pages = load_docs(urls)\n",
        "  for i,html_page in enumerate(html_pages):\n",
        "      cleaned_file_title = (\n",
        "          urls[i]\n",
        "          .replace(\"/\", \"_\")\n",
        "          .replace(\".\", \"_\")\n",
        "          .replace(\"-\", \"_\")\n",
        "          .replace(\"https:\", \"\")\n",
        "          .replace(\"dz\", \"\")\n",
        "          .replace(\"net\", \"\")\n",
        "          .replace(\"com\", \"\")\n",
        "          .replace(\"org\", \"\")\n",
        "          .replace(\"edu\", \"\")\n",
        "          .strip(\"_\")\n",
        "      )\n",
        "      clean_html(\n",
        "          html_page.page_content,\n",
        "          cleaned_file_title\n",
        "      )\n",
        "      file_titles.append(cleaned_file_title)\n",
        "  return file_titles"
      ]
    },
    {
      "cell_type": "code",
      "execution_count": 26,
      "metadata": {
        "colab": {
          "base_uri": "https://localhost:8080/"
        },
        "id": "n4Oa8DQ_iXPK",
        "outputId": "6e891f80-ff22-4aa7-aff8-88e4997b8d31"
      },
      "outputs": [
        {
          "name": "stdout",
          "output_type": "stream",
          "text": [
            "loading started....\n"
          ]
        },
        {
          "name": "stderr",
          "output_type": "stream",
          "text": [
            "Fetching pages: 100%|##########| 1/1 [00:00<00:00,  1.05it/s]\n"
          ]
        },
        {
          "data": {
            "text/plain": [
              "[]"
            ]
          },
          "execution_count": 26,
          "metadata": {},
          "output_type": "execute_result"
        }
      ],
      "source": [
        "urls = [\n",
        "      \"https://fsciences.univ-setif.dz/main_page/english\",     \n",
        "  ]\n",
        "mass_download(urls)"
      ]
    },
    {
      "cell_type": "code",
      "execution_count": 29,
      "metadata": {
        "colab": {
          "base_uri": "https://localhost:8080/"
        },
        "id": "4o8orVx8dwOa",
        "outputId": "558cd4cb-1290-4e5a-a12b-6443fa33c8e7"
      },
      "outputs": [
        {
          "name": "stdout",
          "output_type": "stream",
          "text": [
            "current directory: d:\\E13_Bot\\files\n",
            "['Banque_FR.pdf', 'profe.txt']\n",
            "loading pdf Banque_FR.pdf ....\n",
            "loading text profe.txt ....\n",
            "[Document(page_content=\"Q 1 : Existe -t-il une spécialisation en génie logiciel dans notre collège  ? \\nR 1 : Oui, c'était disponible mais plus maintenant faute d'étudiants  \\n \\nQ 2 : Y a -t-il des possibilités de formation ou de mise en pratique pendant la période \\nd'études ?  \\nR 2 : Oui, il y en a. Les universités proposent souvent des programmes de formation avec \\ndes entreprises ou des institutions locales pour permettre aux étudiants d'acquérir une \\nexpérience pratique dans différents domaines de l'informatique.  \\n \\nQ3 : Quelles sont les mat ières principales du programme  ? \\nR4 : les matières de base comprennent, entre autres, la programmation, les bases de \\ndonnées, les réseaux, la sécurité de l'information, l'intelligence artificielle, le \\ndéveloppement d'applications Web et mobiles.  \\n \\nQ4 : Quel les sont les perspectives d ’emploi après l ’obtention du diplôme ?  \\nR4 : Les perspectives d ’emploi après l ’obtention du diplôme sont larges et variées. Les \\ndiplômés peuvent travailler en tant que développeurs de logiciels, ingénieurs réseau, \\nanalystes en séc urité de l'information, administrateurs de bases de données, spécialistes du \\ndéveloppement d'applications Web et mobiles et dans d'autres domaines connexes.  \\n \\nQ5 : Quelles sont les compétences nécessaires pour réussir dans le domaine de \\nl’informatique ?  \\nR5 : Les compétences nécessaires pour réussir dans le domaine de l'informatique \\ncomprennent la programmation, l'analyse mathématique, la créativité, les compétences en \\ncommunication, une compréhension approfondie des technologies de réseautage et de \\ncybersécu rité et des capacités de résolution de problèmes.  \\n \\nQ6 : Quelles ressources sont disponibles pour soutenir les étudiants internationaux  ? \\nR6 : Les étudiants internationaux peuvent participer à des cours d'apprentissage des langues \\net bénéficier d'avantages spéciaux tels que des conseils académiques, un soutien social, un \\nlogement, une assurance maladie et des activités culturelles.  \\n \\nQ7 : Existe -t-il des possibilités de participer à des activités étudiantes ou à des clubs \\nétudiants  ? \\nR7 : bien entendu, les ét udiants peuvent participer aux activités des clubs, comme les clubs \\nde programmation, les clubs de cybersécurité, le bénévolat, les activités sportives, \\nartistiques et culturelles.  \\n \\nQ8 : Quels services de soutien sont disponibles pour les étudiants handica pés ou ayant des \\nbesoins spéciaux au sein du département d'informatique  ? \\nR8 : Le collège offre de nombreux services de soutien aux étudiants handicapés ou ayant \\ndes besoins particuliers au sein du département d'informatique, tels que :  \\n• Fournir une techn ologie d'assistance  \", metadata={'source': 'Banque_FR.pdf', 'page': 0}),\n",
            " Document(page_content=\"• Offrir un soutien académique  \\n• Fournir des installations d'hébergement adaptées  \\n \\nQ9 : Quelles sont les conditions d'admission au programme de baccalauréat en \\ninformatique ?  \\nR9 : Les trois exigences importantes sont  : \\n• Baccalauréat en  mathématiques ou en sciences expérimentales.  \\n• Taux de réussite au baccalauréat d'au moins 12/20.  \\n• Réussite de l'examen d'entrée.  \\n \\nQ10 : Qui est admissible aux examens de rattrapage  ? \\nR10 : Tout étudiant qui obtient une note annuelle ≥10 avec ou sans com pensation entre les \\nsemestres ne peut passer des examens de rattrapage dans aucune matière même si celle -ci \\nn'est pas acquise. Si la note annuelle est < 10 avec ou sans compensation entre les \\nsemestres, l'étudiant peut passer des examens de rattrapage dans  les matières non acquises \\ndans les unités non acquises du semestre non acquis.  \\n \\nQ11 : Quelles opportunités de développement professionnel sont offertes aux étudiants \\npour améliorer leurs compétences techniques et suivre l ’évolution de l ’industrie  ? \\nR11 : De nombreuses opportunités de développement professionnel s'offrent aux étudiants \\npour améliorer leurs compétences techniques et suivre l'évolution de l'industrie, telles que  : \\n• Des programmes de formation  \\n• Ateliers et séminaires  \\n• Programmes de formation en ligne  \\n \\nQ12 : Existe -t-il des possibilités pour les étudiants d'acquérir une expérience pratique grâce \\nà des projets ou des concours parrainés par l'industrie  ? \\nR12 : Oui, il existe de nombreuses possibilités pour les étudiants d'acquérir une e xpérience \\npratique grâce à des projets ou des concours parrainés par l'industrie.  \\n \\nQ13 : Comment puis -je accéder aux services de la bibliothèque universitaire hors ligne  ? \\nR14 : Aucun service de bibliothèque universitaire n'est disponible hors ligne.  \\n \\nQ15 : Existe -t-il des possibilités de participer à des activités étudiantes ou à des clubs \\nétudiants  ? \\n \\nR15 : Oui, les clubs organisent des activités ouvertes auxquelles les étudiants peuvent \\nparticiper.  \\n \\nQ16 : Quelles compétences sont nécessaires pour réussir  dans le domaine de l ’informatique \\n? \\nR16 : Tels que  : \\n• Capacités de réflexion logique  \", metadata={'source': 'Banque_FR.pdf', 'page': 1}),\n",
            " Document(page_content=\"• Des talents pour la résolution des problèmes  \\n• Compétences analytiques  \\n• Capacité à manipuler des appareils électroniques  \\n• Auto -apprentissage et apprentissage continu  et suivi  \\n• technologie et mises à jour continues  \\n \\nQ17 : Si je décide de changer de spécialisation, que dois -je faire  ? \\nR17 : V ous devez introduire une demande de changement de spécialisation auprès de la \\ngestion des admissions et des inscriptions, elle se ra étudiée et décidée selon les politiques \\nde l'université.  \\n \\nQ18 : Le collège offre -t-il des programmes éducatifs supplémentaires tels que des cours de \\nlangue ou des cours de développement personnel ?  \\nR18 : Oui, le collège propose des programmes éducatifs supplémentaires tels que des cours \\nde langue, des ateliers et des programmes de développement personnel pour améliorer les \\ncompétences des étudiants.  \\n \\nQ19 : Quelles étapes sont nécessaires pour communiquer avec un professeur afin de \\ndemander de l'aide ou d e planifier une consultation ?  \\nR19 : V ous pouvez communiquer avec votre professeur par courriel ou vous rendre à son \\nbureau pendant les heures annoncées d'accueil des étudiants.  \\n \\nQ20 : Quelles sont les différences entre un mémoire et une recherche scientif ique au \\nprogramme de maîtrise ?  \\nR20 : Un mémoire est un travail de recherche entrepris par l'étudiant à la fin du programme \\nde maîtrise et présenté comme condition d'obtention du diplôme, tandis que la recherche \\nscientifique fait référence aux recherches e t aux études menées par l'étudiant au cours de \\nsa période d'études.  \\n \\nQ21 : Le collège offre -t-il des formations (ateliers) aux étudiants ?  \\nR21 : Oui, le collège offre plusieurs formations et ateliers pour les étudiants dans divers \\ndomaines de l'informatiqu e, tels que :  \\n• Programmation informatique  \\n• Réseaux  \\n• Systèmes d'exploitation  \\n• Bases de données  \\n• Intelligence artificielle  \\n• La cyber -sécurité  \\n \\nQ22 : Quelles spécialisations sont disponibles dans le programme d'études supérieures en \\ninformatique ?  \\nR22 : \\n• Maîtrise d'informatique  \", metadata={'source': 'Banque_FR.pdf', 'page': 2}),\n",
            " Document(page_content=\"• Master en génie logiciel  \\n• Master des Systèmes d'Information  \\n• Master en Réseaux Distribués et Informatique  \\n• Master en sécurité de l'information  \\n• Doctorat. en informatique  \\n \\nQ23 : Quelles sont les opportunités d'emploi pour les diplômés en informatique ?  \\nR23 : Il existe de nombreuses opportunités d'emploi pour les diplômés en informatique \\ndans divers domaines, tels que :  \\n• La programmation  \\n• Développement de logiciels  \\n• L'analyse des données  \\n• Sécurité des informations  \\n• Rése aux \\n• Gestion de projet  \\n \\nQ24 : Combien de spécialisations y a -t-il dans le master ?  \\nR24 : Il existe 5 spécialisations dans le master.  \\n \\nQ25 : Quels sont les tarifs d'admission aux spécialisations de master ?  \\nR25 : Les tarifs d'admission aux spécialisations de master varient selon la spécialisation.  \\n \\nQ26 : Existe -t-il des opportunités de développement professionnel permettant aux étudiants \\nd'améliorer leurs compétences techniques et de suivre les progrès de l'industrie  ? \\nR26 : Il existe de nombreuses opportun ités de développement professionnel permettant aux \\nétudiants d'améliorer leurs compétences techniques et de suivre les progrès de l'industrie, \\ntelles que  : \\n• Des programmes de formation  \\n• Ateliers et séminaires  \\n• Programmes de formation en ligne  \\n \\nQ27 : Comment le collège soutient -il les initiatives ou les clubs dirigés par des étudiants et \\naxés sur des domaines d'intérêt spécifiques en informatique  ? \\nR27 : Le collège soutient des initiatives ou des clubs dirigés par des étudiants et axés sur \\ndes domaines  d'intérêt spécifiques en informatique en  : \\n• Fournir un financement  \\n• Offrant de l'espace  \\n• Fournir un soutien  \\n \\nQ28 : Existe -t-il des possibilités pour les étudiants d'acquérir une expérience pratique grâce \\nà des projets ou des concours parrainés par l'in dustrie  ? \\nR28 : Oui, il existe de nombreuses possibilités pour les étudiants d'acquérir une expérience \\npratique grâce à des projets ou des concours parrainés par l'industrie.  \", metadata={'source': 'Banque_FR.pdf', 'page': 3}),\n",
            " Document(page_content=\" \\nQ29 : Quelles sont les opportunités d'emploi après l'obtention d'un master par r apport à un \\nbaccalauréat ?  \\nR29 : Généralement, les titulaires d'une maîtrise peuvent bénéficier de possibilités d'emploi \\nplus spécialisées et avancées dans les domaines de leur choix, tandis que des possibilités \\nd'emploi plus générales et largement disponi bles peuvent être accessibles aux titulaires d'un \\nbaccalauréat.  \\n \\nQ30 : Y a -t-il des différences dans les exigences et les défis entre les étudiants du \\nprogramme de maîtrise et ceux du programme de baccalauréat ?  \\nR30 : Oui, les exigences et les défis du programme de maîtrise sont souvent plus exigeants \\net complexes que ceux du programme de licence, car il oblige les étudiants à s'engager dans \\ndes recherches avancées et à produire des thèses et des mémoires scientifiques.  \\n \\n \\nQ31 : Est -ce que la spécialisati on Gl est disponible à la faculté ?  \\nR : Oui, elle est disponible mais n'a pas encore commencé en raison du faible nombre \\nd'élèves.  \\n \\nQ32 : Quand est -ce que les rattrapages des devoirs auront lieu ?  \\nR : Généralement après les examens finaux à la fin de l'ann ée. \\n \\nQ33 : Quel est le calendrier de l'année ?  \\nR :  \\n \\nQ34 : Quelles sont les spécialités en informatique ?  \\nR : Il y a des spécialités telles que : CS, QC, Rsd, Idtw, F3i, Ifia.  \\n \\nQ35 : Quelles sont les matières principales sur lesquelles je devrais me concentrer en \\ninformatique ?  \\nR : Les matières principales du programme incluent la programmation, les bases de \\ndonnées, les réseaux, la sécurité de l'information, l'intelligence artificielle, le \\ndéveloppement d'applications web et mobiles, etc.  \\n \\nQ36 : Y a -t-il un programme d'échange d'étudiants avec d'autres universités ?  \\nR : Oui, il y a un programme d'échange d'étudiants avec de nombreuses universités en \\nAlgérie et à l'étranger.  \\n \\nQ37 : Quand auront lieu les examens du deuxième semestre ?  \\nR : Le 25 mai 2024 . \\n \\nQ38 : Combien de matières sont enseignées en troisième année d'informatique ?  \\nR : 4 matières.  \", metadata={'source': 'Banque_FR.pdf', 'page': 4}),\n",
            " Document(page_content=\" \\nQ39 : Comment calculer la moyenne ?  \\nR : (0,4 * travaux pratiques + 0,6 * note de l'examen) * coefficient de la matière.  \\n \\nQ40 : Quel est le coefficient des matières de troisième année pour le semestre 1 ?  \\nR : Semestre 1  \\n• ENVS = 1  \\n• Ps = 2  \\n• Pl = 2  \\n• Gl = 3  \\n• IHM = 3  \\n• Comp = 3  \\n• SE = 3  \\nSemestre 2  \\n• AI = 3  \\n• APM = 3  \\n• DSS = 3  \\n• CS = 3  \\n \\nQ41 : Comment les étudiants sont -ils évalués pour la note des travaux dirigés ?  \\nR : La méthode d'évaluation varie d'un enseignant à l'autre, mais généralement :  \\n• 5 points pour la présence en classe  \\n• 5 points pour la participation en classe  \\n• 10 points pour les devoirs  \\n \\nQ42 : La présence en classe est -elle obligatoire ?  \\nR : La présence n'est pas obligatoire mais elle est recommandée car l'élève peut en \\nbénéficier davantage.  \\n \\nQ43 : Qui sont les enseignants responsables du cours de structure de l'ordinateur ?  \\nR : Professeur Khentout.  \\n \\nQ44 : Comment choisir la spécialisation so uhaitée pour le master ?  \\nR : En accédant à votre compte sur l'application Moodle et en vous rendant à la page de \\nchoix pour sélectionner la spécialisation désirée parmi celles disponibles.  \\n \\nQ45 : Pouvons -nous utiliser les ordinateurs des laboratoires en dehors des cours pratiques \\n? \\nR : Oui, vous pouvez utiliser les ordinateurs après avoir obtenu la permission du \\nresponsable du laboratoire.  \\n \\nQ46 : Est -ce qu'un étudiant en informatique doit acheter un ordinateur ou non ?  \", metadata={'source': 'Banque_FR.pdf', 'page': 5}),\n",
            " Document(page_content=\"R : Il n'est pas nécessaire de possé der un ordinateur pour étudier l'informatique car les \\nordinateurs sont disponibles dans les laboratoires de la faculté et avec l'évolution de la \\ntechnologie, il est possible de programmer même à partir d'un téléphone.  \\n \\nQ47 : Combien de crédits sont nécessa ires pour passer à l'année suivante ?  \\nR : Le nombre de crédits requis pour passer à l'année suivante est de 60.  \\n \\nQ48 : Combien de crédits sont nécessaires pour passer à l'année suivante en dette ?  \\nR : Le nombre de crédits requis pour passer à l'année suivante en dette est de 30.  \\n \\nQ49 : Quelle est la note de passage pour cette année ?  \\nR : Après la réunion des enseignants et la compilation des notes, elle sera annoncée sur le \\nsite web de la faculté.  \\n \\nQ50 : Comment puis -je accéder aux services de la bibli othèque universitaire autrement \\nqu'en ligne ?  \\nR : Il n'y a pas de services de bibliothèque universitaire disponibles en dehors d'Internet.  \\n \\nQ51 : Y a -t-il des opportunités pour rejoindre des activités étudiantes ou des clubs étudiants \\n? \\nR : Oui, les clubs organisent des activités ouvertes aux étudiants pour les rejoindre.  \\n \\nQ52 : Quelles sont les compétences nécessaires pour réussir dans le domaine de \\nl'informatique ?  \\nR : Telles que :  \\n• Compétences en pensée logique  \\n• Compétences en résolution de problèmes  \\n• Compétences analytiques  \\n• Capacité à travailler avec des appareils électroniques  \\n• Apprentissage autonome et continu et adaptation à la technologie et aux mises à jour \\nconstantes.  \\n \\nQ53 : Quelles sont les étapes nécessaires pour changer de spécialisation ?  \\nR : V ous devez soumettre une demande de changement de spécialisation au bureau des \\nadmissions et de l'inscription, qui sera ensuite étudiée et décidée conformément aux \\npolitiques de l'université.  \\n \\nQ54 : La faculté propose -t-elle des programmes éducatifs s upplémentaires tels que des \\ncours de langue ou des cours de développement personnel ?  \\nR : Oui, la faculté propose des programmes éducatifs supplémentaires tels que des cours \\nde langue, des ateliers et des programmes de développement personnel pour renforce r les \\ncompétences des étudiants.  \\n \", metadata={'source': 'Banque_FR.pdf', 'page': 6}),\n",
            " Document(page_content=\"Q55 : Quelles sont les étapes pour choisir un superviseur pour le mémoire en master ?  \\nR : V ous pouvez choisir un superviseur de mémoire en fonction de votre spécialisation et \\nde vos intérêts de recherche, de préférence quelqu'un ayant de l'expérience dans le domaine \\ndans lequel vous souhaitez faire votre recherche.  \\n \\nQ56 : Puis -je rejoindre un programme de master après plusieurs années après l'obtention \\ndu diplôme ?  \\nR : Oui, vous pouvez rejoindre un programme de master plusieurs années après l'obtention \\ndu diplôme, dans la catégorie des 20%.  \\n \\nQ57 : Quelles sont les opportunités disponibles pour les étudiants en master après \\nl'obtention du diplôme ?  \\nR : Les opportunités incluent la poursuite des études supérieures pour ob tenir un doctorat, \\ntravailler dans les secteurs académique et industriel, participer à des programmes de \\nformation et de développement professionnel, et créer des start -ups ou travailler en \\nfreelance dans le domaine spécialisé.  \\n \\nQ58 : Quelle est la différe nce principale entre un diplôme de master et un diplôme de \\nlicence ?  \\nR : La différence principale réside dans le niveau d'études et de spécialisation. Le diplôme \\nde licence représente une étape de premier cycle offrant une éducation générale et \\nfondamental e dans un domaine spécifique, tandis que le diplôme de master représente une \\nétape avancée axée sur la recherche et la spécialisation dans le même domaine.  \\n \\nQ59 : Quelle est la complexité et la profondeur des matières enseignées dans le programme \\nde master  par rapport au programme de licence ?  \\nR : En général, les matières du programme de master sont plus complexes et approfondies \\nque celles enseignées dans le programme de licence, car elles se concentrent sur la \\nrecherche scientifique et l'analyse approfond ie des sujets et des concepts.  \\n \\nQ60 : Y a -t-il une différence dans les exigences et les défis entre les étudiants en master et \\nen licence ?  \\nR : Oui, souvent, les exigences et les défis en master sont plus difficiles et complexes par \\nrapport au programme de  licence, car ils exigent des étudiants des recherches avancées et \\nla production de thèses et de travaux scientifiques.  \\n \\nQ61 : Quelles sont les opportunités d'emploi après l'obtention d'un diplôme de master par \\nrapport à un diplôme de licence ?  \\nR : En géné ral, les titulaires d'un diplôme de master peuvent bénéficier de possibilités \\nd'emploi plus spécialisées et avancées dans leurs domaines choisis, tandis que les \\nopportunités d'emploi plus générales sont disponibles pour les diplômés de licence.  \\n \", metadata={'source': 'Banque_FR.pdf', 'page': 7}),\n",
            " Document(page_content=\"Q62 : Quel les sont les opportunités d'emploi après l'obtention d'un diplôme de master par \\nrapport à un diplôme de licence ?  \\nR : En général, les titulaires d'un diplôme de master peuvent bénéficier de possibilités \\nd'emploi plus spécialisées et avancées dans leurs dom aines choisis, tandis que les \\nopportunités d'emploi plus générales sont disponibles pour les diplômés de licence.  \\n \\nQ63 : Quelle est la spécialité la plus demandée en master ?  \\nR : La spécialité la plus demandée en master varie selon l'année.  \\n \\nQ64 : Quel est  le taux de réussite pour les étudiants en master ?  \\nR : Le taux de réussite pour les étudiants en master varie selon la spécialité.  \\n \\nQ65 : Y a -t-il des programmes d'assistance aux étudiants pour l'apprentissage \\nsupplémentaire ou la recherche ?  \\nR : Oui, il existe des programmes d'assistance aux étudiants pour l'apprentissage \\nsupplémentaire ou la recherche, tels que des ateliers, des projets de recherche, des \\ncompétitions techniques, et des ateliers organisés par les collèges et les départements \\nacadémiques.  \\n \\nQ66 : Quelles sont les compétences nécessaires pour réussir dans le domaine de \\nl'informatique ?  \\nR : Les compétences nécessaires pour réussir dans le domaine de l'informatique \\ncomprennent la programmation, l'analyse mathématique, la créativité, les compéte nces en \\ncommunication, une compréhension approfondie des réseaux et de la cybersécurité, et la \\ncapacité à résoudre les problèmes.  \\n \\nQ67 : Qui passe les examens de rattrapage ?  \\nR : Tout étudiant ayant obtenu une moyenne annuelle ≥ 10 avec ou sans compensatio n entre \\nles semestres ne peut pas passer les examens de rattrapage dans une matière même non \\nacquise.  \\nR :Si la moyenne annuelle < 10 avec ou sans compensation entre les semestres, l'étudiant \\na le droit de passer les examens de rattrapage dans les matières non acquises des unités non \\nacquises du semestre non acquis.  \\n \\nQ68 : Quelles sont les opportunités de développement professionnel disponibles pour les \\nétudiants pour améliorer leurs compétences techniques et suivre l'évolution de l'industrie ?  \\nR : Il existe de nombreuses opportunités de développement professionnel disponibles pour \\nles étudiants pour améliorer leurs compétences techniques et suivre l'évolution de \\nl'industrie, telles que :  \\n• Programmes de formation  \\n• Ateliers et séminaires  \\n• Prog rammes de formation en ligne  \\n \", metadata={'source': 'Banque_FR.pdf', 'page': 8}),\n",
            " Document(page_content=\"Q69 : Comment la faculté soutient -elle les initiatives ou les clubs dirigés par des étudiants \\nqui se concentrent sur des domaines spécifiques d'informatique ?  \\nR : La faculté soutient les initiatives ou les clubs dirigés par de s étudiants qui se concentrent \\nsur des domaines spécifiques d'informatique en fournissant un financement, un espace et \\nun soutien.  \\n \\nQ70 : Y a -t-il des opportunités pour les étudiants d'acquérir une expérience pratique grâce \\nà des projets ou à des concours parrainés par l'industrie ?  \\nR : Oui, il existe de nombreuses opportunités pour les étudiants d'acquérir une expérience \\npratique grâce à des projets ou à des concours parrainés par l'industrie.  \\n \\nQ71 : Quels sont les services de soutien disponibles pour les étudiants handicapés ou ayant \\ndes besoins spéciaux au sein du département d'informatique ?  \\nR : La faculté offre de nombreux services de soutien aux étudiants handicapés ou ayant des \\nbesoins spéciaux au sein du département d'informatique, tels que :  \\n• La fourniture de technologies d'assistance  \\n• Un soutien académique  \\n• Des installations de logement appropriées  \\n \\nQ72 : Quelles sont les conditions d'admission au programme de licence en informatique ?  \\nR :  \\n• Un baccalauréat en mathématiques ou en sciences expérimentales.  \\n• Une moyenne de réussite au baccalauréat d'au moins 12/20.  \\n• Réussir le concours d'admission.  \\n \\nQ73 : Quelles sont les opportunités d'emploi après l'obtention du diplôme ?  \\nR : Les opportunités d'emploi après l'obtention du diplôme sont vast es et variées. Les \\ndiplômés peuvent travailler en tant que programmeurs, ingénieurs logiciels, analystes de \\ndonnées, responsables de bases de données, développeurs d'applications web et mobiles, et \\ndans d'autres domaines connexes.  \\n \\nQ74 : Quelles sont les r essources disponibles pour soutenir les étudiants internationaux ?  \\nR : Les ressources disponibles pour soutenir les étudiants internationaux comprennent des \\ncours de langue, des conseils académiques, un soutien social, un logement, une assurance \\nsanté et d es événements culturels.  \\n \\nQ75 : Quelles sont les différences entre la thèse et la recherche scientifique dans le \\nprogramme de master ?  \\nR : La thèse est un travail de recherche réalisé par l'étudiant à la fin du programme de \\nmaster et présenté comme une exi gence pour l'obtention du diplôme, tandis que la \\nrecherche scientifique fait référence aux recherches et études menées par l'étudiant pendant \\nson programme d'études.  \\n \", metadata={'source': 'Banque_FR.pdf', 'page': 9}),\n",
            " Document(page_content=\"Q76 : La faculté propose -t-elle des cours de formation ou des ateliers pour les étudiants  ? \\nR : Oui, la faculté propose de nombreux cours de formation et des ateliers pour les étudiants \\ndans divers domaines de l'informatique, tels que la programmation, les réseaux, les \\nsystèmes d'exploitation, les bases de données, l'intelligence artificielle et la cybersécurité.  \\n \\nQ77 : Quelles sont les spécialisations disponibles dans le programme d'études supérieures \\nen informatique ?  \\nR : Les spécialisations disponibles dans le programme d'études supérieures en informatique \\ncomprennent :  \\n• Master en informati que \\n• Master en génie logiciel  \\n• Master en systèmes d'information  \\n• Master en réseaux et informatique distribuée  \\n• Master en sécurité informatique  \\n• Doctorat en informatique  \\n \\nQ78 : Quelles sont les opportunités d'emploi pour les diplômés en informatique ?  \\nR : Il existe de nombreuses opportunités d'emploi pour les diplômés en informatique dans \\ndivers domaines, tels que :  \\n• Programmation  \\n• Développement de logiciels  \\n• Analyse de données  \\n• Sécurité informatique  \\n• Réseaux  \\n• Gestion de projet  \\n \\nQ79 : Combien y a -t-il de spécialisations dans le programme de master ?  \\nR : Il y a 5 spécialisations dans le programme de master.  \\n \\nQ70 : Quels sont les taux d'acceptation pour les spécialisations en master ?  \\nR : Les taux d'acceptation pour les spécialisations en master vari ent selon la spécialisation.  \", metadata={'source': 'Banque_FR.pdf', 'page': 10}),\n",
            " Document(page_content='Fouad Chouag\\nEmail:fouad.chouag@univ-setif.dz\\n\\nBERRIMI Fella\\nMaitre de conférences B en Informatique\\nDépartement d’Informatique\\nFaculté des Sciences  - Université Ferhat Abbas, Sétif 1\\nEmail : fella.berimi@univ-setif.dz\\n\\nAISSAOUA Habib\\nGrade: Maitre de conferences classe B\\nEmail: habib.aissaoua@univ-setif.dz\\nDépartement: Informatique\\nBureau: 10\\n\\nAISSAOUI Mohammed\\nGrade: Maitre assistant classe B\\nEmail: mohammed.aissaoui@univ-setif.dz\\nDépartement: Informatique\\nBureau: 10\\n\\nALIOUAT née ZOUAOUI Zibouda\\nGrade: Professeur\\nEmail: zaliouat@univ-setif.dz\\nDépartement: Informatique\\nBureau: 20\\n\\nALTI Adel\\nGrade: Maitre de conferences classe A\\nEmail: alti.adel@univ-setif.dz\\nDépartement: Informatique\\n\\nAmar LAMRAOUI\\nGrade: Maitre assistant classe A\\nEmail: amar.lamraoui@univ-setif.dz\\nDépartement: Informatique\\n\\nBALBAL Samir\\nGrade: Maitre de conferences classe B\\nEmail: samir.belbal@univ-setif.dzDépartement: Informatique\\nBureau: 05\\n\\nBOUAMARI Abdelkader\\nGrade: Maitre assistant classe A\\nEmail: bouamari@univ-setif.dzDépartement: Informatique\\nBureau: 01\\n\\nZier Abdelhak\\nGrade: Maitre assistant classe B\\nEmail: abdelhak.zier@univ-setif.dz\\nDépartement: Informatique\\nBureau: 19\\n\\nMANSOURI Houceme\\nGrade: Maitre de conferences classe A\\nEmail: mansouri_houssem@univ-setif.dz\\nDépartement: Informatique\\nBureau: 1\\n\\n\\n\\n\\n\\n\\n\\n\\n', metadata={'source': 'profe.txt'})]\n",
            "[Document(page_content=\"Q 1 : Existe -t-il une spécialisation en génie logiciel dans notre collège  ? \\nR 1 : Oui, c'était disponible mais plus maintenant faute d'étudiants  \\n \\nQ 2 : Y a -t-il des possibilités de formation ou de mise en pratique pendant la période \\nd'études ?  \\nR 2 : Oui, il y en a. Les universités proposent souvent des programmes de formation avec \\ndes entreprises ou des institutions locales pour permettre aux étudiants d'acquérir une \\nexpérience pratique dans différents domaines de l'informatique.  \\n \\nQ3 : Quelles sont les mat ières principales du programme  ? \\nR4 : les matières de base comprennent, entre autres, la programmation, les bases de \\ndonnées, les réseaux, la sécurité de l'information, l'intelligence artificielle, le \\ndéveloppement d'applications Web et mobiles.  \\n \\nQ4 : Quel les sont les perspectives d ’emploi après l ’obtention du diplôme ?  \\nR4 : Les perspectives d ’emploi après l ’obtention du diplôme sont larges et variées. Les \\ndiplômés peuvent travailler en tant que développeurs de logiciels, ingénieurs réseau, \\nanalystes en séc urité de l'information, administrateurs de bases de données, spécialistes du \\ndéveloppement d'applications Web et mobiles et dans d'autres domaines connexes.  \\n \\nQ5 : Quelles sont les compétences nécessaires pour réussir dans le domaine de \\nl’informatique ?  \\nR5 : Les compétences nécessaires pour réussir dans le domaine de l'informatique \\ncomprennent la programmation, l'analyse mathématique, la créativité, les compétences en \\ncommunication, une compréhension approfondie des technologies de réseautage et de \\ncybersécu rité et des capacités de résolution de problèmes.  \\n \\nQ6 : Quelles ressources sont disponibles pour soutenir les étudiants internationaux  ? \\nR6 : Les étudiants internationaux peuvent participer à des cours d'apprentissage des langues \\net bénéficier d'avantages spéciaux tels que des conseils académiques, un soutien social, un \\nlogement, une assurance maladie et des activités culturelles.  \\n \\nQ7 : Existe -t-il des possibilités de participer à des activités étudiantes ou à des clubs \\nétudiants  ? \\nR7 : bien entendu, les ét udiants peuvent participer aux activités des clubs, comme les clubs \\nde programmation, les clubs de cybersécurité, le bénévolat, les activités sportives, \\nartistiques et culturelles.  \\n \\nQ8 : Quels services de soutien sont disponibles pour les étudiants handica pés ou ayant des \\nbesoins spéciaux au sein du département d'informatique  ? \\nR8 : Le collège offre de nombreux services de soutien aux étudiants handicapés ou ayant \\ndes besoins particuliers au sein du département d'informatique, tels que :  \\n• Fournir une techn ologie d'assistance  \", metadata={'source': 'Banque_FR.pdf', 'page': 0}),\n",
            " Document(page_content=\"• Offrir un soutien académique  \\n• Fournir des installations d'hébergement adaptées  \\n \\nQ9 : Quelles sont les conditions d'admission au programme de baccalauréat en \\ninformatique ?  \\nR9 : Les trois exigences importantes sont  : \\n• Baccalauréat en  mathématiques ou en sciences expérimentales.  \\n• Taux de réussite au baccalauréat d'au moins 12/20.  \\n• Réussite de l'examen d'entrée.  \\n \\nQ10 : Qui est admissible aux examens de rattrapage  ? \\nR10 : Tout étudiant qui obtient une note annuelle ≥10 avec ou sans com pensation entre les \\nsemestres ne peut passer des examens de rattrapage dans aucune matière même si celle -ci \\nn'est pas acquise. Si la note annuelle est < 10 avec ou sans compensation entre les \\nsemestres, l'étudiant peut passer des examens de rattrapage dans  les matières non acquises \\ndans les unités non acquises du semestre non acquis.  \\n \\nQ11 : Quelles opportunités de développement professionnel sont offertes aux étudiants \\npour améliorer leurs compétences techniques et suivre l ’évolution de l ’industrie  ? \\nR11 : De nombreuses opportunités de développement professionnel s'offrent aux étudiants \\npour améliorer leurs compétences techniques et suivre l'évolution de l'industrie, telles que  : \\n• Des programmes de formation  \\n• Ateliers et séminaires  \\n• Programmes de formation en ligne  \\n \\nQ12 : Existe -t-il des possibilités pour les étudiants d'acquérir une expérience pratique grâce \\nà des projets ou des concours parrainés par l'industrie  ? \\nR12 : Oui, il existe de nombreuses possibilités pour les étudiants d'acquérir une e xpérience \\npratique grâce à des projets ou des concours parrainés par l'industrie.  \\n \\nQ13 : Comment puis -je accéder aux services de la bibliothèque universitaire hors ligne  ? \\nR14 : Aucun service de bibliothèque universitaire n'est disponible hors ligne.  \\n \\nQ15 : Existe -t-il des possibilités de participer à des activités étudiantes ou à des clubs \\nétudiants  ? \\n \\nR15 : Oui, les clubs organisent des activités ouvertes auxquelles les étudiants peuvent \\nparticiper.  \\n \\nQ16 : Quelles compétences sont nécessaires pour réussir  dans le domaine de l ’informatique \\n? \\nR16 : Tels que  : \\n• Capacités de réflexion logique  \", metadata={'source': 'Banque_FR.pdf', 'page': 1}),\n",
            " Document(page_content=\"• Des talents pour la résolution des problèmes  \\n• Compétences analytiques  \\n• Capacité à manipuler des appareils électroniques  \\n• Auto -apprentissage et apprentissage continu  et suivi  \\n• technologie et mises à jour continues  \\n \\nQ17 : Si je décide de changer de spécialisation, que dois -je faire  ? \\nR17 : V ous devez introduire une demande de changement de spécialisation auprès de la \\ngestion des admissions et des inscriptions, elle se ra étudiée et décidée selon les politiques \\nde l'université.  \\n \\nQ18 : Le collège offre -t-il des programmes éducatifs supplémentaires tels que des cours de \\nlangue ou des cours de développement personnel ?  \\nR18 : Oui, le collège propose des programmes éducatifs supplémentaires tels que des cours \\nde langue, des ateliers et des programmes de développement personnel pour améliorer les \\ncompétences des étudiants.  \\n \\nQ19 : Quelles étapes sont nécessaires pour communiquer avec un professeur afin de \\ndemander de l'aide ou d e planifier une consultation ?  \\nR19 : V ous pouvez communiquer avec votre professeur par courriel ou vous rendre à son \\nbureau pendant les heures annoncées d'accueil des étudiants.  \\n \\nQ20 : Quelles sont les différences entre un mémoire et une recherche scientif ique au \\nprogramme de maîtrise ?  \\nR20 : Un mémoire est un travail de recherche entrepris par l'étudiant à la fin du programme \\nde maîtrise et présenté comme condition d'obtention du diplôme, tandis que la recherche \\nscientifique fait référence aux recherches e t aux études menées par l'étudiant au cours de \\nsa période d'études.  \\n \\nQ21 : Le collège offre -t-il des formations (ateliers) aux étudiants ?  \\nR21 : Oui, le collège offre plusieurs formations et ateliers pour les étudiants dans divers \\ndomaines de l'informatiqu e, tels que :  \\n• Programmation informatique  \\n• Réseaux  \\n• Systèmes d'exploitation  \\n• Bases de données  \\n• Intelligence artificielle  \\n• La cyber -sécurité  \\n \\nQ22 : Quelles spécialisations sont disponibles dans le programme d'études supérieures en \\ninformatique ?  \\nR22 : \\n• Maîtrise d'informatique  \", metadata={'source': 'Banque_FR.pdf', 'page': 2}),\n",
            " Document(page_content=\"• Master en génie logiciel  \\n• Master des Systèmes d'Information  \\n• Master en Réseaux Distribués et Informatique  \\n• Master en sécurité de l'information  \\n• Doctorat. en informatique  \\n \\nQ23 : Quelles sont les opportunités d'emploi pour les diplômés en informatique ?  \\nR23 : Il existe de nombreuses opportunités d'emploi pour les diplômés en informatique \\ndans divers domaines, tels que :  \\n• La programmation  \\n• Développement de logiciels  \\n• L'analyse des données  \\n• Sécurité des informations  \\n• Rése aux \\n• Gestion de projet  \\n \\nQ24 : Combien de spécialisations y a -t-il dans le master ?  \\nR24 : Il existe 5 spécialisations dans le master.  \\n \\nQ25 : Quels sont les tarifs d'admission aux spécialisations de master ?  \\nR25 : Les tarifs d'admission aux spécialisations de master varient selon la spécialisation.  \\n \\nQ26 : Existe -t-il des opportunités de développement professionnel permettant aux étudiants \\nd'améliorer leurs compétences techniques et de suivre les progrès de l'industrie  ? \\nR26 : Il existe de nombreuses opportun ités de développement professionnel permettant aux \\nétudiants d'améliorer leurs compétences techniques et de suivre les progrès de l'industrie, \\ntelles que  : \\n• Des programmes de formation  \\n• Ateliers et séminaires  \\n• Programmes de formation en ligne  \\n \\nQ27 : Comment le collège soutient -il les initiatives ou les clubs dirigés par des étudiants et \\naxés sur des domaines d'intérêt spécifiques en informatique  ? \\nR27 : Le collège soutient des initiatives ou des clubs dirigés par des étudiants et axés sur \\ndes domaines  d'intérêt spécifiques en informatique en  : \\n• Fournir un financement  \\n• Offrant de l'espace  \\n• Fournir un soutien  \\n \\nQ28 : Existe -t-il des possibilités pour les étudiants d'acquérir une expérience pratique grâce \\nà des projets ou des concours parrainés par l'in dustrie  ? \\nR28 : Oui, il existe de nombreuses possibilités pour les étudiants d'acquérir une expérience \\npratique grâce à des projets ou des concours parrainés par l'industrie.  \", metadata={'source': 'Banque_FR.pdf', 'page': 3}),\n",
            " Document(page_content=\" \\nQ29 : Quelles sont les opportunités d'emploi après l'obtention d'un master par r apport à un \\nbaccalauréat ?  \\nR29 : Généralement, les titulaires d'une maîtrise peuvent bénéficier de possibilités d'emploi \\nplus spécialisées et avancées dans les domaines de leur choix, tandis que des possibilités \\nd'emploi plus générales et largement disponi bles peuvent être accessibles aux titulaires d'un \\nbaccalauréat.  \\n \\nQ30 : Y a -t-il des différences dans les exigences et les défis entre les étudiants du \\nprogramme de maîtrise et ceux du programme de baccalauréat ?  \\nR30 : Oui, les exigences et les défis du programme de maîtrise sont souvent plus exigeants \\net complexes que ceux du programme de licence, car il oblige les étudiants à s'engager dans \\ndes recherches avancées et à produire des thèses et des mémoires scientifiques.  \\n \\n \\nQ31 : Est -ce que la spécialisati on Gl est disponible à la faculté ?  \\nR : Oui, elle est disponible mais n'a pas encore commencé en raison du faible nombre \\nd'élèves.  \\n \\nQ32 : Quand est -ce que les rattrapages des devoirs auront lieu ?  \\nR : Généralement après les examens finaux à la fin de l'ann ée. \\n \\nQ33 : Quel est le calendrier de l'année ?  \\nR :  \\n \\nQ34 : Quelles sont les spécialités en informatique ?  \\nR : Il y a des spécialités telles que : CS, QC, Rsd, Idtw, F3i, Ifia.  \\n \\nQ35 : Quelles sont les matières principales sur lesquelles je devrais me concentrer en \\ninformatique ?  \\nR : Les matières principales du programme incluent la programmation, les bases de \\ndonnées, les réseaux, la sécurité de l'information, l'intelligence artificielle, le \\ndéveloppement d'applications web et mobiles, etc.  \\n \\nQ36 : Y a -t-il un programme d'échange d'étudiants avec d'autres universités ?  \\nR : Oui, il y a un programme d'échange d'étudiants avec de nombreuses universités en \\nAlgérie et à l'étranger.  \\n \\nQ37 : Quand auront lieu les examens du deuxième semestre ?  \\nR : Le 25 mai 2024 . \\n \\nQ38 : Combien de matières sont enseignées en troisième année d'informatique ?  \\nR : 4 matières.  \", metadata={'source': 'Banque_FR.pdf', 'page': 4}),\n",
            " Document(page_content=\" \\nQ39 : Comment calculer la moyenne ?  \\nR : (0,4 * travaux pratiques + 0,6 * note de l'examen) * coefficient de la matière.  \\n \\nQ40 : Quel est le coefficient des matières de troisième année pour le semestre 1 ?  \\nR : Semestre 1  \\n• ENVS = 1  \\n• Ps = 2  \\n• Pl = 2  \\n• Gl = 3  \\n• IHM = 3  \\n• Comp = 3  \\n• SE = 3  \\nSemestre 2  \\n• AI = 3  \\n• APM = 3  \\n• DSS = 3  \\n• CS = 3  \\n \\nQ41 : Comment les étudiants sont -ils évalués pour la note des travaux dirigés ?  \\nR : La méthode d'évaluation varie d'un enseignant à l'autre, mais généralement :  \\n• 5 points pour la présence en classe  \\n• 5 points pour la participation en classe  \\n• 10 points pour les devoirs  \\n \\nQ42 : La présence en classe est -elle obligatoire ?  \\nR : La présence n'est pas obligatoire mais elle est recommandée car l'élève peut en \\nbénéficier davantage.  \\n \\nQ43 : Qui sont les enseignants responsables du cours de structure de l'ordinateur ?  \\nR : Professeur Khentout.  \\n \\nQ44 : Comment choisir la spécialisation so uhaitée pour le master ?  \\nR : En accédant à votre compte sur l'application Moodle et en vous rendant à la page de \\nchoix pour sélectionner la spécialisation désirée parmi celles disponibles.  \\n \\nQ45 : Pouvons -nous utiliser les ordinateurs des laboratoires en dehors des cours pratiques \\n? \\nR : Oui, vous pouvez utiliser les ordinateurs après avoir obtenu la permission du \\nresponsable du laboratoire.  \\n \\nQ46 : Est -ce qu'un étudiant en informatique doit acheter un ordinateur ou non ?  \", metadata={'source': 'Banque_FR.pdf', 'page': 5}),\n",
            " Document(page_content=\"R : Il n'est pas nécessaire de possé der un ordinateur pour étudier l'informatique car les \\nordinateurs sont disponibles dans les laboratoires de la faculté et avec l'évolution de la \\ntechnologie, il est possible de programmer même à partir d'un téléphone.  \\n \\nQ47 : Combien de crédits sont nécessa ires pour passer à l'année suivante ?  \\nR : Le nombre de crédits requis pour passer à l'année suivante est de 60.  \\n \\nQ48 : Combien de crédits sont nécessaires pour passer à l'année suivante en dette ?  \\nR : Le nombre de crédits requis pour passer à l'année suivante en dette est de 30.  \\n \\nQ49 : Quelle est la note de passage pour cette année ?  \\nR : Après la réunion des enseignants et la compilation des notes, elle sera annoncée sur le \\nsite web de la faculté.  \\n \\nQ50 : Comment puis -je accéder aux services de la bibli othèque universitaire autrement \\nqu'en ligne ?  \\nR : Il n'y a pas de services de bibliothèque universitaire disponibles en dehors d'Internet.  \\n \\nQ51 : Y a -t-il des opportunités pour rejoindre des activités étudiantes ou des clubs étudiants \\n? \\nR : Oui, les clubs organisent des activités ouvertes aux étudiants pour les rejoindre.  \\n \\nQ52 : Quelles sont les compétences nécessaires pour réussir dans le domaine de \\nl'informatique ?  \\nR : Telles que :  \\n• Compétences en pensée logique  \\n• Compétences en résolution de problèmes  \\n• Compétences analytiques  \\n• Capacité à travailler avec des appareils électroniques  \\n• Apprentissage autonome et continu et adaptation à la technologie et aux mises à jour \\nconstantes.  \\n \\nQ53 : Quelles sont les étapes nécessaires pour changer de spécialisation ?  \\nR : V ous devez soumettre une demande de changement de spécialisation au bureau des \\nadmissions et de l'inscription, qui sera ensuite étudiée et décidée conformément aux \\npolitiques de l'université.  \\n \\nQ54 : La faculté propose -t-elle des programmes éducatifs s upplémentaires tels que des \\ncours de langue ou des cours de développement personnel ?  \\nR : Oui, la faculté propose des programmes éducatifs supplémentaires tels que des cours \\nde langue, des ateliers et des programmes de développement personnel pour renforce r les \\ncompétences des étudiants.  \\n \", metadata={'source': 'Banque_FR.pdf', 'page': 6}),\n",
            " Document(page_content=\"Q55 : Quelles sont les étapes pour choisir un superviseur pour le mémoire en master ?  \\nR : V ous pouvez choisir un superviseur de mémoire en fonction de votre spécialisation et \\nde vos intérêts de recherche, de préférence quelqu'un ayant de l'expérience dans le domaine \\ndans lequel vous souhaitez faire votre recherche.  \\n \\nQ56 : Puis -je rejoindre un programme de master après plusieurs années après l'obtention \\ndu diplôme ?  \\nR : Oui, vous pouvez rejoindre un programme de master plusieurs années après l'obtention \\ndu diplôme, dans la catégorie des 20%.  \\n \\nQ57 : Quelles sont les opportunités disponibles pour les étudiants en master après \\nl'obtention du diplôme ?  \\nR : Les opportunités incluent la poursuite des études supérieures pour ob tenir un doctorat, \\ntravailler dans les secteurs académique et industriel, participer à des programmes de \\nformation et de développement professionnel, et créer des start -ups ou travailler en \\nfreelance dans le domaine spécialisé.  \\n \\nQ58 : Quelle est la différe nce principale entre un diplôme de master et un diplôme de \\nlicence ?  \\nR : La différence principale réside dans le niveau d'études et de spécialisation. Le diplôme \\nde licence représente une étape de premier cycle offrant une éducation générale et \\nfondamental e dans un domaine spécifique, tandis que le diplôme de master représente une \\nétape avancée axée sur la recherche et la spécialisation dans le même domaine.  \\n \\nQ59 : Quelle est la complexité et la profondeur des matières enseignées dans le programme \\nde master  par rapport au programme de licence ?  \\nR : En général, les matières du programme de master sont plus complexes et approfondies \\nque celles enseignées dans le programme de licence, car elles se concentrent sur la \\nrecherche scientifique et l'analyse approfond ie des sujets et des concepts.  \\n \\nQ60 : Y a -t-il une différence dans les exigences et les défis entre les étudiants en master et \\nen licence ?  \\nR : Oui, souvent, les exigences et les défis en master sont plus difficiles et complexes par \\nrapport au programme de  licence, car ils exigent des étudiants des recherches avancées et \\nla production de thèses et de travaux scientifiques.  \\n \\nQ61 : Quelles sont les opportunités d'emploi après l'obtention d'un diplôme de master par \\nrapport à un diplôme de licence ?  \\nR : En géné ral, les titulaires d'un diplôme de master peuvent bénéficier de possibilités \\nd'emploi plus spécialisées et avancées dans leurs domaines choisis, tandis que les \\nopportunités d'emploi plus générales sont disponibles pour les diplômés de licence.  \\n \", metadata={'source': 'Banque_FR.pdf', 'page': 7}),\n",
            " Document(page_content=\"Q62 : Quel les sont les opportunités d'emploi après l'obtention d'un diplôme de master par \\nrapport à un diplôme de licence ?  \\nR : En général, les titulaires d'un diplôme de master peuvent bénéficier de possibilités \\nd'emploi plus spécialisées et avancées dans leurs dom aines choisis, tandis que les \\nopportunités d'emploi plus générales sont disponibles pour les diplômés de licence.  \\n \\nQ63 : Quelle est la spécialité la plus demandée en master ?  \\nR : La spécialité la plus demandée en master varie selon l'année.  \\n \\nQ64 : Quel est  le taux de réussite pour les étudiants en master ?  \\nR : Le taux de réussite pour les étudiants en master varie selon la spécialité.  \\n \\nQ65 : Y a -t-il des programmes d'assistance aux étudiants pour l'apprentissage \\nsupplémentaire ou la recherche ?  \\nR : Oui, il existe des programmes d'assistance aux étudiants pour l'apprentissage \\nsupplémentaire ou la recherche, tels que des ateliers, des projets de recherche, des \\ncompétitions techniques, et des ateliers organisés par les collèges et les départements \\nacadémiques.  \\n \\nQ66 : Quelles sont les compétences nécessaires pour réussir dans le domaine de \\nl'informatique ?  \\nR : Les compétences nécessaires pour réussir dans le domaine de l'informatique \\ncomprennent la programmation, l'analyse mathématique, la créativité, les compéte nces en \\ncommunication, une compréhension approfondie des réseaux et de la cybersécurité, et la \\ncapacité à résoudre les problèmes.  \\n \\nQ67 : Qui passe les examens de rattrapage ?  \\nR : Tout étudiant ayant obtenu une moyenne annuelle ≥ 10 avec ou sans compensatio n entre \\nles semestres ne peut pas passer les examens de rattrapage dans une matière même non \\nacquise.  \\nR :Si la moyenne annuelle < 10 avec ou sans compensation entre les semestres, l'étudiant \\na le droit de passer les examens de rattrapage dans les matières non acquises des unités non \\nacquises du semestre non acquis.  \\n \\nQ68 : Quelles sont les opportunités de développement professionnel disponibles pour les \\nétudiants pour améliorer leurs compétences techniques et suivre l'évolution de l'industrie ?  \\nR : Il existe de nombreuses opportunités de développement professionnel disponibles pour \\nles étudiants pour améliorer leurs compétences techniques et suivre l'évolution de \\nl'industrie, telles que :  \\n• Programmes de formation  \\n• Ateliers et séminaires  \\n• Prog rammes de formation en ligne  \\n \", metadata={'source': 'Banque_FR.pdf', 'page': 8}),\n",
            " Document(page_content=\"Q69 : Comment la faculté soutient -elle les initiatives ou les clubs dirigés par des étudiants \\nqui se concentrent sur des domaines spécifiques d'informatique ?  \\nR : La faculté soutient les initiatives ou les clubs dirigés par de s étudiants qui se concentrent \\nsur des domaines spécifiques d'informatique en fournissant un financement, un espace et \\nun soutien.  \\n \\nQ70 : Y a -t-il des opportunités pour les étudiants d'acquérir une expérience pratique grâce \\nà des projets ou à des concours parrainés par l'industrie ?  \\nR : Oui, il existe de nombreuses opportunités pour les étudiants d'acquérir une expérience \\npratique grâce à des projets ou à des concours parrainés par l'industrie.  \\n \\nQ71 : Quels sont les services de soutien disponibles pour les étudiants handicapés ou ayant \\ndes besoins spéciaux au sein du département d'informatique ?  \\nR : La faculté offre de nombreux services de soutien aux étudiants handicapés ou ayant des \\nbesoins spéciaux au sein du département d'informatique, tels que :  \\n• La fourniture de technologies d'assistance  \\n• Un soutien académique  \\n• Des installations de logement appropriées  \\n \\nQ72 : Quelles sont les conditions d'admission au programme de licence en informatique ?  \\nR :  \\n• Un baccalauréat en mathématiques ou en sciences expérimentales.  \\n• Une moyenne de réussite au baccalauréat d'au moins 12/20.  \\n• Réussir le concours d'admission.  \\n \\nQ73 : Quelles sont les opportunités d'emploi après l'obtention du diplôme ?  \\nR : Les opportunités d'emploi après l'obtention du diplôme sont vast es et variées. Les \\ndiplômés peuvent travailler en tant que programmeurs, ingénieurs logiciels, analystes de \\ndonnées, responsables de bases de données, développeurs d'applications web et mobiles, et \\ndans d'autres domaines connexes.  \\n \\nQ74 : Quelles sont les r essources disponibles pour soutenir les étudiants internationaux ?  \\nR : Les ressources disponibles pour soutenir les étudiants internationaux comprennent des \\ncours de langue, des conseils académiques, un soutien social, un logement, une assurance \\nsanté et d es événements culturels.  \\n \\nQ75 : Quelles sont les différences entre la thèse et la recherche scientifique dans le \\nprogramme de master ?  \\nR : La thèse est un travail de recherche réalisé par l'étudiant à la fin du programme de \\nmaster et présenté comme une exi gence pour l'obtention du diplôme, tandis que la \\nrecherche scientifique fait référence aux recherches et études menées par l'étudiant pendant \\nson programme d'études.  \\n \", metadata={'source': 'Banque_FR.pdf', 'page': 9}),\n",
            " Document(page_content=\"Q76 : La faculté propose -t-elle des cours de formation ou des ateliers pour les étudiants  ? \\nR : Oui, la faculté propose de nombreux cours de formation et des ateliers pour les étudiants \\ndans divers domaines de l'informatique, tels que la programmation, les réseaux, les \\nsystèmes d'exploitation, les bases de données, l'intelligence artificielle et la cybersécurité.  \\n \\nQ77 : Quelles sont les spécialisations disponibles dans le programme d'études supérieures \\nen informatique ?  \\nR : Les spécialisations disponibles dans le programme d'études supérieures en informatique \\ncomprennent :  \\n• Master en informati que \\n• Master en génie logiciel  \\n• Master en systèmes d'information  \\n• Master en réseaux et informatique distribuée  \\n• Master en sécurité informatique  \\n• Doctorat en informatique  \\n \\nQ78 : Quelles sont les opportunités d'emploi pour les diplômés en informatique ?  \\nR : Il existe de nombreuses opportunités d'emploi pour les diplômés en informatique dans \\ndivers domaines, tels que :  \\n• Programmation  \\n• Développement de logiciels  \\n• Analyse de données  \\n• Sécurité informatique  \\n• Réseaux  \\n• Gestion de projet  \\n \\nQ79 : Combien y a -t-il de spécialisations dans le programme de master ?  \\nR : Il y a 5 spécialisations dans le programme de master.  \\n \\nQ70 : Quels sont les taux d'acceptation pour les spécialisations en master ?  \\nR : Les taux d'acceptation pour les spécialisations en master vari ent selon la spécialisation.  \", metadata={'source': 'Banque_FR.pdf', 'page': 10}),\n",
            " Document(page_content='Fouad Chouag\\nEmail:fouad.chouag@univ-setif.dz\\n\\nBERRIMI Fella\\nMaitre de conférences B en Informatique\\nDépartement d’Informatique\\nFaculté des Sciences  - Université Ferhat Abbas, Sétif 1\\nEmail : fella.berimi@univ-setif.dz\\n\\nAISSAOUA Habib\\nGrade: Maitre de conferences classe B\\nEmail: habib.aissaoua@univ-setif.dz\\nDépartement: Informatique\\nBureau: 10\\n\\nAISSAOUI Mohammed\\nGrade: Maitre assistant classe B\\nEmail: mohammed.aissaoui@univ-setif.dz\\nDépartement: Informatique\\nBureau: 10\\n\\nALIOUAT née ZOUAOUI Zibouda\\nGrade: Professeur\\nEmail: zaliouat@univ-setif.dz\\nDépartement: Informatique\\nBureau: 20\\n\\nALTI Adel\\nGrade: Maitre de conferences classe A\\nEmail: alti.adel@univ-setif.dz\\nDépartement: Informatique\\n\\nAmar LAMRAOUI\\nGrade: Maitre assistant classe A\\nEmail: amar.lamraoui@univ-setif.dz\\nDépartement: Informatique\\n\\nBALBAL Samir\\nGrade: Maitre de conferences classe B\\nEmail: samir.belbal@univ-setif.dzDépartement: Informatique\\nBureau: 05\\n\\nBOUAMARI Abdelkader\\nGrade: Maitre assistant classe A\\nEmail: bouamari@univ-setif.dzDépartement: Informatique\\nBureau: 01\\n\\nZier Abdelhak\\nGrade: Maitre assistant classe B\\nEmail: abdelhak.zier@univ-setif.dz\\nDépartement: Informatique\\nBureau: 19\\n\\nMANSOURI Houceme\\nGrade: Maitre de conferences classe A\\nEmail: mansouri_houssem@univ-setif.dz\\nDépartement: Informatique\\nBureau: 1\\n\\n\\n\\n\\n\\n\\n\\n\\n', metadata={'source': 'profe.txt'})]\n"
          ]
        }
      ],
      "source": [
        "from pprint import pprint\n",
        "BASE_DIR=os.getcwd()\n",
        "docs = load_docs_locally()\n",
        "pprint(docs)"
      ]
    },
    {
      "cell_type": "code",
      "execution_count": 30,
      "metadata": {
        "id": "9l_0FSVTd8nY"
      },
      "outputs": [],
      "source": [
        "def chunk_data(docs):\n",
        "  text_splitter = RecursiveCharacterTextSplitter(chunk_size=250, chunk_overlap=0)\n",
        "  text = \"\\n\".join([doc.page_content for doc in docs])\n",
        "  # print(text)\n",
        "  chunks = text_splitter.split_text(text)\n",
        "  return chunks"
      ]
    },
    {
      "cell_type": "code",
      "execution_count": 31,
      "metadata": {
        "colab": {
          "base_uri": "https://localhost:8080/"
        },
        "id": "uK5pZASReVqN",
        "outputId": "43eec86b-e53a-4f42-c184-b320bcfddae5"
      },
      "outputs": [
        {
          "name": "stdout",
          "output_type": "stream",
          "text": [
            "119 chunk\n"
          ]
        }
      ],
      "source": [
        "chunks = chunk_data(docs)\n",
        "print(f\"{len(chunks)} chunk\")\n",
        "# pprint(chunks)"
      ]
    },
    {
      "cell_type": "code",
      "execution_count": 32,
      "metadata": {
        "id": "5Hr_17xmecb7"
      },
      "outputs": [],
      "source": [
        "def embed_data(chunks):\n",
        "  from langchain.vectorstores.chroma import Chroma\n",
        "  embedding = GoogleGenerativeAIEmbeddings(model=\"models/embedding-001\")\n",
        "  vector_index = Chroma.from_texts(\n",
        "      chunks,\n",
        "      embedding\n",
        "  ).as_retriever(\n",
        "      search_type=\"similarity\",\n",
        "      search_kwargs={\n",
        "          \"k\":5\n",
        "      }\n",
        "  )\n",
        "  return vector_index"
      ]
    },
    {
      "cell_type": "code",
      "execution_count": 33,
      "metadata": {
        "id": "ZNRYWYXDeyP4"
      },
      "outputs": [],
      "source": [
        "def ask_question(query, vector_index):\n",
        "  from langchain.prompts import PromptTemplate\n",
        "  from langchain_google_genai import ChatGoogleGenerativeAI\n",
        "  from langchain.chains import RetrievalQA\n",
        "\n",
        "  template = \"\"\"\n",
        "  use the following pieces of context to answer the question at the end, translate the answer to arabic. if you don't the answer just say that you don't know the answer, don't try to make up an answer, keep the answer as concise as possible\n",
        "  {context}\n",
        "  Question:{question}\n",
        "  \"\"\"\n",
        "  QA_CHAIN_TEMPLATE = PromptTemplate.from_template(template)\n",
        "  chroma_chain = RetrievalQA.from_chain_type(\n",
        "      llm=ChatGoogleGenerativeAI(model=\"gemini-pro\", temperature=1),\n",
        "      retriever=vector_index,\n",
        "      return_source_documents=True,\n",
        "      chain_type_kwargs={\n",
        "          \"prompt\":QA_CHAIN_TEMPLATE\n",
        "      },\n",
        "      verbose=True\n",
        "  )\n",
        "\n",
        "  response = chroma_chain({\"query\":query})\n",
        "  pprint(response)"
      ]
    },
    {
      "cell_type": "code",
      "execution_count": 34,
      "metadata": {
        "colab": {
          "base_uri": "https://localhost:8080/"
        },
        "id": "8KDZSk5LhVAT",
        "outputId": "ebfc968f-f19c-4afd-d71d-8bdfce8a9401"
      },
      "outputs": [
        {
          "name": "stdout",
          "output_type": "stream",
          "text": [
            "VectorStoreRetriever(tags=['Chroma', 'GoogleGenerativeAIEmbeddings'], vectorstore=<langchain_community.vectorstores.chroma.Chroma object at 0x000002AE018E17F0>, search_kwargs={'k': 5})\n"
          ]
        }
      ],
      "source": [
        "vector_index = embed_data(chunks)\n",
        "pprint(vector_index)"
      ]
    },
    {
      "cell_type": "code",
      "execution_count": 35,
      "metadata": {
        "colab": {
          "base_uri": "https://localhost:8080/"
        },
        "id": "qQ_4mKYYe61y",
        "outputId": "b18e8523-b0ed-4460-ee66-543736b60ba5"
      },
      "outputs": [
        {
          "name": "stdout",
          "output_type": "stream",
          "text": [
            "\n",
            "\n",
            "\u001b[1m> Entering new RetrievalQA chain...\u001b[0m\n",
            "\n",
            "\u001b[1m> Finished chain.\u001b[0m\n",
            "{'query': 'Comment calculer la moyenne ?',\n",
            " 'result': 'I cannot find the answer to your question within the given text.',\n",
            " 'source_documents': [Document(page_content='Savoir plus\\n\\n\\n×\\nUE Méthodologie\\nCrédits : 8\\nCoefficients : 4\\nProgrammation linéaire\\n4\\n2\\n1h30\\n1h30\\n42h\\n40%\\n60%\\n\\nSavoir plus\\n\\n\\n×\\nProbabilités et statistique\\n4\\n2\\n1h30\\n1h30\\n42h\\n40%\\n60%\\n\\nSavoir plus'),\n",
            "                      Document(page_content='MF: Méthodes formelles\\n4\\n2\\n1h30\\n1h30\\n45h\\n40%\\n60%'),\n",
            "                      Document(page_content='Coefficients : 9\\nBDA: Bases de données avancées\\n4\\n2\\n1h30\\n1h30\\n45h\\n40%\\n60%'),\n",
            "                      Document(page_content='Coefficients : 9\\nBDA: Bases de données avancées\\n4\\n2\\n1h30\\n1h30\\n45h\\n40%\\n60%'),\n",
            "                      Document(page_content='Savoir plus\\n\\n\\n×\\nUE Transversale\\nCrédits : 3\\nCoefficients : 2\\nMR: Méthodologie de recherche\\n2\\n1\\n1h30\\n45h\\n100%\\nAnglais3\\n1\\n1\\n1h30\\n22h30')]}\n"
          ]
        }
      ],
      "source": [
        "ask_question(input(\"give your query\"), vector_index)"
      ]
    },
    {
      "cell_type": "markdown",
      "metadata": {},
      "source": []
    }
  ],
  "metadata": {
    "colab": {
      "provenance": []
    },
    "kernelspec": {
      "display_name": "Python 3",
      "name": "python3"
    },
    "language_info": {
      "codemirror_mode": {
        "name": "ipython",
        "version": 3
      },
      "file_extension": ".py",
      "mimetype": "text/x-python",
      "name": "python",
      "nbconvert_exporter": "python",
      "pygments_lexer": "ipython3",
      "version": "3.12.2"
    }
  },
  "nbformat": 4,
  "nbformat_minor": 0
}
