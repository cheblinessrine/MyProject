{
  "cells": [
    {
      "cell_type": "code",
      "execution_count": 1,
      "metadata": {
        "colab": {
          "base_uri": "https://localhost:8080/"
        },
        "id": "DdR-ZvMec6eb",
        "outputId": "c2a847c2-4295-4cd6-f1b9-859ac3b6b9c9"
      },
      "outputs": [],
      "source": [
        "!pip install -q langchain"
      ]
    },
    {
      "cell_type": "code",
      "execution_count": 2,
      "metadata": {
        "colab": {
          "base_uri": "https://localhost:8080/"
        },
        "id": "PK3uUFzydB2p",
        "outputId": "04e5f092-7854-4881-b81f-7d5431698833"
      },
      "outputs": [],
      "source": [
        "!pip install -q langchain-google-genai google-generativeai pypdf"
      ]
    },
    {
      "cell_type": "code",
      "execution_count": 3,
      "metadata": {
        "id": "d1Op3VpbdEfG"
      },
      "outputs": [
        {
          "name": "stderr",
          "output_type": "stream",
          "text": [
            "c:\\Users\\Yahia\\Desktop\\langchain_bot\\.venv\\Lib\\site-packages\\tqdm\\auto.py:21: TqdmWarning: IProgress not found. Please update jupyter and ipywidgets. See https://ipywidgets.readthedocs.io/en/stable/user_install.html\n",
            "  from .autonotebook import tqdm as notebook_tqdm\n"
          ]
        }
      ],
      "source": [
        "from langchain.document_loaders import TextLoader\n",
        "from langchain.text_splitter import RecursiveCharacterTextSplitter\n",
        "from langchain_google_genai.embeddings import GoogleGenerativeAIEmbeddings\n",
        "from langchain_google_genai import ChatGoogleGenerativeAI\n",
        "from dotenv import load_dotenv, find_dotenv\n",
        "# from google.colab import userdata\n",
        "import os\n",
        "import getpass\n",
        "try:\n",
        "  if \"GOOGLE_API_KEY\" not in os.environ:\n",
        "    # os.environ[\"GOOGLE_API_KEY\"] = userdata.get(\"GOOGLE_API_KEY\")\n",
        "    load_dotenv(find_dotenv(), override=True)\n",
        "except Exception as e:\n",
        "  print(e)\n",
        "  import getpass\n",
        "  os.environ[\"GOOGLE_API_KEY\"] = getpass.getpass(\"GOOGLE_API_KEY\")\n"
      ]
    },
    {
      "cell_type": "code",
      "execution_count": 4,
      "metadata": {},
      "outputs": [
        {
          "name": "stdout",
          "output_type": "stream",
          "text": [
            "AIz\n"
          ]
        }
      ],
      "source": [
        "print(os.environ.get(\"GOOGLE_API_KEY\")[:3])"
      ]
    },
    {
      "cell_type": "code",
      "execution_count": 5,
      "metadata": {
        "id": "rQ7PPjamdtIF"
      },
      "outputs": [],
      "source": [
        "from typing import List\n",
        "def load_docs_locally(files:List[str]=[]):\n",
        "    global BASE_DIR\n",
        "    from pprint import pprint\n",
        "    import os\n",
        "    os.chdir(os.path.join(BASE_DIR,\"files/\"))\n",
        "    print(f\"current directory: {os.getcwd()}\")\n",
        "    files = [file for file in os.listdir()] if not files else files\n",
        "    pprint(files)\n",
        "\n",
        "    data = []\n",
        "\n",
        "    for file in files:\n",
        "        _, extension = os.path.splitext(file)\n",
        "        if not file.startswith(\".\"):\n",
        "          match extension:\n",
        "              case \".pdf\":\n",
        "                  from langchain.document_loaders import PyPDFLoader\n",
        "\n",
        "                  loader = PyPDFLoader(file)\n",
        "                  print(f\"loading pdf {file} ....\")\n",
        "              case \".txt\":\n",
        "                  from langchain.document_loaders import TextLoader\n",
        "                  loader = TextLoader(file, encoding=\"utf-8\")\n",
        "                  print(f\"loading text {file} ....\")\n",
        "              case \".docx\":\n",
        "                  from langchain.document_loaders import Docx2textLoader\n",
        "                  loader = Docx2textLoader(file)\n",
        "                  print(f\"loading docx {file} ....\")\n",
        "              case _:\n",
        "                  print(f\"no such available format such as {extension}\")\n",
        "\n",
        "\n",
        "        data += loader.load()\n",
        "    os.chdir(\"../\")\n",
        "    pprint(data)\n",
        "    return data"
      ]
    },
    {
      "cell_type": "code",
      "execution_count": 6,
      "metadata": {
        "id": "r8VlsXuigVcu"
      },
      "outputs": [],
      "source": [
        "os.makedirs(\"files/\", exist_ok=True)"
      ]
    },
    {
      "cell_type": "code",
      "execution_count": 7,
      "metadata": {
        "id": "rXsSma_8eAwN"
      },
      "outputs": [],
      "source": [
        "def download_file(url:str,filename:str):\n",
        "    import requests,os\n",
        "    binary_file = requests.get(url).content\n",
        "    _,extension = os.path.splitext(url)\n",
        "\n",
        "    with open(f\"files/{filename}{extension}\", 'wb') as f:\n",
        "        f.write(binary_file)\n",
        "\n",
        "    print(f\"done downloading {filename}{extension}\")\n",
        "    return f\"files/{filename}{extension}\""
      ]
    },
    {
      "cell_type": "code",
      "execution_count": 8,
      "metadata": {
        "id": "nwtTRwRIilhz"
      },
      "outputs": [],
      "source": [
        "def load_docs(docs_urls=[\"https://pypi.org/\"]):\n",
        "    from langchain.document_loaders.async_html import AsyncHtmlLoader\n",
        "    print(\"loading started....\")\n",
        "    loader = AsyncHtmlLoader(docs_urls)\n",
        "    documents = loader.load()\n",
        "    return documents"
      ]
    },
    {
      "cell_type": "code",
      "execution_count": 9,
      "metadata": {
        "id": "dCJmECp1iidn"
      },
      "outputs": [],
      "source": [
        "def clean_html(html_page:str, title:str):\n",
        "    from pprint import pprint\n",
        "    from bs4 import BeautifulSoup\n",
        "    parser = BeautifulSoup(html_page, \"html.parser\")\n",
        "    # pprint(parser.prettify())\n",
        "    with open(f\"files/{title}.txt\", \"w\",encoding=\"utf-8\") as f:\n",
        "        for string in parser.strings:\n",
        "            if string !=\"\\n\":\n",
        "                f.write(string.strip())\n",
        "                f.write(\"\\n\")"
      ]
    },
    {
      "cell_type": "code",
      "execution_count": 10,
      "metadata": {
        "id": "0NiyXTcqiIvj"
      },
      "outputs": [],
      "source": [
        "from typing import List\n",
        "def mass_download(urls:List[str]):\n",
        "  file_titles = []\n",
        "  html_pages = load_docs(urls)\n",
        "  for i,html_page in enumerate(html_pages):\n",
        "      cleaned_file_title = (\n",
        "          urls[i]\n",
        "          .replace(\"/\", \"_\")\n",
        "          .replace(\".\", \"_\")\n",
        "          .replace(\"-\", \"_\")\n",
        "          .replace(\"https:\", \"\")\n",
        "          .replace(\"dz\", \"\")\n",
        "          .replace(\"net\", \"\")\n",
        "          .replace(\"com\", \"\")\n",
        "          .replace(\"org\", \"\")\n",
        "          .replace(\"edu\", \"\")\n",
        "          .strip(\"_\")\n",
        "      )\n",
        "      clean_html(\n",
        "          html_page.page_content,\n",
        "          cleaned_file_title\n",
        "      )\n",
        "      file_titles.append(cleaned_file_title)\n",
        "  return file_titles"
      ]
    },
    {
      "cell_type": "code",
      "execution_count": 11,
      "metadata": {
        "id": "n4Oa8DQ_iXPK"
      },
      "outputs": [
        {
          "name": "stdout",
          "output_type": "stream",
          "text": [
            "loading started....\n"
          ]
        },
        {
          "name": "stderr",
          "output_type": "stream",
          "text": [
            "Fetching pages: 100%|##########| 1/1 [00:00<00:00,  2.32it/s]\n"
          ]
        },
        {
          "data": {
            "text/plain": [
              "['fsciences_univ_setif__main_page_english']"
            ]
          },
          "execution_count": 11,
          "metadata": {},
          "output_type": "execute_result"
        }
      ],
      "source": [
        "urls = [\n",
        "    \"https://fsciences.univ-setif.dz/main_page/english\",\n",
        "]\n",
        "mass_download(urls)"
      ]
    },
    {
      "cell_type": "code",
      "execution_count": 12,
      "metadata": {
        "id": "Q_fNHk-M10lr"
      },
      "outputs": [],
      "source": [
        "os.chdir(os.getcwd())"
      ]
    },
    {
      "cell_type": "code",
      "execution_count": 13,
      "metadata": {
        "colab": {
          "base_uri": "https://localhost:8080/",
          "height": 35
        },
        "id": "3x687AnZ13Ip",
        "outputId": "945fb589-118f-45f2-f40b-779d255969df"
      },
      "outputs": [
        {
          "data": {
            "text/plain": [
              "'c:\\\\Users\\\\Yahia\\\\Desktop\\\\langchain_bot'"
            ]
          },
          "execution_count": 13,
          "metadata": {},
          "output_type": "execute_result"
        }
      ],
      "source": [
        "os.getcwd()"
      ]
    },
    {
      "cell_type": "code",
      "execution_count": 15,
      "metadata": {
        "colab": {
          "base_uri": "https://localhost:8080/"
        },
        "id": "4o8orVx8dwOa",
        "outputId": "044f6598-ef8e-4b7c-d1df-8ae4a4104ea3"
      },
      "outputs": [
        {
          "name": "stdout",
          "output_type": "stream",
          "text": [
            "current directory: c:\\Users\\Yahia\\Desktop\\langchain_bot\\files\n",
            "['Banque_FR.pdf', 'fsciences_univ_setif__main_page_english.txt']\n",
            "loading pdf Banque_FR.pdf ....\n",
            "loading text fsciences_univ_setif__main_page_english.txt ....\n",
            "[Document(page_content=\"Q 1 : Existe -t-il une spécialisation en génie logiciel dans notre collège  ? \\nR 1 : Oui, c'était disponible mais plus maintenant faute d'étudiants  \\n \\nQ 2 : Y a -t-il des possibilités de formation ou de mise en pratique pendant la période \\nd'études ?  \\nR 2 : Oui, il y en a. Les universités proposent souvent des programmes de formation avec \\ndes entreprises ou des institutions locales pour permettre aux étudiants d'acquérir une \\nexpérience pratique dans différents domaines de l'informatique.  \\n \\nQ3 : Quelles sont les mat ières principales du programme  ? \\nR4 : les matières de base comprennent, entre autres, la programmation, les bases de \\ndonnées, les réseaux, la sécurité de l'information, l'intelligence artificielle, le \\ndéveloppement d'applications Web et mobiles.  \\n \\nQ4 : Quel les sont les perspectives d ’emploi après l ’obtention du diplôme ?  \\nR4 : Les perspectives d ’emploi après l ’obtention du diplôme sont larges et variées. Les \\ndiplômés peuvent travailler en tant que développeurs de logiciels, ingénieurs réseau, \\nanalystes en séc urité de l'information, administrateurs de bases de données, spécialistes du \\ndéveloppement d'applications Web et mobiles et dans d'autres domaines connexes.  \\n \\nQ5 : Quelles sont les compétences nécessaires pour réussir dans le domaine de \\nl’informatique ?  \\nR5 : Les compétences nécessaires pour réussir dans le domaine de l'informatique \\ncomprennent la programmation, l'analyse mathématique, la créativité, les compétences en \\ncommunication, une compréhension approfondie des technologies de réseautage et de \\ncybersécu rité et des capacités de résolution de problèmes.  \\n \\nQ6 : Quelles ressources sont disponibles pour soutenir les étudiants internationaux  ? \\nR6 : Les étudiants internationaux peuvent participer à des cours d'apprentissage des langues \\net bénéficier d'avantages spéciaux tels que des conseils académiques, un soutien social, un \\nlogement, une assurance maladie et des activités culturelles.  \\n \\nQ7 : Existe -t-il des possibilités de participer à des activités étudiantes ou à des clubs \\nétudiants  ? \\nR7 : bien entendu, les ét udiants peuvent participer aux activités des clubs, comme les clubs \\nde programmation, les clubs de cybersécurité, le bénévolat, les activités sportives, \\nartistiques et culturelles.  \\n \\nQ8 : Quels services de soutien sont disponibles pour les étudiants handica pés ou ayant des \\nbesoins spéciaux au sein du département d'informatique  ? \\nR8 : Le collège offre de nombreux services de soutien aux étudiants handicapés ou ayant \\ndes besoins particuliers au sein du département d'informatique, tels que :  \\n• Fournir une techn ologie d'assistance  \", metadata={'source': 'Banque_FR.pdf', 'page': 0}),\n",
            " Document(page_content=\"• Offrir un soutien académique  \\n• Fournir des installations d'hébergement adaptées  \\n \\nQ9 : Quelles sont les conditions d'admission au programme de baccalauréat en \\ninformatique ?  \\nR9 : Les trois exigences importantes sont  : \\n• Baccalauréat en  mathématiques ou en sciences expérimentales.  \\n• Taux de réussite au baccalauréat d'au moins 12/20.  \\n• Réussite de l'examen d'entrée.  \\n \\nQ10 : Qui est admissible aux examens de rattrapage  ? \\nR10 : Tout étudiant qui obtient une note annuelle ≥10 avec ou sans com pensation entre les \\nsemestres ne peut passer des examens de rattrapage dans aucune matière même si celle -ci \\nn'est pas acquise. Si la note annuelle est < 10 avec ou sans compensation entre les \\nsemestres, l'étudiant peut passer des examens de rattrapage dans  les matières non acquises \\ndans les unités non acquises du semestre non acquis.  \\n \\nQ11 : Quelles opportunités de développement professionnel sont offertes aux étudiants \\npour améliorer leurs compétences techniques et suivre l ’évolution de l ’industrie  ? \\nR11 : De nombreuses opportunités de développement professionnel s'offrent aux étudiants \\npour améliorer leurs compétences techniques et suivre l'évolution de l'industrie, telles que  : \\n• Des programmes de formation  \\n• Ateliers et séminaires  \\n• Programmes de formation en ligne  \\n \\nQ12 : Existe -t-il des possibilités pour les étudiants d'acquérir une expérience pratique grâce \\nà des projets ou des concours parrainés par l'industrie  ? \\nR12 : Oui, il existe de nombreuses possibilités pour les étudiants d'acquérir une e xpérience \\npratique grâce à des projets ou des concours parrainés par l'industrie.  \\n \\nQ13 : Comment puis -je accéder aux services de la bibliothèque universitaire hors ligne  ? \\nR14 : Aucun service de bibliothèque universitaire n'est disponible hors ligne.  \\n \\nQ15 : Existe -t-il des possibilités de participer à des activités étudiantes ou à des clubs \\nétudiants  ? \\n \\nR15 : Oui, les clubs organisent des activités ouvertes auxquelles les étudiants peuvent \\nparticiper.  \\n \\nQ16 : Quelles compétences sont nécessaires pour réussir  dans le domaine de l ’informatique \\n? \\nR16 : Tels que  : \\n• Capacités de réflexion logique  \", metadata={'source': 'Banque_FR.pdf', 'page': 1}),\n",
            " Document(page_content=\"• Des talents pour la résolution des problèmes  \\n• Compétences analytiques  \\n• Capacité à manipuler des appareils électroniques  \\n• Auto -apprentissage et apprentissage continu  et suivi  \\n• technologie et mises à jour continues  \\n \\nQ17 : Si je décide de changer de spécialisation, que dois -je faire  ? \\nR17 : V ous devez introduire une demande de changement de spécialisation auprès de la \\ngestion des admissions et des inscriptions, elle se ra étudiée et décidée selon les politiques \\nde l'université.  \\n \\nQ18 : Le collège offre -t-il des programmes éducatifs supplémentaires tels que des cours de \\nlangue ou des cours de développement personnel ?  \\nR18 : Oui, le collège propose des programmes éducatifs supplémentaires tels que des cours \\nde langue, des ateliers et des programmes de développement personnel pour améliorer les \\ncompétences des étudiants.  \\n \\nQ19 : Quelles étapes sont nécessaires pour communiquer avec un professeur afin de \\ndemander de l'aide ou d e planifier une consultation ?  \\nR19 : V ous pouvez communiquer avec votre professeur par courriel ou vous rendre à son \\nbureau pendant les heures annoncées d'accueil des étudiants.  \\n \\nQ20 : Quelles sont les différences entre un mémoire et une recherche scientif ique au \\nprogramme de maîtrise ?  \\nR20 : Un mémoire est un travail de recherche entrepris par l'étudiant à la fin du programme \\nde maîtrise et présenté comme condition d'obtention du diplôme, tandis que la recherche \\nscientifique fait référence aux recherches e t aux études menées par l'étudiant au cours de \\nsa période d'études.  \\n \\nQ21 : Le collège offre -t-il des formations (ateliers) aux étudiants ?  \\nR21 : Oui, le collège offre plusieurs formations et ateliers pour les étudiants dans divers \\ndomaines de l'informatiqu e, tels que :  \\n• Programmation informatique  \\n• Réseaux  \\n• Systèmes d'exploitation  \\n• Bases de données  \\n• Intelligence artificielle  \\n• La cyber -sécurité  \\n \\nQ22 : Quelles spécialisations sont disponibles dans le programme d'études supérieures en \\ninformatique ?  \\nR22 : \\n• Maîtrise d'informatique  \", metadata={'source': 'Banque_FR.pdf', 'page': 2}),\n",
            " Document(page_content=\"• Master en génie logiciel  \\n• Master des Systèmes d'Information  \\n• Master en Réseaux Distribués et Informatique  \\n• Master en sécurité de l'information  \\n• Doctorat. en informatique  \\n \\nQ23 : Quelles sont les opportunités d'emploi pour les diplômés en informatique ?  \\nR23 : Il existe de nombreuses opportunités d'emploi pour les diplômés en informatique \\ndans divers domaines, tels que :  \\n• La programmation  \\n• Développement de logiciels  \\n• L'analyse des données  \\n• Sécurité des informations  \\n• Rése aux \\n• Gestion de projet  \\n \\nQ24 : Combien de spécialisations y a -t-il dans le master ?  \\nR24 : Il existe 5 spécialisations dans le master.  \\n \\nQ25 : Quels sont les tarifs d'admission aux spécialisations de master ?  \\nR25 : Les tarifs d'admission aux spécialisations de master varient selon la spécialisation.  \\n \\nQ26 : Existe -t-il des opportunités de développement professionnel permettant aux étudiants \\nd'améliorer leurs compétences techniques et de suivre les progrès de l'industrie  ? \\nR26 : Il existe de nombreuses opportun ités de développement professionnel permettant aux \\nétudiants d'améliorer leurs compétences techniques et de suivre les progrès de l'industrie, \\ntelles que  : \\n• Des programmes de formation  \\n• Ateliers et séminaires  \\n• Programmes de formation en ligne  \\n \\nQ27 : Comment le collège soutient -il les initiatives ou les clubs dirigés par des étudiants et \\naxés sur des domaines d'intérêt spécifiques en informatique  ? \\nR27 : Le collège soutient des initiatives ou des clubs dirigés par des étudiants et axés sur \\ndes domaines  d'intérêt spécifiques en informatique en  : \\n• Fournir un financement  \\n• Offrant de l'espace  \\n• Fournir un soutien  \\n \\nQ28 : Existe -t-il des possibilités pour les étudiants d'acquérir une expérience pratique grâce \\nà des projets ou des concours parrainés par l'in dustrie  ? \\nR28 : Oui, il existe de nombreuses possibilités pour les étudiants d'acquérir une expérience \\npratique grâce à des projets ou des concours parrainés par l'industrie.  \", metadata={'source': 'Banque_FR.pdf', 'page': 3}),\n",
            " Document(page_content=\" \\nQ29 : Quelles sont les opportunités d'emploi après l'obtention d'un master par r apport à un \\nbaccalauréat ?  \\nR29 : Généralement, les titulaires d'une maîtrise peuvent bénéficier de possibilités d'emploi \\nplus spécialisées et avancées dans les domaines de leur choix, tandis que des possibilités \\nd'emploi plus générales et largement disponi bles peuvent être accessibles aux titulaires d'un \\nbaccalauréat.  \\n \\nQ30 : Y a -t-il des différences dans les exigences et les défis entre les étudiants du \\nprogramme de maîtrise et ceux du programme de baccalauréat ?  \\nR30 : Oui, les exigences et les défis du programme de maîtrise sont souvent plus exigeants \\net complexes que ceux du programme de licence, car il oblige les étudiants à s'engager dans \\ndes recherches avancées et à produire des thèses et des mémoires scientifiques.  \\n \\n \\nQ31 : Est -ce que la spécialisati on Gl est disponible à la faculté ?  \\nR : Oui, elle est disponible mais n'a pas encore commencé en raison du faible nombre \\nd'élèves.  \\n \\nQ32 : Quand est -ce que les rattrapages des devoirs auront lieu ?  \\nR : Généralement après les examens finaux à la fin de l'ann ée. \\n \\nQ33 : Quel est le calendrier de l'année ?  \\nR :  \\n \\nQ34 : Quelles sont les spécialités en informatique ?  \\nR : Il y a des spécialités telles que : CS, QC, Rsd, Idtw, F3i, Ifia.  \\n \\nQ35 : Quelles sont les matières principales sur lesquelles je devrais me concentrer en \\ninformatique ?  \\nR : Les matières principales du programme incluent la programmation, les bases de \\ndonnées, les réseaux, la sécurité de l'information, l'intelligence artificielle, le \\ndéveloppement d'applications web et mobiles, etc.  \\n \\nQ36 : Y a -t-il un programme d'échange d'étudiants avec d'autres universités ?  \\nR : Oui, il y a un programme d'échange d'étudiants avec de nombreuses universités en \\nAlgérie et à l'étranger.  \\n \\nQ37 : Quand auront lieu les examens du deuxième semestre ?  \\nR : Le 25 mai 2024 . \\n \\nQ38 : Combien de matières sont enseignées en troisième année d'informatique ?  \\nR : 4 matières.  \", metadata={'source': 'Banque_FR.pdf', 'page': 4}),\n",
            " Document(page_content=\" \\nQ39 : Comment calculer la moyenne ?  \\nR : (0,4 * travaux pratiques + 0,6 * note de l'examen) * coefficient de la matière.  \\n \\nQ40 : Quel est le coefficient des matières de troisième année pour le semestre 1 ?  \\nR : Semestre 1  \\n• ENVS = 1  \\n• Ps = 2  \\n• Pl = 2  \\n• Gl = 3  \\n• IHM = 3  \\n• Comp = 3  \\n• SE = 3  \\nSemestre 2  \\n• AI = 3  \\n• APM = 3  \\n• DSS = 3  \\n• CS = 3  \\n \\nQ41 : Comment les étudiants sont -ils évalués pour la note des travaux dirigés ?  \\nR : La méthode d'évaluation varie d'un enseignant à l'autre, mais généralement :  \\n• 5 points pour la présence en classe  \\n• 5 points pour la participation en classe  \\n• 10 points pour les devoirs  \\n \\nQ42 : La présence en classe est -elle obligatoire ?  \\nR : La présence n'est pas obligatoire mais elle est recommandée car l'élève peut en \\nbénéficier davantage.  \\n \\nQ43 : Qui sont les enseignants responsables du cours de structure de l'ordinateur ?  \\nR : Professeur Khentout.  \\n \\nQ44 : Comment choisir la spécialisation so uhaitée pour le master ?  \\nR : En accédant à votre compte sur l'application Moodle et en vous rendant à la page de \\nchoix pour sélectionner la spécialisation désirée parmi celles disponibles.  \\n \\nQ45 : Pouvons -nous utiliser les ordinateurs des laboratoires en dehors des cours pratiques \\n? \\nR : Oui, vous pouvez utiliser les ordinateurs après avoir obtenu la permission du \\nresponsable du laboratoire.  \\n \\nQ46 : Est -ce qu'un étudiant en informatique doit acheter un ordinateur ou non ?  \", metadata={'source': 'Banque_FR.pdf', 'page': 5}),\n",
            " Document(page_content=\"R : Il n'est pas nécessaire de possé der un ordinateur pour étudier l'informatique car les \\nordinateurs sont disponibles dans les laboratoires de la faculté et avec l'évolution de la \\ntechnologie, il est possible de programmer même à partir d'un téléphone.  \\n \\nQ47 : Combien de crédits sont nécessa ires pour passer à l'année suivante ?  \\nR : Le nombre de crédits requis pour passer à l'année suivante est de 60.  \\n \\nQ48 : Combien de crédits sont nécessaires pour passer à l'année suivante en dette ?  \\nR : Le nombre de crédits requis pour passer à l'année suivante en dette est de 30.  \\n \\nQ49 : Quelle est la note de passage pour cette année ?  \\nR : Après la réunion des enseignants et la compilation des notes, elle sera annoncée sur le \\nsite web de la faculté.  \\n \\nQ50 : Comment puis -je accéder aux services de la bibli othèque universitaire autrement \\nqu'en ligne ?  \\nR : Il n'y a pas de services de bibliothèque universitaire disponibles en dehors d'Internet.  \\n \\nQ51 : Y a -t-il des opportunités pour rejoindre des activités étudiantes ou des clubs étudiants \\n? \\nR : Oui, les clubs organisent des activités ouvertes aux étudiants pour les rejoindre.  \\n \\nQ52 : Quelles sont les compétences nécessaires pour réussir dans le domaine de \\nl'informatique ?  \\nR : Telles que :  \\n• Compétences en pensée logique  \\n• Compétences en résolution de problèmes  \\n• Compétences analytiques  \\n• Capacité à travailler avec des appareils électroniques  \\n• Apprentissage autonome et continu et adaptation à la technologie et aux mises à jour \\nconstantes.  \\n \\nQ53 : Quelles sont les étapes nécessaires pour changer de spécialisation ?  \\nR : V ous devez soumettre une demande de changement de spécialisation au bureau des \\nadmissions et de l'inscription, qui sera ensuite étudiée et décidée conformément aux \\npolitiques de l'université.  \\n \\nQ54 : La faculté propose -t-elle des programmes éducatifs s upplémentaires tels que des \\ncours de langue ou des cours de développement personnel ?  \\nR : Oui, la faculté propose des programmes éducatifs supplémentaires tels que des cours \\nde langue, des ateliers et des programmes de développement personnel pour renforce r les \\ncompétences des étudiants.  \\n \", metadata={'source': 'Banque_FR.pdf', 'page': 6}),\n",
            " Document(page_content=\"Q55 : Quelles sont les étapes pour choisir un superviseur pour le mémoire en master ?  \\nR : V ous pouvez choisir un superviseur de mémoire en fonction de votre spécialisation et \\nde vos intérêts de recherche, de préférence quelqu'un ayant de l'expérience dans le domaine \\ndans lequel vous souhaitez faire votre recherche.  \\n \\nQ56 : Puis -je rejoindre un programme de master après plusieurs années après l'obtention \\ndu diplôme ?  \\nR : Oui, vous pouvez rejoindre un programme de master plusieurs années après l'obtention \\ndu diplôme, dans la catégorie des 20%.  \\n \\nQ57 : Quelles sont les opportunités disponibles pour les étudiants en master après \\nl'obtention du diplôme ?  \\nR : Les opportunités incluent la poursuite des études supérieures pour ob tenir un doctorat, \\ntravailler dans les secteurs académique et industriel, participer à des programmes de \\nformation et de développement professionnel, et créer des start -ups ou travailler en \\nfreelance dans le domaine spécialisé.  \\n \\nQ58 : Quelle est la différe nce principale entre un diplôme de master et un diplôme de \\nlicence ?  \\nR : La différence principale réside dans le niveau d'études et de spécialisation. Le diplôme \\nde licence représente une étape de premier cycle offrant une éducation générale et \\nfondamental e dans un domaine spécifique, tandis que le diplôme de master représente une \\nétape avancée axée sur la recherche et la spécialisation dans le même domaine.  \\n \\nQ59 : Quelle est la complexité et la profondeur des matières enseignées dans le programme \\nde master  par rapport au programme de licence ?  \\nR : En général, les matières du programme de master sont plus complexes et approfondies \\nque celles enseignées dans le programme de licence, car elles se concentrent sur la \\nrecherche scientifique et l'analyse approfond ie des sujets et des concepts.  \\n \\nQ60 : Y a -t-il une différence dans les exigences et les défis entre les étudiants en master et \\nen licence ?  \\nR : Oui, souvent, les exigences et les défis en master sont plus difficiles et complexes par \\nrapport au programme de  licence, car ils exigent des étudiants des recherches avancées et \\nla production de thèses et de travaux scientifiques.  \\n \\nQ61 : Quelles sont les opportunités d'emploi après l'obtention d'un diplôme de master par \\nrapport à un diplôme de licence ?  \\nR : En géné ral, les titulaires d'un diplôme de master peuvent bénéficier de possibilités \\nd'emploi plus spécialisées et avancées dans leurs domaines choisis, tandis que les \\nopportunités d'emploi plus générales sont disponibles pour les diplômés de licence.  \\n \", metadata={'source': 'Banque_FR.pdf', 'page': 7}),\n",
            " Document(page_content=\"Q62 : Quel les sont les opportunités d'emploi après l'obtention d'un diplôme de master par \\nrapport à un diplôme de licence ?  \\nR : En général, les titulaires d'un diplôme de master peuvent bénéficier de possibilités \\nd'emploi plus spécialisées et avancées dans leurs dom aines choisis, tandis que les \\nopportunités d'emploi plus générales sont disponibles pour les diplômés de licence.  \\n \\nQ63 : Quelle est la spécialité la plus demandée en master ?  \\nR : La spécialité la plus demandée en master varie selon l'année.  \\n \\nQ64 : Quel est  le taux de réussite pour les étudiants en master ?  \\nR : Le taux de réussite pour les étudiants en master varie selon la spécialité.  \\n \\nQ65 : Y a -t-il des programmes d'assistance aux étudiants pour l'apprentissage \\nsupplémentaire ou la recherche ?  \\nR : Oui, il existe des programmes d'assistance aux étudiants pour l'apprentissage \\nsupplémentaire ou la recherche, tels que des ateliers, des projets de recherche, des \\ncompétitions techniques, et des ateliers organisés par les collèges et les départements \\nacadémiques.  \\n \\nQ66 : Quelles sont les compétences nécessaires pour réussir dans le domaine de \\nl'informatique ?  \\nR : Les compétences nécessaires pour réussir dans le domaine de l'informatique \\ncomprennent la programmation, l'analyse mathématique, la créativité, les compéte nces en \\ncommunication, une compréhension approfondie des réseaux et de la cybersécurité, et la \\ncapacité à résoudre les problèmes.  \\n \\nQ67 : Qui passe les examens de rattrapage ?  \\nR : Tout étudiant ayant obtenu une moyenne annuelle ≥ 10 avec ou sans compensatio n entre \\nles semestres ne peut pas passer les examens de rattrapage dans une matière même non \\nacquise.  \\nR :Si la moyenne annuelle < 10 avec ou sans compensation entre les semestres, l'étudiant \\na le droit de passer les examens de rattrapage dans les matières non acquises des unités non \\nacquises du semestre non acquis.  \\n \\nQ68 : Quelles sont les opportunités de développement professionnel disponibles pour les \\nétudiants pour améliorer leurs compétences techniques et suivre l'évolution de l'industrie ?  \\nR : Il existe de nombreuses opportunités de développement professionnel disponibles pour \\nles étudiants pour améliorer leurs compétences techniques et suivre l'évolution de \\nl'industrie, telles que :  \\n• Programmes de formation  \\n• Ateliers et séminaires  \\n• Prog rammes de formation en ligne  \\n \", metadata={'source': 'Banque_FR.pdf', 'page': 8}),\n",
            " Document(page_content=\"Q69 : Comment la faculté soutient -elle les initiatives ou les clubs dirigés par des étudiants \\nqui se concentrent sur des domaines spécifiques d'informatique ?  \\nR : La faculté soutient les initiatives ou les clubs dirigés par de s étudiants qui se concentrent \\nsur des domaines spécifiques d'informatique en fournissant un financement, un espace et \\nun soutien.  \\n \\nQ70 : Y a -t-il des opportunités pour les étudiants d'acquérir une expérience pratique grâce \\nà des projets ou à des concours parrainés par l'industrie ?  \\nR : Oui, il existe de nombreuses opportunités pour les étudiants d'acquérir une expérience \\npratique grâce à des projets ou à des concours parrainés par l'industrie.  \\n \\nQ71 : Quels sont les services de soutien disponibles pour les étudiants handicapés ou ayant \\ndes besoins spéciaux au sein du département d'informatique ?  \\nR : La faculté offre de nombreux services de soutien aux étudiants handicapés ou ayant des \\nbesoins spéciaux au sein du département d'informatique, tels que :  \\n• La fourniture de technologies d'assistance  \\n• Un soutien académique  \\n• Des installations de logement appropriées  \\n \\nQ72 : Quelles sont les conditions d'admission au programme de licence en informatique ?  \\nR :  \\n• Un baccalauréat en mathématiques ou en sciences expérimentales.  \\n• Une moyenne de réussite au baccalauréat d'au moins 12/20.  \\n• Réussir le concours d'admission.  \\n \\nQ73 : Quelles sont les opportunités d'emploi après l'obtention du diplôme ?  \\nR : Les opportunités d'emploi après l'obtention du diplôme sont vast es et variées. Les \\ndiplômés peuvent travailler en tant que programmeurs, ingénieurs logiciels, analystes de \\ndonnées, responsables de bases de données, développeurs d'applications web et mobiles, et \\ndans d'autres domaines connexes.  \\n \\nQ74 : Quelles sont les r essources disponibles pour soutenir les étudiants internationaux ?  \\nR : Les ressources disponibles pour soutenir les étudiants internationaux comprennent des \\ncours de langue, des conseils académiques, un soutien social, un logement, une assurance \\nsanté et d es événements culturels.  \\n \\nQ75 : Quelles sont les différences entre la thèse et la recherche scientifique dans le \\nprogramme de master ?  \\nR : La thèse est un travail de recherche réalisé par l'étudiant à la fin du programme de \\nmaster et présenté comme une exi gence pour l'obtention du diplôme, tandis que la \\nrecherche scientifique fait référence aux recherches et études menées par l'étudiant pendant \\nson programme d'études.  \\n \", metadata={'source': 'Banque_FR.pdf', 'page': 9}),\n",
            " Document(page_content=\"Q76 : La faculté propose -t-elle des cours de formation ou des ateliers pour les étudiants  ? \\nR : Oui, la faculté propose de nombreux cours de formation et des ateliers pour les étudiants \\ndans divers domaines de l'informatique, tels que la programmation, les réseaux, les \\nsystèmes d'exploitation, les bases de données, l'intelligence artificielle et la cybersécurité.  \\n \\nQ77 : Quelles sont les spécialisations disponibles dans le programme d'études supérieures \\nen informatique ?  \\nR : Les spécialisations disponibles dans le programme d'études supérieures en informatique \\ncomprennent :  \\n• Master en informati que \\n• Master en génie logiciel  \\n• Master en systèmes d'information  \\n• Master en réseaux et informatique distribuée  \\n• Master en sécurité informatique  \\n• Doctorat en informatique  \\n \\nQ78 : Quelles sont les opportunités d'emploi pour les diplômés en informatique ?  \\nR : Il existe de nombreuses opportunités d'emploi pour les diplômés en informatique dans \\ndivers domaines, tels que :  \\n• Programmation  \\n• Développement de logiciels  \\n• Analyse de données  \\n• Sécurité informatique  \\n• Réseaux  \\n• Gestion de projet  \\n \\nQ79 : Combien y a -t-il de spécialisations dans le programme de master ?  \\nR : Il y a 5 spécialisations dans le programme de master.  \\n \\nQ70 : Quels sont les taux d'acceptation pour les spécialisations en master ?  \\nR : Les taux d'acceptation pour les spécialisations en master vari ent selon la spécialisation.  \", metadata={'source': 'Banque_FR.pdf', 'page': 10}),\n",
            " Document(page_content=\"Faculté des Sciences\\nToggle navigation\\nUNIVERSITY SÉTIF 1\\nFERHAT ABBAS\\nFACULTY OF\\nSCIENCES\\n\\n\\nعربي\\nFrançais\\nToggle navigation\\nDiscover\\nthe Faculty\\nWELCOME\\nPRESENTATION\\n\\nCONTACT\\n\\nDEPARTMENTS\\nCHEMISTERY\\n\\nCOMPUTER SCIENCE\\n\\nMATHEMATICS\\n\\nPHYSICS\\n\\nCOMMON CORE\\nMATHEMATICS-COMPUTER SCIENCE\\n\\nMATERIAL SCIENCES\\n\\nPEDAGOGY\\nGraduation\\nINFORMATIONS\\n\\nREGULATORY TEXTS\\nSTATISTICS\\n\\nIMPORTANTS DOCUMENTS\\n\\nFORMATIONS\\nCHEMISTERY\\n\\nCOMPUTER SCIENCE\\n\\nMATHEMATICS\\n\\nPHYSICS\\n\\nMATHEMATICS-COMPUTER SCIENCE\\n\\nMATERIAL SCIENCES\\n\\nPEDAGOGY ACTIVITES\\nTimetable\\n\\nPEDAGOGY COMMITTEES\\n\\nEXAMS\\n\\nSTUDENT INTERNSHIPS\\n\\nSCIENTIFIC\\nBoards\\nTHE SCIENTIFIC BOARD\\nCOMPOSITION OF THE BOARD\\n\\nMEETINGS CALENDAR\\n\\nREPORT OF MEETINGS\\n\\nCSD CHEMISTERY\\nCOMPOSITION OF THE COMMITTEE\\n\\nMEETINGS CALENDAR\\n\\nCSD COMPUTER SCIENCE\\nCOMPOSITION OF THE COMMITTEE\\n\\nMEETINGS CALENDAR\\n\\nCSD MATHEMATICS\\nCOMPOSITION OF THE COMMITTEE\\n\\nMEETINGS CALENDAR\\n\\nCSD PHYSICS\\nMEETINGS CALENDAR\\n\\nCOMPOSITION OF THE COMMITTEE\\n\\nLABORATORIES\\nof Researche\\n\\nDevelopment of new materials and their characterizations\\n\\nHigh resolution assay analysis and characterization\\n\\nChemistry, Materials Engineering and Nano structures\\n\\nApplied mathematics\\n\\nOptoelectronics and components\\n\\nFundamental and numerical mathematics\\n\\nStudy of surfaces and interfaces of solid materials\\n\\nQuantum physics and dynamical systems\\n\\nNetworks and Distributed Systems\\nLIBRARY\\nof the Faculty\\n\\nFACULTY CATALOG\\n\\nUNIVERSITY CATALOG\\n\\nSNDL\\nElearning\\nPedagogy Guide\\nConnexion\\nMail\\nFacebook\\nPersonal pages\\nManagement\\n\\nCYBERSECURITY CONFERENCE\\nRead more\\nLINUX COMPETITION\\nRead more\\nEXAMS AND PHONE\\nRead more\\nEXAMS AND FRAUD\\nRead more\\nSECOND SEMESTER EXAM SCHEDULES\\nRead more\\nTO THE DOCTORAL STUDENTS\\nRead more\\nTO L3 AND M1 STUDENTS\\nRead more\\nTO L3 STUDENTS\\nRead more\\nTO L1 AND L2 STUDENTS\\nRead more\\nLESSON PLANNING\\nRead more\\nMASTER'S THESIS\\nRead more\\nMASTER'S STUDENTS\\nRead more\\nPERMANENT ROOMS\\nRead more\\nFOR STUDENTS\\nMoodle access\\nRead more\\nChemistry\\nComputer Science\\nMathematics\\nPhysics\\nTC-MI\\nTC-SM\\n\\nOur dreams weigh the mountains gracefully.\\n\\n\\nDOCTORATE THESIS DEFENSE, L. DEBACHE:\\nOn May 19th, 2024 at 17:00\\n\\n\\nDOCTORATE THESIS DEFENSE, A. BENAIDJA:\\nOn May 14th, 2024 at 17:00\\n\\nTEACHING / GRADUATION\\nACADEMIC CALENDAR\\n1st meetings of the pedagogy committees\\nFrom Sunday 03 to Thursday 07 March 2024\\n2nd meetings of the pedagogy committees\\nFrom Sunday 21 to Thursday 25 April 2024\\nSpring holiday\\nFrom Friday, March 22nd to Friday, April 5th, 2024\\nEnd of the semester\\nThursday, May 16th\\nSecond semester exams\\nStarting from Sunday, May 19th\\nExam paper consultations\\nStarting from Sunday, June 2nd\\nSecond semester make-up exams\\nStarting from Tuesday, June 11th\\nFirst semester make-up exams\\nStarting from Saturday, June 22nd\\nMaster's presentations\\nFrom Saturday, May 18th to Saturday, June 22nd\\nDeliberations\\nStarting from Sunday, June 30th\\nPEDAGOGY\\nEXTENSION OF MASTER'S DEFENSES 1275\\nACADEMIC COORDINATORS\\nTIMETABLING OF DEPARTMENTS\\nORDER 1275\\nmaster's thesis\\nORDER 1023\\nORDER 397 OF 21 MARCH 2023\\nORDER 396 OF 21 MARCH 2023\\nORDER 171\\nEXECUTIVE DECREE 22-208\\neducation and training scheme\\nQUALITY ASSURANCE SYSTEM\\nCONTINUOUS ASSESSMENT NOTE\\nTD note\\nCOOPERATION\\nCOLOMBIAN SCHOLARSHIPS\\nITALIAN SCHOLARSHIPS\\nSCHOLARSHIPS FROM AZERBAIJAN\\nROMANIAN SCHOLARSHIPS\\nFRENCH SCHOLARSHIPS\\nERASMUS+ 2024\\nALGERO-AMERICAN COOPERATION\\nALGERIAN-TURKISH COOPERATION\\nTWINNING CONVENTION\\nINTERNATIONAL COOPERATION\\n002484\\nCONTACT\\nINTERNATIONAL MOBILITY\\nshort term\\n\\nPOST-GRADUATION / RESEARCH\\nDOCTORATE HABILITATION CUN\\nEXTENSION OF DOCTORAL DEFENSES\\nDOCTORATES SUPPORTED\\nTO THE DOCTORAL STUDENTS\\nAttendance at conferences\\nCOMPOSITION OF JURIES\\nDOCTORAL PROGRAM 2024/2025\\nLISTS OF JOURNALS A AND B\\nDOCTORAL THESIS PLATFORM\\nuser guide\\nZERO PAPER\\nHABILITATION NATIONAL COMMISSION\\norder 993 of August 02, 2022\\nEXECUTIVE ORDER\\neducation and training regime\\nARTICLE AND PRESENTATION\\nSCIENTIFIC EVENTS\\nSCIENTIFIC MEETING\\nIMRR2024\\nUSTHB CONGRESS\\nPROCEEDINGS OF THE SECOND INTERNATIONAL CONFERENCE AND SCHOOL ON RADIATION IMAGING AND NUCLEAR MEDICINE (ICSRI-2023)\\nSCIENTIFIC EVENTS IN 2024\\nCONFERENCE PARTICIPATION\\nCONFERENCE ORGANISATION\\nCORRESPONDENCE 1773\\nORGANISATION OF SCIENTIFIC EVENTS\\nrequest\\nSCIENTIFIC EVENTS\\nacts\\nRESEARCH\\nHYDROGEN THEMATIC NETWORK\\nFUNDING FOR 3RD CYCLE TRAINING\\nPNR PROJECTS\\nMarch 2021 decree\\nINNOVATION AND PATENTS\\nstatistiques\\nCNRST LAW APRIL 2020\\nRESEARCH LABORATORIES\\ndecree 21 august 2019\\n\\nSTUDENT SPACE\\nSPORTIVE AND CULTURAL ACTIVITIES\\nOTHERS\\nEXTENSION OF MASTER'S DEFENSES 1275\\nTO STUDENTS AT THE L3 AND M2 LEVELS\\nPreparation of diplomas\\nTO L3 STUDENTS\\nTO L1 AND L2 STUDENTS\\nMOBILITY\\nTHE ENTRANCE TO THE FACULTY\\nDIPLOME UNIVERSITAIRE STRATUP\\nSTARTUP TEMPLATE\\nGUIDE PROJET STARTUP\\nICONE DE DOLÉANCES\\nSCIENTIFIC CLUBS\\nSETTING UP A SCIENCE CLUB\\nGUIDE TO SCIENCE CLUBS\\nSCIENCE CLUB\\nSCA\\nSETIFIAN SCIENTIFIC CLUB\\nSeSC\\nSETTING UP A SCIENCE CLUB II\\n\\nGENERAL SECRETARY OF THE FACULTY\\nPHONE LINES\\nRead more\\n2015-2024 Faculté des Sciences, Tous droits réservés.\\n×\\n\", metadata={'source': 'fsciences_univ_setif__main_page_english.txt'})]\n",
            "[Document(page_content=\"Q 1 : Existe -t-il une spécialisation en génie logiciel dans notre collège  ? \\nR 1 : Oui, c'était disponible mais plus maintenant faute d'étudiants  \\n \\nQ 2 : Y a -t-il des possibilités de formation ou de mise en pratique pendant la période \\nd'études ?  \\nR 2 : Oui, il y en a. Les universités proposent souvent des programmes de formation avec \\ndes entreprises ou des institutions locales pour permettre aux étudiants d'acquérir une \\nexpérience pratique dans différents domaines de l'informatique.  \\n \\nQ3 : Quelles sont les mat ières principales du programme  ? \\nR4 : les matières de base comprennent, entre autres, la programmation, les bases de \\ndonnées, les réseaux, la sécurité de l'information, l'intelligence artificielle, le \\ndéveloppement d'applications Web et mobiles.  \\n \\nQ4 : Quel les sont les perspectives d ’emploi après l ’obtention du diplôme ?  \\nR4 : Les perspectives d ’emploi après l ’obtention du diplôme sont larges et variées. Les \\ndiplômés peuvent travailler en tant que développeurs de logiciels, ingénieurs réseau, \\nanalystes en séc urité de l'information, administrateurs de bases de données, spécialistes du \\ndéveloppement d'applications Web et mobiles et dans d'autres domaines connexes.  \\n \\nQ5 : Quelles sont les compétences nécessaires pour réussir dans le domaine de \\nl’informatique ?  \\nR5 : Les compétences nécessaires pour réussir dans le domaine de l'informatique \\ncomprennent la programmation, l'analyse mathématique, la créativité, les compétences en \\ncommunication, une compréhension approfondie des technologies de réseautage et de \\ncybersécu rité et des capacités de résolution de problèmes.  \\n \\nQ6 : Quelles ressources sont disponibles pour soutenir les étudiants internationaux  ? \\nR6 : Les étudiants internationaux peuvent participer à des cours d'apprentissage des langues \\net bénéficier d'avantages spéciaux tels que des conseils académiques, un soutien social, un \\nlogement, une assurance maladie et des activités culturelles.  \\n \\nQ7 : Existe -t-il des possibilités de participer à des activités étudiantes ou à des clubs \\nétudiants  ? \\nR7 : bien entendu, les ét udiants peuvent participer aux activités des clubs, comme les clubs \\nde programmation, les clubs de cybersécurité, le bénévolat, les activités sportives, \\nartistiques et culturelles.  \\n \\nQ8 : Quels services de soutien sont disponibles pour les étudiants handica pés ou ayant des \\nbesoins spéciaux au sein du département d'informatique  ? \\nR8 : Le collège offre de nombreux services de soutien aux étudiants handicapés ou ayant \\ndes besoins particuliers au sein du département d'informatique, tels que :  \\n• Fournir une techn ologie d'assistance  \", metadata={'source': 'Banque_FR.pdf', 'page': 0}),\n",
            " Document(page_content=\"• Offrir un soutien académique  \\n• Fournir des installations d'hébergement adaptées  \\n \\nQ9 : Quelles sont les conditions d'admission au programme de baccalauréat en \\ninformatique ?  \\nR9 : Les trois exigences importantes sont  : \\n• Baccalauréat en  mathématiques ou en sciences expérimentales.  \\n• Taux de réussite au baccalauréat d'au moins 12/20.  \\n• Réussite de l'examen d'entrée.  \\n \\nQ10 : Qui est admissible aux examens de rattrapage  ? \\nR10 : Tout étudiant qui obtient une note annuelle ≥10 avec ou sans com pensation entre les \\nsemestres ne peut passer des examens de rattrapage dans aucune matière même si celle -ci \\nn'est pas acquise. Si la note annuelle est < 10 avec ou sans compensation entre les \\nsemestres, l'étudiant peut passer des examens de rattrapage dans  les matières non acquises \\ndans les unités non acquises du semestre non acquis.  \\n \\nQ11 : Quelles opportunités de développement professionnel sont offertes aux étudiants \\npour améliorer leurs compétences techniques et suivre l ’évolution de l ’industrie  ? \\nR11 : De nombreuses opportunités de développement professionnel s'offrent aux étudiants \\npour améliorer leurs compétences techniques et suivre l'évolution de l'industrie, telles que  : \\n• Des programmes de formation  \\n• Ateliers et séminaires  \\n• Programmes de formation en ligne  \\n \\nQ12 : Existe -t-il des possibilités pour les étudiants d'acquérir une expérience pratique grâce \\nà des projets ou des concours parrainés par l'industrie  ? \\nR12 : Oui, il existe de nombreuses possibilités pour les étudiants d'acquérir une e xpérience \\npratique grâce à des projets ou des concours parrainés par l'industrie.  \\n \\nQ13 : Comment puis -je accéder aux services de la bibliothèque universitaire hors ligne  ? \\nR14 : Aucun service de bibliothèque universitaire n'est disponible hors ligne.  \\n \\nQ15 : Existe -t-il des possibilités de participer à des activités étudiantes ou à des clubs \\nétudiants  ? \\n \\nR15 : Oui, les clubs organisent des activités ouvertes auxquelles les étudiants peuvent \\nparticiper.  \\n \\nQ16 : Quelles compétences sont nécessaires pour réussir  dans le domaine de l ’informatique \\n? \\nR16 : Tels que  : \\n• Capacités de réflexion logique  \", metadata={'source': 'Banque_FR.pdf', 'page': 1}),\n",
            " Document(page_content=\"• Des talents pour la résolution des problèmes  \\n• Compétences analytiques  \\n• Capacité à manipuler des appareils électroniques  \\n• Auto -apprentissage et apprentissage continu  et suivi  \\n• technologie et mises à jour continues  \\n \\nQ17 : Si je décide de changer de spécialisation, que dois -je faire  ? \\nR17 : V ous devez introduire une demande de changement de spécialisation auprès de la \\ngestion des admissions et des inscriptions, elle se ra étudiée et décidée selon les politiques \\nde l'université.  \\n \\nQ18 : Le collège offre -t-il des programmes éducatifs supplémentaires tels que des cours de \\nlangue ou des cours de développement personnel ?  \\nR18 : Oui, le collège propose des programmes éducatifs supplémentaires tels que des cours \\nde langue, des ateliers et des programmes de développement personnel pour améliorer les \\ncompétences des étudiants.  \\n \\nQ19 : Quelles étapes sont nécessaires pour communiquer avec un professeur afin de \\ndemander de l'aide ou d e planifier une consultation ?  \\nR19 : V ous pouvez communiquer avec votre professeur par courriel ou vous rendre à son \\nbureau pendant les heures annoncées d'accueil des étudiants.  \\n \\nQ20 : Quelles sont les différences entre un mémoire et une recherche scientif ique au \\nprogramme de maîtrise ?  \\nR20 : Un mémoire est un travail de recherche entrepris par l'étudiant à la fin du programme \\nde maîtrise et présenté comme condition d'obtention du diplôme, tandis que la recherche \\nscientifique fait référence aux recherches e t aux études menées par l'étudiant au cours de \\nsa période d'études.  \\n \\nQ21 : Le collège offre -t-il des formations (ateliers) aux étudiants ?  \\nR21 : Oui, le collège offre plusieurs formations et ateliers pour les étudiants dans divers \\ndomaines de l'informatiqu e, tels que :  \\n• Programmation informatique  \\n• Réseaux  \\n• Systèmes d'exploitation  \\n• Bases de données  \\n• Intelligence artificielle  \\n• La cyber -sécurité  \\n \\nQ22 : Quelles spécialisations sont disponibles dans le programme d'études supérieures en \\ninformatique ?  \\nR22 : \\n• Maîtrise d'informatique  \", metadata={'source': 'Banque_FR.pdf', 'page': 2}),\n",
            " Document(page_content=\"• Master en génie logiciel  \\n• Master des Systèmes d'Information  \\n• Master en Réseaux Distribués et Informatique  \\n• Master en sécurité de l'information  \\n• Doctorat. en informatique  \\n \\nQ23 : Quelles sont les opportunités d'emploi pour les diplômés en informatique ?  \\nR23 : Il existe de nombreuses opportunités d'emploi pour les diplômés en informatique \\ndans divers domaines, tels que :  \\n• La programmation  \\n• Développement de logiciels  \\n• L'analyse des données  \\n• Sécurité des informations  \\n• Rése aux \\n• Gestion de projet  \\n \\nQ24 : Combien de spécialisations y a -t-il dans le master ?  \\nR24 : Il existe 5 spécialisations dans le master.  \\n \\nQ25 : Quels sont les tarifs d'admission aux spécialisations de master ?  \\nR25 : Les tarifs d'admission aux spécialisations de master varient selon la spécialisation.  \\n \\nQ26 : Existe -t-il des opportunités de développement professionnel permettant aux étudiants \\nd'améliorer leurs compétences techniques et de suivre les progrès de l'industrie  ? \\nR26 : Il existe de nombreuses opportun ités de développement professionnel permettant aux \\nétudiants d'améliorer leurs compétences techniques et de suivre les progrès de l'industrie, \\ntelles que  : \\n• Des programmes de formation  \\n• Ateliers et séminaires  \\n• Programmes de formation en ligne  \\n \\nQ27 : Comment le collège soutient -il les initiatives ou les clubs dirigés par des étudiants et \\naxés sur des domaines d'intérêt spécifiques en informatique  ? \\nR27 : Le collège soutient des initiatives ou des clubs dirigés par des étudiants et axés sur \\ndes domaines  d'intérêt spécifiques en informatique en  : \\n• Fournir un financement  \\n• Offrant de l'espace  \\n• Fournir un soutien  \\n \\nQ28 : Existe -t-il des possibilités pour les étudiants d'acquérir une expérience pratique grâce \\nà des projets ou des concours parrainés par l'in dustrie  ? \\nR28 : Oui, il existe de nombreuses possibilités pour les étudiants d'acquérir une expérience \\npratique grâce à des projets ou des concours parrainés par l'industrie.  \", metadata={'source': 'Banque_FR.pdf', 'page': 3}),\n",
            " Document(page_content=\" \\nQ29 : Quelles sont les opportunités d'emploi après l'obtention d'un master par r apport à un \\nbaccalauréat ?  \\nR29 : Généralement, les titulaires d'une maîtrise peuvent bénéficier de possibilités d'emploi \\nplus spécialisées et avancées dans les domaines de leur choix, tandis que des possibilités \\nd'emploi plus générales et largement disponi bles peuvent être accessibles aux titulaires d'un \\nbaccalauréat.  \\n \\nQ30 : Y a -t-il des différences dans les exigences et les défis entre les étudiants du \\nprogramme de maîtrise et ceux du programme de baccalauréat ?  \\nR30 : Oui, les exigences et les défis du programme de maîtrise sont souvent plus exigeants \\net complexes que ceux du programme de licence, car il oblige les étudiants à s'engager dans \\ndes recherches avancées et à produire des thèses et des mémoires scientifiques.  \\n \\n \\nQ31 : Est -ce que la spécialisati on Gl est disponible à la faculté ?  \\nR : Oui, elle est disponible mais n'a pas encore commencé en raison du faible nombre \\nd'élèves.  \\n \\nQ32 : Quand est -ce que les rattrapages des devoirs auront lieu ?  \\nR : Généralement après les examens finaux à la fin de l'ann ée. \\n \\nQ33 : Quel est le calendrier de l'année ?  \\nR :  \\n \\nQ34 : Quelles sont les spécialités en informatique ?  \\nR : Il y a des spécialités telles que : CS, QC, Rsd, Idtw, F3i, Ifia.  \\n \\nQ35 : Quelles sont les matières principales sur lesquelles je devrais me concentrer en \\ninformatique ?  \\nR : Les matières principales du programme incluent la programmation, les bases de \\ndonnées, les réseaux, la sécurité de l'information, l'intelligence artificielle, le \\ndéveloppement d'applications web et mobiles, etc.  \\n \\nQ36 : Y a -t-il un programme d'échange d'étudiants avec d'autres universités ?  \\nR : Oui, il y a un programme d'échange d'étudiants avec de nombreuses universités en \\nAlgérie et à l'étranger.  \\n \\nQ37 : Quand auront lieu les examens du deuxième semestre ?  \\nR : Le 25 mai 2024 . \\n \\nQ38 : Combien de matières sont enseignées en troisième année d'informatique ?  \\nR : 4 matières.  \", metadata={'source': 'Banque_FR.pdf', 'page': 4}),\n",
            " Document(page_content=\" \\nQ39 : Comment calculer la moyenne ?  \\nR : (0,4 * travaux pratiques + 0,6 * note de l'examen) * coefficient de la matière.  \\n \\nQ40 : Quel est le coefficient des matières de troisième année pour le semestre 1 ?  \\nR : Semestre 1  \\n• ENVS = 1  \\n• Ps = 2  \\n• Pl = 2  \\n• Gl = 3  \\n• IHM = 3  \\n• Comp = 3  \\n• SE = 3  \\nSemestre 2  \\n• AI = 3  \\n• APM = 3  \\n• DSS = 3  \\n• CS = 3  \\n \\nQ41 : Comment les étudiants sont -ils évalués pour la note des travaux dirigés ?  \\nR : La méthode d'évaluation varie d'un enseignant à l'autre, mais généralement :  \\n• 5 points pour la présence en classe  \\n• 5 points pour la participation en classe  \\n• 10 points pour les devoirs  \\n \\nQ42 : La présence en classe est -elle obligatoire ?  \\nR : La présence n'est pas obligatoire mais elle est recommandée car l'élève peut en \\nbénéficier davantage.  \\n \\nQ43 : Qui sont les enseignants responsables du cours de structure de l'ordinateur ?  \\nR : Professeur Khentout.  \\n \\nQ44 : Comment choisir la spécialisation so uhaitée pour le master ?  \\nR : En accédant à votre compte sur l'application Moodle et en vous rendant à la page de \\nchoix pour sélectionner la spécialisation désirée parmi celles disponibles.  \\n \\nQ45 : Pouvons -nous utiliser les ordinateurs des laboratoires en dehors des cours pratiques \\n? \\nR : Oui, vous pouvez utiliser les ordinateurs après avoir obtenu la permission du \\nresponsable du laboratoire.  \\n \\nQ46 : Est -ce qu'un étudiant en informatique doit acheter un ordinateur ou non ?  \", metadata={'source': 'Banque_FR.pdf', 'page': 5}),\n",
            " Document(page_content=\"R : Il n'est pas nécessaire de possé der un ordinateur pour étudier l'informatique car les \\nordinateurs sont disponibles dans les laboratoires de la faculté et avec l'évolution de la \\ntechnologie, il est possible de programmer même à partir d'un téléphone.  \\n \\nQ47 : Combien de crédits sont nécessa ires pour passer à l'année suivante ?  \\nR : Le nombre de crédits requis pour passer à l'année suivante est de 60.  \\n \\nQ48 : Combien de crédits sont nécessaires pour passer à l'année suivante en dette ?  \\nR : Le nombre de crédits requis pour passer à l'année suivante en dette est de 30.  \\n \\nQ49 : Quelle est la note de passage pour cette année ?  \\nR : Après la réunion des enseignants et la compilation des notes, elle sera annoncée sur le \\nsite web de la faculté.  \\n \\nQ50 : Comment puis -je accéder aux services de la bibli othèque universitaire autrement \\nqu'en ligne ?  \\nR : Il n'y a pas de services de bibliothèque universitaire disponibles en dehors d'Internet.  \\n \\nQ51 : Y a -t-il des opportunités pour rejoindre des activités étudiantes ou des clubs étudiants \\n? \\nR : Oui, les clubs organisent des activités ouvertes aux étudiants pour les rejoindre.  \\n \\nQ52 : Quelles sont les compétences nécessaires pour réussir dans le domaine de \\nl'informatique ?  \\nR : Telles que :  \\n• Compétences en pensée logique  \\n• Compétences en résolution de problèmes  \\n• Compétences analytiques  \\n• Capacité à travailler avec des appareils électroniques  \\n• Apprentissage autonome et continu et adaptation à la technologie et aux mises à jour \\nconstantes.  \\n \\nQ53 : Quelles sont les étapes nécessaires pour changer de spécialisation ?  \\nR : V ous devez soumettre une demande de changement de spécialisation au bureau des \\nadmissions et de l'inscription, qui sera ensuite étudiée et décidée conformément aux \\npolitiques de l'université.  \\n \\nQ54 : La faculté propose -t-elle des programmes éducatifs s upplémentaires tels que des \\ncours de langue ou des cours de développement personnel ?  \\nR : Oui, la faculté propose des programmes éducatifs supplémentaires tels que des cours \\nde langue, des ateliers et des programmes de développement personnel pour renforce r les \\ncompétences des étudiants.  \\n \", metadata={'source': 'Banque_FR.pdf', 'page': 6}),\n",
            " Document(page_content=\"Q55 : Quelles sont les étapes pour choisir un superviseur pour le mémoire en master ?  \\nR : V ous pouvez choisir un superviseur de mémoire en fonction de votre spécialisation et \\nde vos intérêts de recherche, de préférence quelqu'un ayant de l'expérience dans le domaine \\ndans lequel vous souhaitez faire votre recherche.  \\n \\nQ56 : Puis -je rejoindre un programme de master après plusieurs années après l'obtention \\ndu diplôme ?  \\nR : Oui, vous pouvez rejoindre un programme de master plusieurs années après l'obtention \\ndu diplôme, dans la catégorie des 20%.  \\n \\nQ57 : Quelles sont les opportunités disponibles pour les étudiants en master après \\nl'obtention du diplôme ?  \\nR : Les opportunités incluent la poursuite des études supérieures pour ob tenir un doctorat, \\ntravailler dans les secteurs académique et industriel, participer à des programmes de \\nformation et de développement professionnel, et créer des start -ups ou travailler en \\nfreelance dans le domaine spécialisé.  \\n \\nQ58 : Quelle est la différe nce principale entre un diplôme de master et un diplôme de \\nlicence ?  \\nR : La différence principale réside dans le niveau d'études et de spécialisation. Le diplôme \\nde licence représente une étape de premier cycle offrant une éducation générale et \\nfondamental e dans un domaine spécifique, tandis que le diplôme de master représente une \\nétape avancée axée sur la recherche et la spécialisation dans le même domaine.  \\n \\nQ59 : Quelle est la complexité et la profondeur des matières enseignées dans le programme \\nde master  par rapport au programme de licence ?  \\nR : En général, les matières du programme de master sont plus complexes et approfondies \\nque celles enseignées dans le programme de licence, car elles se concentrent sur la \\nrecherche scientifique et l'analyse approfond ie des sujets et des concepts.  \\n \\nQ60 : Y a -t-il une différence dans les exigences et les défis entre les étudiants en master et \\nen licence ?  \\nR : Oui, souvent, les exigences et les défis en master sont plus difficiles et complexes par \\nrapport au programme de  licence, car ils exigent des étudiants des recherches avancées et \\nla production de thèses et de travaux scientifiques.  \\n \\nQ61 : Quelles sont les opportunités d'emploi après l'obtention d'un diplôme de master par \\nrapport à un diplôme de licence ?  \\nR : En géné ral, les titulaires d'un diplôme de master peuvent bénéficier de possibilités \\nd'emploi plus spécialisées et avancées dans leurs domaines choisis, tandis que les \\nopportunités d'emploi plus générales sont disponibles pour les diplômés de licence.  \\n \", metadata={'source': 'Banque_FR.pdf', 'page': 7}),\n",
            " Document(page_content=\"Q62 : Quel les sont les opportunités d'emploi après l'obtention d'un diplôme de master par \\nrapport à un diplôme de licence ?  \\nR : En général, les titulaires d'un diplôme de master peuvent bénéficier de possibilités \\nd'emploi plus spécialisées et avancées dans leurs dom aines choisis, tandis que les \\nopportunités d'emploi plus générales sont disponibles pour les diplômés de licence.  \\n \\nQ63 : Quelle est la spécialité la plus demandée en master ?  \\nR : La spécialité la plus demandée en master varie selon l'année.  \\n \\nQ64 : Quel est  le taux de réussite pour les étudiants en master ?  \\nR : Le taux de réussite pour les étudiants en master varie selon la spécialité.  \\n \\nQ65 : Y a -t-il des programmes d'assistance aux étudiants pour l'apprentissage \\nsupplémentaire ou la recherche ?  \\nR : Oui, il existe des programmes d'assistance aux étudiants pour l'apprentissage \\nsupplémentaire ou la recherche, tels que des ateliers, des projets de recherche, des \\ncompétitions techniques, et des ateliers organisés par les collèges et les départements \\nacadémiques.  \\n \\nQ66 : Quelles sont les compétences nécessaires pour réussir dans le domaine de \\nl'informatique ?  \\nR : Les compétences nécessaires pour réussir dans le domaine de l'informatique \\ncomprennent la programmation, l'analyse mathématique, la créativité, les compéte nces en \\ncommunication, une compréhension approfondie des réseaux et de la cybersécurité, et la \\ncapacité à résoudre les problèmes.  \\n \\nQ67 : Qui passe les examens de rattrapage ?  \\nR : Tout étudiant ayant obtenu une moyenne annuelle ≥ 10 avec ou sans compensatio n entre \\nles semestres ne peut pas passer les examens de rattrapage dans une matière même non \\nacquise.  \\nR :Si la moyenne annuelle < 10 avec ou sans compensation entre les semestres, l'étudiant \\na le droit de passer les examens de rattrapage dans les matières non acquises des unités non \\nacquises du semestre non acquis.  \\n \\nQ68 : Quelles sont les opportunités de développement professionnel disponibles pour les \\nétudiants pour améliorer leurs compétences techniques et suivre l'évolution de l'industrie ?  \\nR : Il existe de nombreuses opportunités de développement professionnel disponibles pour \\nles étudiants pour améliorer leurs compétences techniques et suivre l'évolution de \\nl'industrie, telles que :  \\n• Programmes de formation  \\n• Ateliers et séminaires  \\n• Prog rammes de formation en ligne  \\n \", metadata={'source': 'Banque_FR.pdf', 'page': 8}),\n",
            " Document(page_content=\"Q69 : Comment la faculté soutient -elle les initiatives ou les clubs dirigés par des étudiants \\nqui se concentrent sur des domaines spécifiques d'informatique ?  \\nR : La faculté soutient les initiatives ou les clubs dirigés par de s étudiants qui se concentrent \\nsur des domaines spécifiques d'informatique en fournissant un financement, un espace et \\nun soutien.  \\n \\nQ70 : Y a -t-il des opportunités pour les étudiants d'acquérir une expérience pratique grâce \\nà des projets ou à des concours parrainés par l'industrie ?  \\nR : Oui, il existe de nombreuses opportunités pour les étudiants d'acquérir une expérience \\npratique grâce à des projets ou à des concours parrainés par l'industrie.  \\n \\nQ71 : Quels sont les services de soutien disponibles pour les étudiants handicapés ou ayant \\ndes besoins spéciaux au sein du département d'informatique ?  \\nR : La faculté offre de nombreux services de soutien aux étudiants handicapés ou ayant des \\nbesoins spéciaux au sein du département d'informatique, tels que :  \\n• La fourniture de technologies d'assistance  \\n• Un soutien académique  \\n• Des installations de logement appropriées  \\n \\nQ72 : Quelles sont les conditions d'admission au programme de licence en informatique ?  \\nR :  \\n• Un baccalauréat en mathématiques ou en sciences expérimentales.  \\n• Une moyenne de réussite au baccalauréat d'au moins 12/20.  \\n• Réussir le concours d'admission.  \\n \\nQ73 : Quelles sont les opportunités d'emploi après l'obtention du diplôme ?  \\nR : Les opportunités d'emploi après l'obtention du diplôme sont vast es et variées. Les \\ndiplômés peuvent travailler en tant que programmeurs, ingénieurs logiciels, analystes de \\ndonnées, responsables de bases de données, développeurs d'applications web et mobiles, et \\ndans d'autres domaines connexes.  \\n \\nQ74 : Quelles sont les r essources disponibles pour soutenir les étudiants internationaux ?  \\nR : Les ressources disponibles pour soutenir les étudiants internationaux comprennent des \\ncours de langue, des conseils académiques, un soutien social, un logement, une assurance \\nsanté et d es événements culturels.  \\n \\nQ75 : Quelles sont les différences entre la thèse et la recherche scientifique dans le \\nprogramme de master ?  \\nR : La thèse est un travail de recherche réalisé par l'étudiant à la fin du programme de \\nmaster et présenté comme une exi gence pour l'obtention du diplôme, tandis que la \\nrecherche scientifique fait référence aux recherches et études menées par l'étudiant pendant \\nson programme d'études.  \\n \", metadata={'source': 'Banque_FR.pdf', 'page': 9}),\n",
            " Document(page_content=\"Q76 : La faculté propose -t-elle des cours de formation ou des ateliers pour les étudiants  ? \\nR : Oui, la faculté propose de nombreux cours de formation et des ateliers pour les étudiants \\ndans divers domaines de l'informatique, tels que la programmation, les réseaux, les \\nsystèmes d'exploitation, les bases de données, l'intelligence artificielle et la cybersécurité.  \\n \\nQ77 : Quelles sont les spécialisations disponibles dans le programme d'études supérieures \\nen informatique ?  \\nR : Les spécialisations disponibles dans le programme d'études supérieures en informatique \\ncomprennent :  \\n• Master en informati que \\n• Master en génie logiciel  \\n• Master en systèmes d'information  \\n• Master en réseaux et informatique distribuée  \\n• Master en sécurité informatique  \\n• Doctorat en informatique  \\n \\nQ78 : Quelles sont les opportunités d'emploi pour les diplômés en informatique ?  \\nR : Il existe de nombreuses opportunités d'emploi pour les diplômés en informatique dans \\ndivers domaines, tels que :  \\n• Programmation  \\n• Développement de logiciels  \\n• Analyse de données  \\n• Sécurité informatique  \\n• Réseaux  \\n• Gestion de projet  \\n \\nQ79 : Combien y a -t-il de spécialisations dans le programme de master ?  \\nR : Il y a 5 spécialisations dans le programme de master.  \\n \\nQ70 : Quels sont les taux d'acceptation pour les spécialisations en master ?  \\nR : Les taux d'acceptation pour les spécialisations en master vari ent selon la spécialisation.  \", metadata={'source': 'Banque_FR.pdf', 'page': 10}),\n",
            " Document(page_content=\"Faculté des Sciences\\nToggle navigation\\nUNIVERSITY SÉTIF 1\\nFERHAT ABBAS\\nFACULTY OF\\nSCIENCES\\n\\n\\nعربي\\nFrançais\\nToggle navigation\\nDiscover\\nthe Faculty\\nWELCOME\\nPRESENTATION\\n\\nCONTACT\\n\\nDEPARTMENTS\\nCHEMISTERY\\n\\nCOMPUTER SCIENCE\\n\\nMATHEMATICS\\n\\nPHYSICS\\n\\nCOMMON CORE\\nMATHEMATICS-COMPUTER SCIENCE\\n\\nMATERIAL SCIENCES\\n\\nPEDAGOGY\\nGraduation\\nINFORMATIONS\\n\\nREGULATORY TEXTS\\nSTATISTICS\\n\\nIMPORTANTS DOCUMENTS\\n\\nFORMATIONS\\nCHEMISTERY\\n\\nCOMPUTER SCIENCE\\n\\nMATHEMATICS\\n\\nPHYSICS\\n\\nMATHEMATICS-COMPUTER SCIENCE\\n\\nMATERIAL SCIENCES\\n\\nPEDAGOGY ACTIVITES\\nTimetable\\n\\nPEDAGOGY COMMITTEES\\n\\nEXAMS\\n\\nSTUDENT INTERNSHIPS\\n\\nSCIENTIFIC\\nBoards\\nTHE SCIENTIFIC BOARD\\nCOMPOSITION OF THE BOARD\\n\\nMEETINGS CALENDAR\\n\\nREPORT OF MEETINGS\\n\\nCSD CHEMISTERY\\nCOMPOSITION OF THE COMMITTEE\\n\\nMEETINGS CALENDAR\\n\\nCSD COMPUTER SCIENCE\\nCOMPOSITION OF THE COMMITTEE\\n\\nMEETINGS CALENDAR\\n\\nCSD MATHEMATICS\\nCOMPOSITION OF THE COMMITTEE\\n\\nMEETINGS CALENDAR\\n\\nCSD PHYSICS\\nMEETINGS CALENDAR\\n\\nCOMPOSITION OF THE COMMITTEE\\n\\nLABORATORIES\\nof Researche\\n\\nDevelopment of new materials and their characterizations\\n\\nHigh resolution assay analysis and characterization\\n\\nChemistry, Materials Engineering and Nano structures\\n\\nApplied mathematics\\n\\nOptoelectronics and components\\n\\nFundamental and numerical mathematics\\n\\nStudy of surfaces and interfaces of solid materials\\n\\nQuantum physics and dynamical systems\\n\\nNetworks and Distributed Systems\\nLIBRARY\\nof the Faculty\\n\\nFACULTY CATALOG\\n\\nUNIVERSITY CATALOG\\n\\nSNDL\\nElearning\\nPedagogy Guide\\nConnexion\\nMail\\nFacebook\\nPersonal pages\\nManagement\\n\\nCYBERSECURITY CONFERENCE\\nRead more\\nLINUX COMPETITION\\nRead more\\nEXAMS AND PHONE\\nRead more\\nEXAMS AND FRAUD\\nRead more\\nSECOND SEMESTER EXAM SCHEDULES\\nRead more\\nTO THE DOCTORAL STUDENTS\\nRead more\\nTO L3 AND M1 STUDENTS\\nRead more\\nTO L3 STUDENTS\\nRead more\\nTO L1 AND L2 STUDENTS\\nRead more\\nLESSON PLANNING\\nRead more\\nMASTER'S THESIS\\nRead more\\nMASTER'S STUDENTS\\nRead more\\nPERMANENT ROOMS\\nRead more\\nFOR STUDENTS\\nMoodle access\\nRead more\\nChemistry\\nComputer Science\\nMathematics\\nPhysics\\nTC-MI\\nTC-SM\\n\\nOur dreams weigh the mountains gracefully.\\n\\n\\nDOCTORATE THESIS DEFENSE, L. DEBACHE:\\nOn May 19th, 2024 at 17:00\\n\\n\\nDOCTORATE THESIS DEFENSE, A. BENAIDJA:\\nOn May 14th, 2024 at 17:00\\n\\nTEACHING / GRADUATION\\nACADEMIC CALENDAR\\n1st meetings of the pedagogy committees\\nFrom Sunday 03 to Thursday 07 March 2024\\n2nd meetings of the pedagogy committees\\nFrom Sunday 21 to Thursday 25 April 2024\\nSpring holiday\\nFrom Friday, March 22nd to Friday, April 5th, 2024\\nEnd of the semester\\nThursday, May 16th\\nSecond semester exams\\nStarting from Sunday, May 19th\\nExam paper consultations\\nStarting from Sunday, June 2nd\\nSecond semester make-up exams\\nStarting from Tuesday, June 11th\\nFirst semester make-up exams\\nStarting from Saturday, June 22nd\\nMaster's presentations\\nFrom Saturday, May 18th to Saturday, June 22nd\\nDeliberations\\nStarting from Sunday, June 30th\\nPEDAGOGY\\nEXTENSION OF MASTER'S DEFENSES 1275\\nACADEMIC COORDINATORS\\nTIMETABLING OF DEPARTMENTS\\nORDER 1275\\nmaster's thesis\\nORDER 1023\\nORDER 397 OF 21 MARCH 2023\\nORDER 396 OF 21 MARCH 2023\\nORDER 171\\nEXECUTIVE DECREE 22-208\\neducation and training scheme\\nQUALITY ASSURANCE SYSTEM\\nCONTINUOUS ASSESSMENT NOTE\\nTD note\\nCOOPERATION\\nCOLOMBIAN SCHOLARSHIPS\\nITALIAN SCHOLARSHIPS\\nSCHOLARSHIPS FROM AZERBAIJAN\\nROMANIAN SCHOLARSHIPS\\nFRENCH SCHOLARSHIPS\\nERASMUS+ 2024\\nALGERO-AMERICAN COOPERATION\\nALGERIAN-TURKISH COOPERATION\\nTWINNING CONVENTION\\nINTERNATIONAL COOPERATION\\n002484\\nCONTACT\\nINTERNATIONAL MOBILITY\\nshort term\\n\\nPOST-GRADUATION / RESEARCH\\nDOCTORATE HABILITATION CUN\\nEXTENSION OF DOCTORAL DEFENSES\\nDOCTORATES SUPPORTED\\nTO THE DOCTORAL STUDENTS\\nAttendance at conferences\\nCOMPOSITION OF JURIES\\nDOCTORAL PROGRAM 2024/2025\\nLISTS OF JOURNALS A AND B\\nDOCTORAL THESIS PLATFORM\\nuser guide\\nZERO PAPER\\nHABILITATION NATIONAL COMMISSION\\norder 993 of August 02, 2022\\nEXECUTIVE ORDER\\neducation and training regime\\nARTICLE AND PRESENTATION\\nSCIENTIFIC EVENTS\\nSCIENTIFIC MEETING\\nIMRR2024\\nUSTHB CONGRESS\\nPROCEEDINGS OF THE SECOND INTERNATIONAL CONFERENCE AND SCHOOL ON RADIATION IMAGING AND NUCLEAR MEDICINE (ICSRI-2023)\\nSCIENTIFIC EVENTS IN 2024\\nCONFERENCE PARTICIPATION\\nCONFERENCE ORGANISATION\\nCORRESPONDENCE 1773\\nORGANISATION OF SCIENTIFIC EVENTS\\nrequest\\nSCIENTIFIC EVENTS\\nacts\\nRESEARCH\\nHYDROGEN THEMATIC NETWORK\\nFUNDING FOR 3RD CYCLE TRAINING\\nPNR PROJECTS\\nMarch 2021 decree\\nINNOVATION AND PATENTS\\nstatistiques\\nCNRST LAW APRIL 2020\\nRESEARCH LABORATORIES\\ndecree 21 august 2019\\n\\nSTUDENT SPACE\\nSPORTIVE AND CULTURAL ACTIVITIES\\nOTHERS\\nEXTENSION OF MASTER'S DEFENSES 1275\\nTO STUDENTS AT THE L3 AND M2 LEVELS\\nPreparation of diplomas\\nTO L3 STUDENTS\\nTO L1 AND L2 STUDENTS\\nMOBILITY\\nTHE ENTRANCE TO THE FACULTY\\nDIPLOME UNIVERSITAIRE STRATUP\\nSTARTUP TEMPLATE\\nGUIDE PROJET STARTUP\\nICONE DE DOLÉANCES\\nSCIENTIFIC CLUBS\\nSETTING UP A SCIENCE CLUB\\nGUIDE TO SCIENCE CLUBS\\nSCIENCE CLUB\\nSCA\\nSETIFIAN SCIENTIFIC CLUB\\nSeSC\\nSETTING UP A SCIENCE CLUB II\\n\\nGENERAL SECRETARY OF THE FACULTY\\nPHONE LINES\\nRead more\\n2015-2024 Faculté des Sciences, Tous droits réservés.\\n×\\n\", metadata={'source': 'fsciences_univ_setif__main_page_english.txt'})]\n"
          ]
        }
      ],
      "source": [
        "from pprint import pprint\n",
        "BASE_DIR=os.getcwd()\n",
        "docs = load_docs_locally()\n",
        "pprint(docs)"
      ]
    },
    {
      "cell_type": "code",
      "execution_count": 16,
      "metadata": {
        "id": "9l_0FSVTd8nY"
      },
      "outputs": [],
      "source": [
        "def chunk_data(docs):\n",
        "  text_splitter = RecursiveCharacterTextSplitter(chunk_size=250, chunk_overlap=0)\n",
        "  text = \"\\n\".join([doc.page_content for doc in docs])\n",
        "  # print(text)\n",
        "  chunks = text_splitter.split_text(text)\n",
        "  return chunks"
      ]
    },
    {
      "cell_type": "code",
      "execution_count": 17,
      "metadata": {
        "colab": {
          "base_uri": "https://localhost:8080/"
        },
        "id": "uK5pZASReVqN",
        "outputId": "6eec2ac7-0ce8-4a8f-8a99-da4fd6e9b0b5"
      },
      "outputs": [
        {
          "name": "stdout",
          "output_type": "stream",
          "text": [
            "136 chunk\n"
          ]
        }
      ],
      "source": [
        "chunks = chunk_data(docs)\n",
        "print(f\"{len(chunks)} chunk\")\n",
        "# pprint(chunks)"
      ]
    },
    {
      "cell_type": "code",
      "execution_count": 18,
      "metadata": {
        "id": "5Hr_17xmecb7"
      },
      "outputs": [],
      "source": [
        "def insert_or_create_index(index_name, chunks):\n",
        "    import pinecone\n",
        "    from pinecone import PodSpec\n",
        "    from langchain_community.vectorstores.pinecone import Pinecone\n",
        "    from langchain_google_genai.embeddings import GoogleGenerativeAIEmbeddings\n",
        "\n",
        "    pc = pinecone.Pinecone()\n",
        "    embedding = GoogleGenerativeAIEmbeddings(model=\"models/text-embedding-004\")\n",
        "    if index_name in pc.list_indexes().names():\n",
        "        print(f\"start fetching from {index_name}!\")\n",
        "        vector_store = Pinecone.from_existing_index(index_name, embedding)\n",
        "        print(f\"done fetching from {index_name}!\")\n",
        "    else:\n",
        "        print(f\"start creating from {index_name}!\")\n",
        "        pc.create_index(\n",
        "            name=index_name,\n",
        "            dimension=768,\n",
        "            metric=\"cosine\",\n",
        "            spec=PodSpec(environment=\"gcp-starter\"),\n",
        "        )\n",
        "        vector_store = Pinecone.from_texts(chunks, embedding, index_name=index_name)\n",
        "        print(f\"done creation of {index_name}!\")\n",
        "    return vector_store"
      ]
    },
    {
      "cell_type": "code",
      "execution_count": 19,
      "metadata": {},
      "outputs": [],
      "source": [
        "def delete_index(index_name=\"all\"):\n",
        "    from pinecone import Pinecone\n",
        "\n",
        "    pc = Pinecone()\n",
        "    if index_name == \"all\":\n",
        "        for index in pc.list_indexes().names():\n",
        "            pc.delete_index(index)\n",
        "    else:\n",
        "        pc.delete_index(index_name)\n",
        "    print(f\"deleted {index_name}\")"
      ]
    },
    {
      "cell_type": "code",
      "execution_count": 20,
      "metadata": {
        "id": "ZNRYWYXDeyP4"
      },
      "outputs": [],
      "source": [
        "def ask_question(query, vector_store):\n",
        "    from langchain.prompts import PromptTemplate\n",
        "    from langchain_google_genai import ChatGoogleGenerativeAI\n",
        "    from langchain.chains import RetrievalQA\n",
        "\n",
        "    template = \"\"\"\n",
        "  use the following pieces of context to answer the question at the end, translate the answer to arabic. if you don't the answer just say that you don't know the answer, don't try to make up an answer, keep the answer as concise as possible\n",
        "  {context}\n",
        "  Question:{question}\n",
        "  \"\"\"\n",
        "    QA_CHAIN_TEMPLATE = PromptTemplate.from_template(template)\n",
        "    pinecone_chain = RetrievalQA.from_chain_type(\n",
        "        llm=ChatGoogleGenerativeAI(model=\"gemini-pro\", temperature=1),\n",
        "        retriever=vector_store.as_retriever(\n",
        "            search_type=\"similarity\", search_kwargs={\"k\": 5}\n",
        "        ),\n",
        "        return_source_documents=True,\n",
        "        chain_type_kwargs={\"prompt\": QA_CHAIN_TEMPLATE},\n",
        "        verbose=True,\n",
        "    )\n",
        "\n",
        "    response = pinecone_chain({\"query\":query})\n",
        "    pprint(response)"
      ]
    },
    {
      "cell_type": "code",
      "execution_count": 21,
      "metadata": {
        "colab": {
          "base_uri": "https://localhost:8080/"
        },
        "id": "8KDZSk5LhVAT",
        "outputId": "16bec031-5176-444d-df63-cb6148fbebf5"
      },
      "outputs": [
        {
          "name": "stdout",
          "output_type": "stream",
          "text": [
            "deleted all\n",
            "start creating from test-index!\n",
            "done creation of test-index!\n",
            "<langchain_community.vectorstores.pinecone.Pinecone object at 0x00000134E34EB110>\n"
          ]
        }
      ],
      "source": [
        "delete_index()\n",
        "vector_store = insert_or_create_index(\"test-index\", chunks)\n",
        "\n",
        "pprint(vector_store)"
      ]
    },
    {
      "cell_type": "code",
      "execution_count": 21,
      "metadata": {
        "colab": {
          "base_uri": "https://localhost:8080/"
        },
        "id": "qQ_4mKYYe61y",
        "outputId": "563fa0f1-98b6-468e-a538-095d0b031c0e"
      },
      "outputs": [
        {
          "name": "stdout",
          "output_type": "stream",
          "text": [
            "\n",
            "\n",
            "\u001b[1m> Entering new RetrievalQA chain...\u001b[0m\n",
            "\n",
            "\u001b[1m> Finished chain.\u001b[0m\n",
            "{'query': 'what did Zelenskyy said in his speech',\n",
            " 'result': 'According to the context, Zelenskyy said in his speech to the '\n",
            "           'European Parliament \"Light will win over darkness\".\\n'\n",
            "           'نور سينتصر على الظلام',\n",
            " 'source_documents': [Document(page_content='From President Zelenskyy to every Ukrainian, their fearlessness, their courage, their determination, inspires the world.'),\n",
            "                      Document(page_content='And a proud Ukrainian people, who have known 30 years  of independence, have repeatedly shown that they will not tolerate anyone who tries to take their country backwards.'),\n",
            "                      Document(page_content='In this struggle as President Zelenskyy said in his speech to the European Parliament “Light will win over darkness.” The Ukrainian Ambassador to the United States is here tonight.'),\n",
            "                      Document(page_content='And we remain clear-eyed. The Ukrainians are fighting back with pure courage. But the next few days weeks, months, will be hard on them.'),\n",
            "                      Document(page_content='Putin’s latest attack on Ukraine was premeditated and unprovoked. \\n\\nHe rejected repeated efforts at diplomacy.')]}\n"
          ]
        }
      ],
      "source": [
        "ask_question(input(\"give your query\"), vector_store)"
      ]
    },
    {
      "cell_type": "code",
      "execution_count": 22,
      "metadata": {},
      "outputs": [],
      "source": [
        "def searching_with_custom_prompt(query, vector_store, search_type=\"llm\"):\n",
        "    from langchain.chains import ConversationalRetrievalChain\n",
        "    from langchain_google_genai import GoogleGenerativeAI\n",
        "    from langchain.memory import ConversationBufferMemory, FileChatMessageHistory\n",
        "    from langchain.prompts import (\n",
        "        ChatPromptTemplate,\n",
        "        HumanMessagePromptTemplate,\n",
        "        SystemMessagePromptTemplate,\n",
        "    )\n",
        "\n",
        "    memory = ConversationBufferMemory(\n",
        "        memory_key=\"chat_history\",\n",
        "        return_messages=True,\n",
        "        chat_memory=FileChatMessageHistory(\"chat_history.json\"),\n",
        "        input_key=\"question\",\n",
        "        output_key=\"answer\",\n",
        "    )\n",
        "\n",
        "    system_message_prompt = \"\"\"\n",
        "  use the following pieces of context to answer the question at the end. If you don't know the answer, just say that you don't know, don't try to make up an answer.\n",
        "  Context: ```{context}```\n",
        "  \"\"\"\n",
        "\n",
        "    user_message_prompt = \"\"\"\n",
        "  Question: ```{question}```\n",
        "  Chat History: ```{chat_history}```\n",
        "  \"\"\"\n",
        "\n",
        "    messages = [\n",
        "        SystemMessagePromptTemplate.from_template(system_message_prompt),\n",
        "        HumanMessagePromptTemplate.from_template(user_message_prompt),\n",
        "    ]\n",
        "\n",
        "    qa_prompt = ChatPromptTemplate.from_messages(messages)\n",
        "    llm = GoogleGenerativeAI(model=\"gemini-pro\")\n",
        "    chain = ConversationalRetrievalChain.from_llm(\n",
        "        llm=llm,\n",
        "        chain_type=\"stuff\",\n",
        "        retriever=vector_store.as_retriever(search_type=\"similarity\", search_kwargs={\"k\": 5}),\n",
        "        memory=memory,\n",
        "        combine_docs_chain_kwargs={\"prompt\": qa_prompt},\n",
        "        verbose=True,\n",
        "    )\n",
        "    return chain.invoke({\"question\": query})"
      ]
    },
    {
      "cell_type": "code",
      "execution_count": 23,
      "metadata": {},
      "outputs": [
        {
          "name": "stdout",
          "output_type": "stream",
          "text": [
            "\n",
            "\n",
            "\u001b[1m> Entering new StuffDocumentsChain chain...\u001b[0m\n",
            "\n",
            "\n",
            "\u001b[1m> Entering new LLMChain chain...\u001b[0m\n",
            "Prompt after formatting:\n",
            "\u001b[32;1m\u001b[1;3mSystem: \n",
            "  use the following pieces of context to answer the question at the end. If you don't know the answer, just say that you don't know, don't try to make up an answer.\n",
            "  Context: ```GENERAL SECRETARY OF THE FACULTY\n",
            "PHONE LINES\n",
            "Read more\n",
            "2015-2024 Faculté des Sciences, Tous droits réservés.\n",
            "×\n",
            "\n",
            "Q38 : Combien de matières sont enseignées en troisième année d'informatique ?  \n",
            "R : 4 matières.  \n",
            " \n",
            "Q39 : Comment calculer la moyenne ?  \n",
            "R : (0,4 * travaux pratiques + 0,6 * note de l'examen) * coefficient de la matière.\n",
            "\n",
            "Faculté des Sciences\n",
            "Toggle navigation\n",
            "UNIVERSITY SÉTIF 1\n",
            "FERHAT ABBAS\n",
            "FACULTY OF\n",
            "SCIENCES\n",
            "\n",
            "R : En accédant à votre compte sur l'application Moodle et en vous rendant à la page de \n",
            "choix pour sélectionner la spécialisation désirée parmi celles disponibles.\n",
            "\n",
            "supplémentaire ou la recherche, tels que des ateliers, des projets de recherche, des \n",
            "compétitions techniques, et des ateliers organisés par les collèges et les départements \n",
            "académiques.```\n",
            "  \n",
            "Human: \n",
            "  Question: ```comment calculer la moyenne```\n",
            "  Chat History: ``````\n",
            "  \u001b[0m\n",
            "\n",
            "\u001b[1m> Finished chain.\u001b[0m\n",
            "\n",
            "\u001b[1m> Finished chain.\u001b[0m\n",
            "(0,4 * travaux pratiques + 0,6 * note de l'examen) * coefficient de la matière\n",
            "\n",
            "\n",
            "\u001b[1m> Entering new LLMChain chain...\u001b[0m\n",
            "Prompt after formatting:\n",
            "\u001b[32;1m\u001b[1;3mGiven the following conversation and a follow up question, rephrase the follow up question to be a standalone question, in its original language.\n",
            "\n",
            "Chat History:\n",
            "\n",
            "Human: comment calculer la moyenne\n",
            "Assistant: (0,4 * travaux pratiques + 0,6 * note de l'examen) * coefficient de la matière\n",
            "Follow Up Input: \n",
            "Standalone question:\u001b[0m\n",
            "\n",
            "\u001b[1m> Finished chain.\u001b[0m\n",
            "\n",
            "\n",
            "\u001b[1m> Entering new StuffDocumentsChain chain...\u001b[0m\n",
            "\n",
            "\n",
            "\u001b[1m> Entering new LLMChain chain...\u001b[0m\n",
            "Prompt after formatting:\n",
            "\u001b[32;1m\u001b[1;3mSystem: \n",
            "  use the following pieces of context to answer the question at the end. If you don't know the answer, just say that you don't know, don't try to make up an answer.\n",
            "  Context: ```Q38 : Combien de matières sont enseignées en troisième année d'informatique ?  \n",
            "R : 4 matières.  \n",
            " \n",
            "Q39 : Comment calculer la moyenne ?  \n",
            "R : (0,4 * travaux pratiques + 0,6 * note de l'examen) * coefficient de la matière.\n",
            "\n",
            "GENERAL SECRETARY OF THE FACULTY\n",
            "PHONE LINES\n",
            "Read more\n",
            "2015-2024 Faculté des Sciences, Tous droits réservés.\n",
            "×\n",
            "\n",
            "R : En accédant à votre compte sur l'application Moodle et en vous rendant à la page de \n",
            "choix pour sélectionner la spécialisation désirée parmi celles disponibles.\n",
            "\n",
            "supplémentaire ou la recherche, tels que des ateliers, des projets de recherche, des \n",
            "compétitions techniques, et des ateliers organisés par les collèges et les départements \n",
            "académiques.\n",
            "\n",
            "demander de l'aide ou d e planifier une consultation ?  \n",
            "R19 : V ous pouvez communiquer avec votre professeur par courriel ou vous rendre à son \n",
            "bureau pendant les heures annoncées d'accueil des étudiants.```\n",
            "  \n",
            "Human: \n",
            "  Question: ```Comment calculer la moyenne ?```\n",
            "  Chat History: ```\n",
            "Human: comment calculer la moyenne\n",
            "Assistant: (0,4 * travaux pratiques + 0,6 * note de l'examen) * coefficient de la matière```\n",
            "  \u001b[0m\n",
            "\n",
            "\u001b[1m> Finished chain.\u001b[0m\n",
            "\n",
            "\u001b[1m> Finished chain.\u001b[0m\n",
            "(0,4 * travaux pratiques + 0,6 * note de l'examen) * coefficient de la matière\n"
          ]
        }
      ],
      "source": [
        "while True:\n",
        "    query = input(\"Enter your query: \")\n",
        "    if query.lower() in [\"exit\", \"quit\", \"/q\", \"\\\\q\"]:\n",
        "        break\n",
        "    result = searching_with_custom_prompt(query, vector_store, search_type=\"llm\")\n",
        "    import time\n",
        "\n",
        "    time.sleep(2)\n",
        "    print(result[\"answer\"])"
      ]
    }
  ],
  "metadata": {
    "colab": {
      "provenance": []
    },
    "kernelspec": {
      "display_name": "Python 3",
      "name": "python3"
    },
    "language_info": {
      "codemirror_mode": {
        "name": "ipython",
        "version": 3
      },
      "file_extension": ".py",
      "mimetype": "text/x-python",
      "name": "python",
      "nbconvert_exporter": "python",
      "pygments_lexer": "ipython3",
      "version": "3.12.2"
    }
  },
  "nbformat": 4,
  "nbformat_minor": 0
}
